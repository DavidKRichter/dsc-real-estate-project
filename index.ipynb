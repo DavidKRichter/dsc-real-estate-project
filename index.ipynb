{
 "cells": [
  {
   "cell_type": "markdown",
   "id": "db77dbf9",
   "metadata": {},
   "source": [
    "# King County Real Estate - Predicting Home Prices\n",
    "\n",
    "In this study, I'll be advising clients in King County, Washington who are interested in selling their homes. This study will look at two variables: \n",
    "\n",
    "- How much renovations can increase the value of a home.\n",
    "- The best month of year in which to sell a home.\n",
    "\n",
    "In order to determine the effect of renovations and month on home prices, I'm using home sale data to build a linear regression model that predicts the value of homes based on a range of variables. By including variables other than month and renovation in our model, we can determine with a higher degree of confidence how renovations and month are related to home prices.\n",
    "\n",
    "The data set used for this model includes data on home sales in King County, Washington from May 2014 through May 2015."
   ]
  },
  {
   "cell_type": "code",
   "execution_count": 1,
   "id": "959a1ce2",
   "metadata": {},
   "outputs": [],
   "source": [
    "#Importing necessary libraries.\n",
    "\n",
    "import pandas as pd\n",
    "import numpy as np\n",
    "import matplotlib.pyplot as plt\n",
    "%matplotlib inline"
   ]
  },
  {
   "cell_type": "markdown",
   "id": "92c5ad01",
   "metadata": {},
   "source": [
    "## Inspecting and Cleaning Data"
   ]
  },
  {
   "cell_type": "code",
   "execution_count": 2,
   "id": "3690200f",
   "metadata": {},
   "outputs": [],
   "source": [
    "#importing data set on King County \n",
    "\n",
    "df = pd.read_csv('data/kc_house_data.csv')"
   ]
  },
  {
   "cell_type": "code",
   "execution_count": 3,
   "id": "6798c45e",
   "metadata": {},
   "outputs": [
    {
     "data": {
      "text/html": [
       "<div>\n",
       "<style scoped>\n",
       "    .dataframe tbody tr th:only-of-type {\n",
       "        vertical-align: middle;\n",
       "    }\n",
       "\n",
       "    .dataframe tbody tr th {\n",
       "        vertical-align: top;\n",
       "    }\n",
       "\n",
       "    .dataframe thead th {\n",
       "        text-align: right;\n",
       "    }\n",
       "</style>\n",
       "<table border=\"1\" class=\"dataframe\">\n",
       "  <thead>\n",
       "    <tr style=\"text-align: right;\">\n",
       "      <th></th>\n",
       "      <th>id</th>\n",
       "      <th>date</th>\n",
       "      <th>price</th>\n",
       "      <th>bedrooms</th>\n",
       "      <th>bathrooms</th>\n",
       "      <th>sqft_living</th>\n",
       "      <th>sqft_lot</th>\n",
       "      <th>floors</th>\n",
       "      <th>waterfront</th>\n",
       "      <th>view</th>\n",
       "      <th>...</th>\n",
       "      <th>grade</th>\n",
       "      <th>sqft_above</th>\n",
       "      <th>sqft_basement</th>\n",
       "      <th>yr_built</th>\n",
       "      <th>yr_renovated</th>\n",
       "      <th>zipcode</th>\n",
       "      <th>lat</th>\n",
       "      <th>long</th>\n",
       "      <th>sqft_living15</th>\n",
       "      <th>sqft_lot15</th>\n",
       "    </tr>\n",
       "  </thead>\n",
       "  <tbody>\n",
       "    <tr>\n",
       "      <th>0</th>\n",
       "      <td>7129300520</td>\n",
       "      <td>10/13/2014</td>\n",
       "      <td>221900.0</td>\n",
       "      <td>3</td>\n",
       "      <td>1.00</td>\n",
       "      <td>1180</td>\n",
       "      <td>5650</td>\n",
       "      <td>1.0</td>\n",
       "      <td>NaN</td>\n",
       "      <td>NONE</td>\n",
       "      <td>...</td>\n",
       "      <td>7 Average</td>\n",
       "      <td>1180</td>\n",
       "      <td>0.0</td>\n",
       "      <td>1955</td>\n",
       "      <td>0.0</td>\n",
       "      <td>98178</td>\n",
       "      <td>47.5112</td>\n",
       "      <td>-122.257</td>\n",
       "      <td>1340</td>\n",
       "      <td>5650</td>\n",
       "    </tr>\n",
       "    <tr>\n",
       "      <th>1</th>\n",
       "      <td>6414100192</td>\n",
       "      <td>12/9/2014</td>\n",
       "      <td>538000.0</td>\n",
       "      <td>3</td>\n",
       "      <td>2.25</td>\n",
       "      <td>2570</td>\n",
       "      <td>7242</td>\n",
       "      <td>2.0</td>\n",
       "      <td>NO</td>\n",
       "      <td>NONE</td>\n",
       "      <td>...</td>\n",
       "      <td>7 Average</td>\n",
       "      <td>2170</td>\n",
       "      <td>400.0</td>\n",
       "      <td>1951</td>\n",
       "      <td>1991.0</td>\n",
       "      <td>98125</td>\n",
       "      <td>47.7210</td>\n",
       "      <td>-122.319</td>\n",
       "      <td>1690</td>\n",
       "      <td>7639</td>\n",
       "    </tr>\n",
       "    <tr>\n",
       "      <th>2</th>\n",
       "      <td>5631500400</td>\n",
       "      <td>2/25/2015</td>\n",
       "      <td>180000.0</td>\n",
       "      <td>2</td>\n",
       "      <td>1.00</td>\n",
       "      <td>770</td>\n",
       "      <td>10000</td>\n",
       "      <td>1.0</td>\n",
       "      <td>NO</td>\n",
       "      <td>NONE</td>\n",
       "      <td>...</td>\n",
       "      <td>6 Low Average</td>\n",
       "      <td>770</td>\n",
       "      <td>0.0</td>\n",
       "      <td>1933</td>\n",
       "      <td>NaN</td>\n",
       "      <td>98028</td>\n",
       "      <td>47.7379</td>\n",
       "      <td>-122.233</td>\n",
       "      <td>2720</td>\n",
       "      <td>8062</td>\n",
       "    </tr>\n",
       "    <tr>\n",
       "      <th>3</th>\n",
       "      <td>2487200875</td>\n",
       "      <td>12/9/2014</td>\n",
       "      <td>604000.0</td>\n",
       "      <td>4</td>\n",
       "      <td>3.00</td>\n",
       "      <td>1960</td>\n",
       "      <td>5000</td>\n",
       "      <td>1.0</td>\n",
       "      <td>NO</td>\n",
       "      <td>NONE</td>\n",
       "      <td>...</td>\n",
       "      <td>7 Average</td>\n",
       "      <td>1050</td>\n",
       "      <td>910.0</td>\n",
       "      <td>1965</td>\n",
       "      <td>0.0</td>\n",
       "      <td>98136</td>\n",
       "      <td>47.5208</td>\n",
       "      <td>-122.393</td>\n",
       "      <td>1360</td>\n",
       "      <td>5000</td>\n",
       "    </tr>\n",
       "    <tr>\n",
       "      <th>4</th>\n",
       "      <td>1954400510</td>\n",
       "      <td>2/18/2015</td>\n",
       "      <td>510000.0</td>\n",
       "      <td>3</td>\n",
       "      <td>2.00</td>\n",
       "      <td>1680</td>\n",
       "      <td>8080</td>\n",
       "      <td>1.0</td>\n",
       "      <td>NO</td>\n",
       "      <td>NONE</td>\n",
       "      <td>...</td>\n",
       "      <td>8 Good</td>\n",
       "      <td>1680</td>\n",
       "      <td>0.0</td>\n",
       "      <td>1987</td>\n",
       "      <td>0.0</td>\n",
       "      <td>98074</td>\n",
       "      <td>47.6168</td>\n",
       "      <td>-122.045</td>\n",
       "      <td>1800</td>\n",
       "      <td>7503</td>\n",
       "    </tr>\n",
       "  </tbody>\n",
       "</table>\n",
       "<p>5 rows × 21 columns</p>\n",
       "</div>"
      ],
      "text/plain": [
       "           id        date     price  bedrooms  bathrooms  sqft_living  \\\n",
       "0  7129300520  10/13/2014  221900.0         3       1.00         1180   \n",
       "1  6414100192   12/9/2014  538000.0         3       2.25         2570   \n",
       "2  5631500400   2/25/2015  180000.0         2       1.00          770   \n",
       "3  2487200875   12/9/2014  604000.0         4       3.00         1960   \n",
       "4  1954400510   2/18/2015  510000.0         3       2.00         1680   \n",
       "\n",
       "   sqft_lot  floors waterfront  view  ...          grade sqft_above  \\\n",
       "0      5650     1.0        NaN  NONE  ...      7 Average       1180   \n",
       "1      7242     2.0         NO  NONE  ...      7 Average       2170   \n",
       "2     10000     1.0         NO  NONE  ...  6 Low Average        770   \n",
       "3      5000     1.0         NO  NONE  ...      7 Average       1050   \n",
       "4      8080     1.0         NO  NONE  ...         8 Good       1680   \n",
       "\n",
       "   sqft_basement yr_built  yr_renovated  zipcode      lat     long  \\\n",
       "0            0.0     1955           0.0    98178  47.5112 -122.257   \n",
       "1          400.0     1951        1991.0    98125  47.7210 -122.319   \n",
       "2            0.0     1933           NaN    98028  47.7379 -122.233   \n",
       "3          910.0     1965           0.0    98136  47.5208 -122.393   \n",
       "4            0.0     1987           0.0    98074  47.6168 -122.045   \n",
       "\n",
       "   sqft_living15  sqft_lot15  \n",
       "0           1340        5650  \n",
       "1           1690        7639  \n",
       "2           2720        8062  \n",
       "3           1360        5000  \n",
       "4           1800        7503  \n",
       "\n",
       "[5 rows x 21 columns]"
      ]
     },
     "execution_count": 3,
     "metadata": {},
     "output_type": "execute_result"
    }
   ],
   "source": [
    "df.head()"
   ]
  },
  {
   "cell_type": "code",
   "execution_count": 4,
   "id": "046458e4",
   "metadata": {},
   "outputs": [
    {
     "name": "stdout",
     "output_type": "stream",
     "text": [
      "<class 'pandas.core.frame.DataFrame'>\n",
      "RangeIndex: 21597 entries, 0 to 21596\n",
      "Data columns (total 21 columns):\n",
      " #   Column         Non-Null Count  Dtype  \n",
      "---  ------         --------------  -----  \n",
      " 0   id             21597 non-null  int64  \n",
      " 1   date           21597 non-null  object \n",
      " 2   price          21597 non-null  float64\n",
      " 3   bedrooms       21597 non-null  int64  \n",
      " 4   bathrooms      21597 non-null  float64\n",
      " 5   sqft_living    21597 non-null  int64  \n",
      " 6   sqft_lot       21597 non-null  int64  \n",
      " 7   floors         21597 non-null  float64\n",
      " 8   waterfront     19221 non-null  object \n",
      " 9   view           21534 non-null  object \n",
      " 10  condition      21597 non-null  object \n",
      " 11  grade          21597 non-null  object \n",
      " 12  sqft_above     21597 non-null  int64  \n",
      " 13  sqft_basement  21597 non-null  object \n",
      " 14  yr_built       21597 non-null  int64  \n",
      " 15  yr_renovated   17755 non-null  float64\n",
      " 16  zipcode        21597 non-null  int64  \n",
      " 17  lat            21597 non-null  float64\n",
      " 18  long           21597 non-null  float64\n",
      " 19  sqft_living15  21597 non-null  int64  \n",
      " 20  sqft_lot15     21597 non-null  int64  \n",
      "dtypes: float64(6), int64(9), object(6)\n",
      "memory usage: 3.5+ MB\n"
     ]
    }
   ],
   "source": [
    "#inspecting the columns for null values and type object.\n",
    "df.info()"
   ]
  },
  {
   "cell_type": "code",
   "execution_count": 5,
   "id": "d95a190c",
   "metadata": {},
   "outputs": [],
   "source": [
    "#dropping unnecessary columns\n",
    "df = df.drop(['id','lat', 'long'], axis=1)"
   ]
  },
  {
   "cell_type": "markdown",
   "id": "9fd384d4",
   "metadata": {},
   "source": [
    "### Engineering 'month' feature"
   ]
  },
  {
   "cell_type": "code",
   "execution_count": 6,
   "id": "fae98776",
   "metadata": {},
   "outputs": [],
   "source": [
    "#creating new column for 'month'.\n",
    "\n",
    "df['month'] = df['date'].apply(lambda x: int(x.split('/')[0])).apply(lambda x: str(x))\n",
    "df = df.drop('date', axis=1)"
   ]
  },
  {
   "cell_type": "markdown",
   "id": "3ea8fe01",
   "metadata": {},
   "source": [
    "### Converting 'waterfront', 'view', 'condition' and 'grade' to numerical values "
   ]
  },
  {
   "cell_type": "code",
   "execution_count": 7,
   "id": "f80ee00a",
   "metadata": {},
   "outputs": [
    {
     "data": {
      "text/plain": [
       "NO     19075\n",
       "YES      146\n",
       "Name: waterfront, dtype: int64"
      ]
     },
     "execution_count": 7,
     "metadata": {},
     "output_type": "execute_result"
    }
   ],
   "source": [
    "#inspecting waterfront column\n",
    "df['waterfront'].value_counts()"
   ]
  },
  {
   "cell_type": "code",
   "execution_count": 8,
   "id": "f6907df7",
   "metadata": {},
   "outputs": [],
   "source": [
    "#converting waterfront column to binary values\n",
    "\n",
    "df['waterfront'] = df['waterfront'].fillna('NO')\n",
    "waterfront_dictionary = {'NO':0, 'YES':1}\n",
    "df['waterfront'] = df['waterfront'].map(waterfront_dictionary)"
   ]
  },
  {
   "cell_type": "code",
   "execution_count": 9,
   "id": "dc4bd15b",
   "metadata": {},
   "outputs": [
    {
     "data": {
      "text/plain": [
       "NONE         19422\n",
       "AVERAGE        957\n",
       "GOOD           508\n",
       "FAIR           330\n",
       "EXCELLENT      317\n",
       "Name: view, dtype: int64"
      ]
     },
     "execution_count": 9,
     "metadata": {},
     "output_type": "execute_result"
    }
   ],
   "source": [
    "#inspecting view column\n",
    "df['view'].value_counts()"
   ]
  },
  {
   "cell_type": "code",
   "execution_count": 10,
   "id": "05773cdc",
   "metadata": {},
   "outputs": [],
   "source": [
    "#converting view column values to numerical \n",
    "\n",
    "df['view'] = df['view'].fillna('NONE')\n",
    "view_dictionary = {'NONE': 0, 'FAIR': 1, 'AVERAGE': 2, 'GOOD': 3, 'EXCELLENT': 4}\n",
    "df['view'] = df['view'].map(view_dictionary)"
   ]
  },
  {
   "cell_type": "code",
   "execution_count": 11,
   "id": "dbc4274d",
   "metadata": {},
   "outputs": [
    {
     "data": {
      "text/plain": [
       "Average      14020\n",
       "Good          5677\n",
       "Very Good     1701\n",
       "Fair           170\n",
       "Poor            29\n",
       "Name: condition, dtype: int64"
      ]
     },
     "execution_count": 11,
     "metadata": {},
     "output_type": "execute_result"
    }
   ],
   "source": [
    "#inspecting condition column\n",
    "df['condition'].value_counts()"
   ]
  },
  {
   "cell_type": "code",
   "execution_count": 12,
   "id": "2f02a146",
   "metadata": {},
   "outputs": [],
   "source": [
    "#converting condition column values to numerical \n",
    "condition_dictionary = {'Poor': 0, 'Fair': 1, 'Average': 2, 'Good': 3, 'Very Good': 4}\n",
    "df['condition'] = df['condition'].map(condition_dictionary)"
   ]
  },
  {
   "cell_type": "code",
   "execution_count": 13,
   "id": "17fe9555",
   "metadata": {},
   "outputs": [
    {
     "data": {
      "text/plain": [
       "7 Average        8974\n",
       "8 Good           6065\n",
       "9 Better         2615\n",
       "6 Low Average    2038\n",
       "10 Very Good     1134\n",
       "11 Excellent      399\n",
       "5 Fair            242\n",
       "12 Luxury          89\n",
       "4 Low              27\n",
       "13 Mansion         13\n",
       "3 Poor              1\n",
       "Name: grade, dtype: int64"
      ]
     },
     "execution_count": 13,
     "metadata": {},
     "output_type": "execute_result"
    }
   ],
   "source": [
    "#inspecting grade column\n",
    "\n",
    "df['grade'].value_counts()"
   ]
  },
  {
   "cell_type": "code",
   "execution_count": 14,
   "id": "aa329279",
   "metadata": {},
   "outputs": [],
   "source": [
    "#converting grade column values to numerical \n",
    "\n",
    "df['grade'] = df['grade'].apply(lambda x: x.split()[0]).astype(int)"
   ]
  },
  {
   "cell_type": "markdown",
   "id": "6f7421a2",
   "metadata": {},
   "source": [
    "### Cleaning 'sqft_basement' values"
   ]
  },
  {
   "cell_type": "code",
   "execution_count": 15,
   "id": "6d455cc5",
   "metadata": {},
   "outputs": [
    {
     "data": {
      "text/plain": [
       "0.0       12826\n",
       "?           454\n",
       "600.0       217\n",
       "500.0       209\n",
       "700.0       208\n",
       "          ...  \n",
       "1920.0        1\n",
       "3480.0        1\n",
       "2730.0        1\n",
       "2720.0        1\n",
       "248.0         1\n",
       "Name: sqft_basement, Length: 304, dtype: int64"
      ]
     },
     "execution_count": 15,
     "metadata": {},
     "output_type": "execute_result"
    }
   ],
   "source": [
    "#inspecting sqft_basement column\n",
    "\n",
    "df['sqft_basement'].value_counts()"
   ]
  },
  {
   "cell_type": "code",
   "execution_count": 16,
   "id": "76583545",
   "metadata": {},
   "outputs": [],
   "source": [
    "#converting sqft_basement values to numerical, labeling '?' values as zero \n",
    "\n",
    "df['sqft_basement'] = df['sqft_basement'].apply(lambda x: 0 if x=='?' else x)\n",
    "df['sqft_basement'] = df['sqft_basement'].astype(float)\n"
   ]
  },
  {
   "cell_type": "code",
   "execution_count": 17,
   "id": "b0ef7028",
   "metadata": {},
   "outputs": [
    {
     "data": {
      "text/html": [
       "<div>\n",
       "<style scoped>\n",
       "    .dataframe tbody tr th:only-of-type {\n",
       "        vertical-align: middle;\n",
       "    }\n",
       "\n",
       "    .dataframe tbody tr th {\n",
       "        vertical-align: top;\n",
       "    }\n",
       "\n",
       "    .dataframe thead th {\n",
       "        text-align: right;\n",
       "    }\n",
       "</style>\n",
       "<table border=\"1\" class=\"dataframe\">\n",
       "  <thead>\n",
       "    <tr style=\"text-align: right;\">\n",
       "      <th></th>\n",
       "      <th>price</th>\n",
       "      <th>bedrooms</th>\n",
       "      <th>bathrooms</th>\n",
       "      <th>sqft_living</th>\n",
       "      <th>sqft_lot</th>\n",
       "      <th>floors</th>\n",
       "      <th>waterfront</th>\n",
       "      <th>view</th>\n",
       "      <th>condition</th>\n",
       "      <th>grade</th>\n",
       "      <th>sqft_above</th>\n",
       "      <th>sqft_basement</th>\n",
       "      <th>yr_built</th>\n",
       "      <th>yr_renovated</th>\n",
       "      <th>zipcode</th>\n",
       "      <th>sqft_living15</th>\n",
       "      <th>sqft_lot15</th>\n",
       "    </tr>\n",
       "  </thead>\n",
       "  <tbody>\n",
       "    <tr>\n",
       "      <th>count</th>\n",
       "      <td>2.159700e+04</td>\n",
       "      <td>21597.000000</td>\n",
       "      <td>21597.000000</td>\n",
       "      <td>21597.000000</td>\n",
       "      <td>2.159700e+04</td>\n",
       "      <td>21597.000000</td>\n",
       "      <td>21597.000000</td>\n",
       "      <td>21597.000000</td>\n",
       "      <td>21597.000000</td>\n",
       "      <td>21597.000000</td>\n",
       "      <td>21597.000000</td>\n",
       "      <td>21597.000000</td>\n",
       "      <td>21597.000000</td>\n",
       "      <td>17755.000000</td>\n",
       "      <td>21597.000000</td>\n",
       "      <td>21597.000000</td>\n",
       "      <td>21597.000000</td>\n",
       "    </tr>\n",
       "    <tr>\n",
       "      <th>mean</th>\n",
       "      <td>5.402966e+05</td>\n",
       "      <td>3.373200</td>\n",
       "      <td>2.115826</td>\n",
       "      <td>2080.321850</td>\n",
       "      <td>1.509941e+04</td>\n",
       "      <td>1.494096</td>\n",
       "      <td>0.006760</td>\n",
       "      <td>0.233181</td>\n",
       "      <td>2.409825</td>\n",
       "      <td>7.657915</td>\n",
       "      <td>1788.596842</td>\n",
       "      <td>285.716581</td>\n",
       "      <td>1970.999676</td>\n",
       "      <td>83.636778</td>\n",
       "      <td>98077.951845</td>\n",
       "      <td>1986.620318</td>\n",
       "      <td>12758.283512</td>\n",
       "    </tr>\n",
       "    <tr>\n",
       "      <th>std</th>\n",
       "      <td>3.673681e+05</td>\n",
       "      <td>0.926299</td>\n",
       "      <td>0.768984</td>\n",
       "      <td>918.106125</td>\n",
       "      <td>4.141264e+04</td>\n",
       "      <td>0.539683</td>\n",
       "      <td>0.081944</td>\n",
       "      <td>0.764673</td>\n",
       "      <td>0.650546</td>\n",
       "      <td>1.173200</td>\n",
       "      <td>827.759761</td>\n",
       "      <td>439.819830</td>\n",
       "      <td>29.375234</td>\n",
       "      <td>399.946414</td>\n",
       "      <td>53.513072</td>\n",
       "      <td>685.230472</td>\n",
       "      <td>27274.441950</td>\n",
       "    </tr>\n",
       "    <tr>\n",
       "      <th>min</th>\n",
       "      <td>7.800000e+04</td>\n",
       "      <td>1.000000</td>\n",
       "      <td>0.500000</td>\n",
       "      <td>370.000000</td>\n",
       "      <td>5.200000e+02</td>\n",
       "      <td>1.000000</td>\n",
       "      <td>0.000000</td>\n",
       "      <td>0.000000</td>\n",
       "      <td>0.000000</td>\n",
       "      <td>3.000000</td>\n",
       "      <td>370.000000</td>\n",
       "      <td>0.000000</td>\n",
       "      <td>1900.000000</td>\n",
       "      <td>0.000000</td>\n",
       "      <td>98001.000000</td>\n",
       "      <td>399.000000</td>\n",
       "      <td>651.000000</td>\n",
       "    </tr>\n",
       "    <tr>\n",
       "      <th>25%</th>\n",
       "      <td>3.220000e+05</td>\n",
       "      <td>3.000000</td>\n",
       "      <td>1.750000</td>\n",
       "      <td>1430.000000</td>\n",
       "      <td>5.040000e+03</td>\n",
       "      <td>1.000000</td>\n",
       "      <td>0.000000</td>\n",
       "      <td>0.000000</td>\n",
       "      <td>2.000000</td>\n",
       "      <td>7.000000</td>\n",
       "      <td>1190.000000</td>\n",
       "      <td>0.000000</td>\n",
       "      <td>1951.000000</td>\n",
       "      <td>0.000000</td>\n",
       "      <td>98033.000000</td>\n",
       "      <td>1490.000000</td>\n",
       "      <td>5100.000000</td>\n",
       "    </tr>\n",
       "    <tr>\n",
       "      <th>50%</th>\n",
       "      <td>4.500000e+05</td>\n",
       "      <td>3.000000</td>\n",
       "      <td>2.250000</td>\n",
       "      <td>1910.000000</td>\n",
       "      <td>7.618000e+03</td>\n",
       "      <td>1.500000</td>\n",
       "      <td>0.000000</td>\n",
       "      <td>0.000000</td>\n",
       "      <td>2.000000</td>\n",
       "      <td>7.000000</td>\n",
       "      <td>1560.000000</td>\n",
       "      <td>0.000000</td>\n",
       "      <td>1975.000000</td>\n",
       "      <td>0.000000</td>\n",
       "      <td>98065.000000</td>\n",
       "      <td>1840.000000</td>\n",
       "      <td>7620.000000</td>\n",
       "    </tr>\n",
       "    <tr>\n",
       "      <th>75%</th>\n",
       "      <td>6.450000e+05</td>\n",
       "      <td>4.000000</td>\n",
       "      <td>2.500000</td>\n",
       "      <td>2550.000000</td>\n",
       "      <td>1.068500e+04</td>\n",
       "      <td>2.000000</td>\n",
       "      <td>0.000000</td>\n",
       "      <td>0.000000</td>\n",
       "      <td>3.000000</td>\n",
       "      <td>8.000000</td>\n",
       "      <td>2210.000000</td>\n",
       "      <td>550.000000</td>\n",
       "      <td>1997.000000</td>\n",
       "      <td>0.000000</td>\n",
       "      <td>98118.000000</td>\n",
       "      <td>2360.000000</td>\n",
       "      <td>10083.000000</td>\n",
       "    </tr>\n",
       "    <tr>\n",
       "      <th>max</th>\n",
       "      <td>7.700000e+06</td>\n",
       "      <td>33.000000</td>\n",
       "      <td>8.000000</td>\n",
       "      <td>13540.000000</td>\n",
       "      <td>1.651359e+06</td>\n",
       "      <td>3.500000</td>\n",
       "      <td>1.000000</td>\n",
       "      <td>4.000000</td>\n",
       "      <td>4.000000</td>\n",
       "      <td>13.000000</td>\n",
       "      <td>9410.000000</td>\n",
       "      <td>4820.000000</td>\n",
       "      <td>2015.000000</td>\n",
       "      <td>2015.000000</td>\n",
       "      <td>98199.000000</td>\n",
       "      <td>6210.000000</td>\n",
       "      <td>871200.000000</td>\n",
       "    </tr>\n",
       "  </tbody>\n",
       "</table>\n",
       "</div>"
      ],
      "text/plain": [
       "              price      bedrooms     bathrooms   sqft_living      sqft_lot  \\\n",
       "count  2.159700e+04  21597.000000  21597.000000  21597.000000  2.159700e+04   \n",
       "mean   5.402966e+05      3.373200      2.115826   2080.321850  1.509941e+04   \n",
       "std    3.673681e+05      0.926299      0.768984    918.106125  4.141264e+04   \n",
       "min    7.800000e+04      1.000000      0.500000    370.000000  5.200000e+02   \n",
       "25%    3.220000e+05      3.000000      1.750000   1430.000000  5.040000e+03   \n",
       "50%    4.500000e+05      3.000000      2.250000   1910.000000  7.618000e+03   \n",
       "75%    6.450000e+05      4.000000      2.500000   2550.000000  1.068500e+04   \n",
       "max    7.700000e+06     33.000000      8.000000  13540.000000  1.651359e+06   \n",
       "\n",
       "             floors    waterfront          view     condition         grade  \\\n",
       "count  21597.000000  21597.000000  21597.000000  21597.000000  21597.000000   \n",
       "mean       1.494096      0.006760      0.233181      2.409825      7.657915   \n",
       "std        0.539683      0.081944      0.764673      0.650546      1.173200   \n",
       "min        1.000000      0.000000      0.000000      0.000000      3.000000   \n",
       "25%        1.000000      0.000000      0.000000      2.000000      7.000000   \n",
       "50%        1.500000      0.000000      0.000000      2.000000      7.000000   \n",
       "75%        2.000000      0.000000      0.000000      3.000000      8.000000   \n",
       "max        3.500000      1.000000      4.000000      4.000000     13.000000   \n",
       "\n",
       "         sqft_above  sqft_basement      yr_built  yr_renovated       zipcode  \\\n",
       "count  21597.000000   21597.000000  21597.000000  17755.000000  21597.000000   \n",
       "mean    1788.596842     285.716581   1970.999676     83.636778  98077.951845   \n",
       "std      827.759761     439.819830     29.375234    399.946414     53.513072   \n",
       "min      370.000000       0.000000   1900.000000      0.000000  98001.000000   \n",
       "25%     1190.000000       0.000000   1951.000000      0.000000  98033.000000   \n",
       "50%     1560.000000       0.000000   1975.000000      0.000000  98065.000000   \n",
       "75%     2210.000000     550.000000   1997.000000      0.000000  98118.000000   \n",
       "max     9410.000000    4820.000000   2015.000000   2015.000000  98199.000000   \n",
       "\n",
       "       sqft_living15     sqft_lot15  \n",
       "count   21597.000000   21597.000000  \n",
       "mean     1986.620318   12758.283512  \n",
       "std       685.230472   27274.441950  \n",
       "min       399.000000     651.000000  \n",
       "25%      1490.000000    5100.000000  \n",
       "50%      1840.000000    7620.000000  \n",
       "75%      2360.000000   10083.000000  \n",
       "max      6210.000000  871200.000000  "
      ]
     },
     "execution_count": 17,
     "metadata": {},
     "output_type": "execute_result"
    }
   ],
   "source": [
    "df.describe()"
   ]
  },
  {
   "cell_type": "markdown",
   "id": "0a0e2eae",
   "metadata": {},
   "source": [
    "### Engineering Renovation Features"
   ]
  },
  {
   "cell_type": "code",
   "execution_count": 18,
   "id": "0f4598c4",
   "metadata": {
    "scrolled": true
   },
   "outputs": [
    {
     "data": {
      "text/plain": [
       "0.0       17011\n",
       "2014.0       73\n",
       "2013.0       31\n",
       "2003.0       31\n",
       "2007.0       30\n",
       "          ...  \n",
       "1951.0        1\n",
       "1953.0        1\n",
       "1946.0        1\n",
       "1976.0        1\n",
       "1948.0        1\n",
       "Name: yr_renovated, Length: 70, dtype: int64"
      ]
     },
     "execution_count": 18,
     "metadata": {},
     "output_type": "execute_result"
    }
   ],
   "source": [
    "#inspecting renovation value counts\n",
    "df['yr_renovated'].value_counts()"
   ]
  },
  {
   "cell_type": "markdown",
   "id": "0bbe7bbe",
   "metadata": {},
   "source": [
    "Because there are so many houses that have not been renovated, many houses have a 'yr_renovated' value of zero. I'm therefore going to bin renovations by the five year period during which they took place, including only the four five year periods from the past twenty years, since dates before this are unlikely to affect the value of a home."
   ]
  },
  {
   "cell_type": "code",
   "execution_count": 19,
   "id": "3fa2468d",
   "metadata": {},
   "outputs": [
    {
     "data": {
      "text/plain": [
       "<AxesSubplot:>"
      ]
     },
     "execution_count": 19,
     "metadata": {},
     "output_type": "execute_result"
    },
    {
     "data": {
      "image/png": "[encoded data removed]",
      "text/plain": [
       "<Figure size 432x288 with 1 Axes>"
      ]
     },
     "metadata": {
      "needs_background": "light"
     },
     "output_type": "display_data"
    }
   ],
   "source": [
    "#inspecting renovation dates\n",
    "\n",
    "df['yr_renovated'].loc[df['yr_renovated']!=0].hist()"
   ]
  },
  {
   "cell_type": "code",
   "execution_count": 20,
   "id": "0a662d87",
   "metadata": {},
   "outputs": [],
   "source": [
    "#binning renovation dates from the past 20 years into four five year periods and encoding as binaries\n",
    "\n",
    "df['renovated_2011_2015'] = df['yr_renovated'].apply(lambda x: 1 if x>=2011 else 0)\n",
    "df['renovated_2006_2010'] = df['yr_renovated'].apply(lambda x: 1 if (x>=2006) & (x<2011) else 0)\n",
    "df['renovated_2001_2005'] = df['yr_renovated'].apply(lambda x: 1 if (x>=2001) & (x<2006) else 0)\n",
    "df['renovated_1996_2000'] = df['yr_renovated'].apply(lambda x: 1 if (x>=1996) & (x<2001) else 0)\n",
    "df = df.drop('yr_renovated', axis=1)"
   ]
  },
  {
   "cell_type": "markdown",
   "id": "cffecd1f",
   "metadata": {},
   "source": [
    "### Converting zipcodes and months to dummy variables"
   ]
  },
  {
   "cell_type": "code",
   "execution_count": 21,
   "id": "1344d066",
   "metadata": {},
   "outputs": [],
   "source": [
    "#converting zipcodes to dummies.\n",
    "df['zipcode'] = df['zipcode'].astype(str)\n",
    "zipcode_dummies = pd.get_dummies(df['zipcode'], prefix='zip', drop_first=False)\n",
    "df = df.drop('zipcode', axis=1)"
   ]
  },
  {
   "cell_type": "code",
   "execution_count": 22,
   "id": "005bec60",
   "metadata": {},
   "outputs": [],
   "source": [
    "#converting quarters to dummies, removing the first month to avoid multicollinearity. \n",
    "\n",
    "month_dummies = pd.get_dummies(df['month'], prefix='m', drop_first=True)\n",
    "df = df.drop('month', axis=1)"
   ]
  },
  {
   "cell_type": "markdown",
   "id": "3c5fd590",
   "metadata": {},
   "source": [
    "### Adding month dummies to dataframe\n",
    "\n",
    "For my baseline model, I'm leaving out zipcode dummies."
   ]
  },
  {
   "cell_type": "code",
   "execution_count": 23,
   "id": "1b2f715f",
   "metadata": {},
   "outputs": [],
   "source": [
    "#data frame with dummies included\n",
    "\n",
    "df = pd.concat([df, month_dummies], axis=1)"
   ]
  },
  {
   "cell_type": "markdown",
   "id": "3a58ed6d",
   "metadata": {},
   "source": [
    "## Evaluating the baseline model\n",
    "\n",
    "All data from the original data set (other than latitude and longitude) has now been converted to numerical or binary values. \n",
    "We're temporarily leaving zipcodes out of the model.\n",
    "\n",
    "Before testing our baseline model, we'll look at:\n",
    "- The distribution of the variables\n",
    "- Collinearity between variables\n",
    "\n",
    "If variables have non-normal distributions we can improve our model by applying the log function to the variables.\n",
    "\n",
    "If variables are highly collinear with each other, it means that we can't necessarily trust the coefficients associated with those variables. However, the inclusion of collinear variables may still improve the performance of the model. \n",
    "\n",
    "This means that we should only look for high collinearity with month and renovation variables, since these are the only variables that we are trying to provide advice to our clients about."
   ]
  },
  {
   "cell_type": "markdown",
   "id": "8a78aeb4",
   "metadata": {},
   "source": [
    "### Distribution"
   ]
  },
  {
   "cell_type": "code",
   "execution_count": 24,
   "id": "e996b68c",
   "metadata": {
    "scrolled": true
   },
   "outputs": [
    {
     "data": {
      "text/plain": [
       "array([[<AxesSubplot:title={'center':'price'}>,\n",
       "        <AxesSubplot:title={'center':'bedrooms'}>,\n",
       "        <AxesSubplot:title={'center':'bathrooms'}>,\n",
       "        <AxesSubplot:title={'center':'sqft_living'}>,\n",
       "        <AxesSubplot:title={'center':'sqft_lot'}>],\n",
       "       [<AxesSubplot:title={'center':'floors'}>,\n",
       "        <AxesSubplot:title={'center':'waterfront'}>,\n",
       "        <AxesSubplot:title={'center':'view'}>,\n",
       "        <AxesSubplot:title={'center':'condition'}>,\n",
       "        <AxesSubplot:title={'center':'grade'}>],\n",
       "       [<AxesSubplot:title={'center':'sqft_above'}>,\n",
       "        <AxesSubplot:title={'center':'sqft_basement'}>,\n",
       "        <AxesSubplot:title={'center':'yr_built'}>,\n",
       "        <AxesSubplot:title={'center':'sqft_living15'}>,\n",
       "        <AxesSubplot:title={'center':'sqft_lot15'}>],\n",
       "       [<AxesSubplot:title={'center':'renovated_2011_2015'}>,\n",
       "        <AxesSubplot:title={'center':'renovated_2006_2010'}>,\n",
       "        <AxesSubplot:title={'center':'renovated_2001_2005'}>,\n",
       "        <AxesSubplot:title={'center':'renovated_1996_2000'}>,\n",
       "        <AxesSubplot:title={'center':'m_10'}>],\n",
       "       [<AxesSubplot:title={'center':'m_11'}>,\n",
       "        <AxesSubplot:title={'center':'m_12'}>,\n",
       "        <AxesSubplot:title={'center':'m_2'}>,\n",
       "        <AxesSubplot:title={'center':'m_3'}>,\n",
       "        <AxesSubplot:title={'center':'m_4'}>],\n",
       "       [<AxesSubplot:title={'center':'m_5'}>,\n",
       "        <AxesSubplot:title={'center':'m_6'}>,\n",
       "        <AxesSubplot:title={'center':'m_7'}>,\n",
       "        <AxesSubplot:title={'center':'m_8'}>,\n",
       "        <AxesSubplot:title={'center':'m_9'}>]], dtype=object)"
      ]
     },
     "execution_count": 24,
     "metadata": {},
     "output_type": "execute_result"
    },
    {
     "data": {
      "image/png": "[encoded data removed]",
      "text/plain": [
       "<Figure size 1152x1152 with 30 Axes>"
      ]
     },
     "metadata": {
      "needs_background": "light"
     },
     "output_type": "display_data"
    }
   ],
   "source": [
    "#inspecting distribution of variables\n",
    "df.hist(figsize=(16,16))"
   ]
  },
  {
   "cell_type": "markdown",
   "id": "35210ec6",
   "metadata": {},
   "source": [
    "We can see here that the target variable ('price') as well as all of the continuous predictive variables have non-normal distributions."
   ]
  },
  {
   "cell_type": "markdown",
   "id": "cda8056f",
   "metadata": {},
   "source": [
    "### Collinearity"
   ]
  },
  {
   "cell_type": "code",
   "execution_count": 25,
   "id": "1944a3fd",
   "metadata": {
    "scrolled": true
   },
   "outputs": [
    {
     "data": {
      "text/html": [
       "<div>\n",
       "<style scoped>\n",
       "    .dataframe tbody tr th:only-of-type {\n",
       "        vertical-align: middle;\n",
       "    }\n",
       "\n",
       "    .dataframe tbody tr th {\n",
       "        vertical-align: top;\n",
       "    }\n",
       "\n",
       "    .dataframe thead th {\n",
       "        text-align: right;\n",
       "    }\n",
       "</style>\n",
       "<table border=\"1\" class=\"dataframe\">\n",
       "  <thead>\n",
       "    <tr style=\"text-align: right;\">\n",
       "      <th></th>\n",
       "      <th>correlations</th>\n",
       "    </tr>\n",
       "    <tr>\n",
       "      <th>pairs</th>\n",
       "      <th></th>\n",
       "    </tr>\n",
       "  </thead>\n",
       "  <tbody>\n",
       "    <tr>\n",
       "      <th>(bedrooms, bedrooms)</th>\n",
       "      <td>1.000000</td>\n",
       "    </tr>\n",
       "    <tr>\n",
       "      <th>(sqft_living, sqft_above)</th>\n",
       "      <td>0.876448</td>\n",
       "    </tr>\n",
       "    <tr>\n",
       "      <th>(sqft_living, grade)</th>\n",
       "      <td>0.762779</td>\n",
       "    </tr>\n",
       "    <tr>\n",
       "      <th>(sqft_living, sqft_living15)</th>\n",
       "      <td>0.756402</td>\n",
       "    </tr>\n",
       "    <tr>\n",
       "      <th>(sqft_above, grade)</th>\n",
       "      <td>0.756073</td>\n",
       "    </tr>\n",
       "    <tr>\n",
       "      <th>(bathrooms, sqft_living)</th>\n",
       "      <td>0.755758</td>\n",
       "    </tr>\n",
       "    <tr>\n",
       "      <th>(sqft_above, sqft_living15)</th>\n",
       "      <td>0.731767</td>\n",
       "    </tr>\n",
       "    <tr>\n",
       "      <th>(sqft_lot, sqft_lot15)</th>\n",
       "      <td>0.718204</td>\n",
       "    </tr>\n",
       "    <tr>\n",
       "      <th>(sqft_living15, grade)</th>\n",
       "      <td>0.713867</td>\n",
       "    </tr>\n",
       "    <tr>\n",
       "      <th>(bathrooms, sqft_above)</th>\n",
       "      <td>0.686668</td>\n",
       "    </tr>\n",
       "    <tr>\n",
       "      <th>(grade, bathrooms)</th>\n",
       "      <td>0.665838</td>\n",
       "    </tr>\n",
       "    <tr>\n",
       "      <th>(bedrooms, sqft_living)</th>\n",
       "      <td>0.578212</td>\n",
       "    </tr>\n",
       "    <tr>\n",
       "      <th>(bathrooms, sqft_living15)</th>\n",
       "      <td>0.569884</td>\n",
       "    </tr>\n",
       "    <tr>\n",
       "      <th>(sqft_above, floors)</th>\n",
       "      <td>0.523989</td>\n",
       "    </tr>\n",
       "    <tr>\n",
       "      <th>(bedrooms, bathrooms)</th>\n",
       "      <td>0.514508</td>\n",
       "    </tr>\n",
       "    <tr>\n",
       "      <th>(bathrooms, yr_built)</th>\n",
       "      <td>0.507173</td>\n",
       "    </tr>\n",
       "    <tr>\n",
       "      <th>(floors, bathrooms)</th>\n",
       "      <td>0.502582</td>\n",
       "    </tr>\n",
       "    <tr>\n",
       "      <th>(floors, yr_built)</th>\n",
       "      <td>0.489193</td>\n",
       "    </tr>\n",
       "    <tr>\n",
       "      <th>(sqft_above, bedrooms)</th>\n",
       "      <td>0.479386</td>\n",
       "    </tr>\n",
       "    <tr>\n",
       "      <th>(floors, grade)</th>\n",
       "      <td>0.458794</td>\n",
       "    </tr>\n",
       "    <tr>\n",
       "      <th>(grade, yr_built)</th>\n",
       "      <td>0.447865</td>\n",
       "    </tr>\n",
       "    <tr>\n",
       "      <th>(sqft_basement, sqft_living)</th>\n",
       "      <td>0.428660</td>\n",
       "    </tr>\n",
       "    <tr>\n",
       "      <th>(yr_built, sqft_above)</th>\n",
       "      <td>0.424037</td>\n",
       "    </tr>\n",
       "    <tr>\n",
       "      <th>(bedrooms, sqft_living15)</th>\n",
       "      <td>0.393406</td>\n",
       "    </tr>\n",
       "    <tr>\n",
       "      <th>(waterfront, view)</th>\n",
       "      <td>0.380543</td>\n",
       "    </tr>\n",
       "    <tr>\n",
       "      <th>(yr_built, condition)</th>\n",
       "      <td>0.361592</td>\n",
       "    </tr>\n",
       "    <tr>\n",
       "      <th>(bedrooms, grade)</th>\n",
       "      <td>0.356563</td>\n",
       "    </tr>\n",
       "    <tr>\n",
       "      <th>(sqft_living, floors)</th>\n",
       "      <td>0.353953</td>\n",
       "    </tr>\n",
       "    <tr>\n",
       "      <th>(sqft_living15, yr_built)</th>\n",
       "      <td>0.326377</td>\n",
       "    </tr>\n",
       "    <tr>\n",
       "      <th>(yr_built, sqft_living)</th>\n",
       "      <td>0.318152</td>\n",
       "    </tr>\n",
       "  </tbody>\n",
       "</table>\n",
       "</div>"
      ],
      "text/plain": [
       "                              correlations\n",
       "pairs                                     \n",
       "(bedrooms, bedrooms)              1.000000\n",
       "(sqft_living, sqft_above)         0.876448\n",
       "(sqft_living, grade)              0.762779\n",
       "(sqft_living, sqft_living15)      0.756402\n",
       "(sqft_above, grade)               0.756073\n",
       "(bathrooms, sqft_living)          0.755758\n",
       "(sqft_above, sqft_living15)       0.731767\n",
       "(sqft_lot, sqft_lot15)            0.718204\n",
       "(sqft_living15, grade)            0.713867\n",
       "(bathrooms, sqft_above)           0.686668\n",
       "(grade, bathrooms)                0.665838\n",
       "(bedrooms, sqft_living)           0.578212\n",
       "(bathrooms, sqft_living15)        0.569884\n",
       "(sqft_above, floors)              0.523989\n",
       "(bedrooms, bathrooms)             0.514508\n",
       "(bathrooms, yr_built)             0.507173\n",
       "(floors, bathrooms)               0.502582\n",
       "(floors, yr_built)                0.489193\n",
       "(sqft_above, bedrooms)            0.479386\n",
       "(floors, grade)                   0.458794\n",
       "(grade, yr_built)                 0.447865\n",
       "(sqft_basement, sqft_living)      0.428660\n",
       "(yr_built, sqft_above)            0.424037\n",
       "(bedrooms, sqft_living15)         0.393406\n",
       "(waterfront, view)                0.380543\n",
       "(yr_built, condition)             0.361592\n",
       "(bedrooms, grade)                 0.356563\n",
       "(sqft_living, floors)             0.353953\n",
       "(sqft_living15, yr_built)         0.326377\n",
       "(yr_built, sqft_living)           0.318152"
      ]
     },
     "execution_count": 25,
     "metadata": {},
     "output_type": "execute_result"
    }
   ],
   "source": [
    "#looking for collinearity of predictive variables\n",
    "\n",
    "predictors = df.drop('price', axis=1)\n",
    "\n",
    "predictor=predictors.corr().abs().stack().reset_index().sort_values(0, ascending=False)\n",
    "\n",
    "predictor['pairs'] = list(zip(predictor.level_0, predictor.level_1))\n",
    "predictor.set_index(['pairs'], inplace = True)\n",
    "predictor.drop(columns=['level_1', 'level_0'], inplace = True)\n",
    "predictor.columns = ['correlations']\n",
    "predictor.drop_duplicates(inplace=True)\n",
    "\n",
    "predictor.head(30)"
   ]
  },
  {
   "cell_type": "markdown",
   "id": "527d70c9",
   "metadata": {},
   "source": [
    "While there is extremely high collinearity between many of the variables in the model, none of them are month or renovation variables, which means that we should be able to trust our model's metrics with regards to these variables."
   ]
  },
  {
   "cell_type": "markdown",
   "id": "d069e203",
   "metadata": {},
   "source": [
    "## Fitting and evaluating the baseline model"
   ]
  },
  {
   "cell_type": "code",
   "execution_count": 26,
   "id": "d8ac3388",
   "metadata": {
    "scrolled": true
   },
   "outputs": [
    {
     "data": {
      "text/html": [
       "<table class=\"simpletable\">\n",
       "<caption>OLS Regression Results</caption>\n",
       "<tr>\n",
       "  <th>Dep. Variable:</th>          <td>price</td>      <th>  R-squared:         </th>  <td>   0.657</td>  \n",
       "</tr>\n",
       "<tr>\n",
       "  <th>Model:</th>                   <td>OLS</td>       <th>  Adj. R-squared:    </th>  <td>   0.656</td>  \n",
       "</tr>\n",
       "<tr>\n",
       "  <th>Method:</th>             <td>Least Squares</td>  <th>  F-statistic:       </th>  <td>   1423.</td>  \n",
       "</tr>\n",
       "<tr>\n",
       "  <th>Date:</th>             <td>Fri, 29 Apr 2022</td> <th>  Prob (F-statistic):</th>   <td>  0.00</td>   \n",
       "</tr>\n",
       "<tr>\n",
       "  <th>Time:</th>                 <td>20:03:08</td>     <th>  Log-Likelihood:    </th> <td>-2.9584e+05</td>\n",
       "</tr>\n",
       "<tr>\n",
       "  <th>No. Observations:</th>      <td> 21597</td>      <th>  AIC:               </th>  <td>5.917e+05</td> \n",
       "</tr>\n",
       "<tr>\n",
       "  <th>Df Residuals:</th>          <td> 21567</td>      <th>  BIC:               </th>  <td>5.920e+05</td> \n",
       "</tr>\n",
       "<tr>\n",
       "  <th>Df Model:</th>              <td>    29</td>      <th>                     </th>      <td> </td>     \n",
       "</tr>\n",
       "<tr>\n",
       "  <th>Covariance Type:</th>      <td>nonrobust</td>    <th>                     </th>      <td> </td>     \n",
       "</tr>\n",
       "</table>\n",
       "<table class=\"simpletable\">\n",
       "<tr>\n",
       "           <td></td>              <th>coef</th>     <th>std err</th>      <th>t</th>      <th>P>|t|</th>  <th>[0.025</th>    <th>0.975]</th>  \n",
       "</tr>\n",
       "<tr>\n",
       "  <th>Intercept</th>           <td> 6.146e+06</td> <td> 1.33e+05</td> <td>   46.067</td> <td> 0.000</td> <td> 5.88e+06</td> <td> 6.41e+06</td>\n",
       "</tr>\n",
       "<tr>\n",
       "  <th>bedrooms</th>            <td>-3.967e+04</td> <td> 2029.083</td> <td>  -19.552</td> <td> 0.000</td> <td>-4.37e+04</td> <td>-3.57e+04</td>\n",
       "</tr>\n",
       "<tr>\n",
       "  <th>bathrooms</th>           <td> 4.524e+04</td> <td> 3489.188</td> <td>   12.965</td> <td> 0.000</td> <td> 3.84e+04</td> <td> 5.21e+04</td>\n",
       "</tr>\n",
       "<tr>\n",
       "  <th>sqft_living</th>         <td>  112.8364</td> <td>   19.338</td> <td>    5.835</td> <td> 0.000</td> <td>   74.933</td> <td>  150.740</td>\n",
       "</tr>\n",
       "<tr>\n",
       "  <th>sqft_lot</th>            <td>    0.0018</td> <td>    0.051</td> <td>    0.036</td> <td> 0.971</td> <td>   -0.098</td> <td>    0.102</td>\n",
       "</tr>\n",
       "<tr>\n",
       "  <th>floors</th>              <td> 2.735e+04</td> <td> 3776.553</td> <td>    7.243</td> <td> 0.000</td> <td>    2e+04</td> <td> 3.48e+04</td>\n",
       "</tr>\n",
       "<tr>\n",
       "  <th>waterfront</th>          <td> 6.145e+05</td> <td> 1.94e+04</td> <td>   31.687</td> <td> 0.000</td> <td> 5.76e+05</td> <td> 6.52e+05</td>\n",
       "</tr>\n",
       "<tr>\n",
       "  <th>view</th>                <td>  4.38e+04</td> <td> 2245.927</td> <td>   19.502</td> <td> 0.000</td> <td> 3.94e+04</td> <td> 4.82e+04</td>\n",
       "</tr>\n",
       "<tr>\n",
       "  <th>condition</th>           <td> 2.228e+04</td> <td> 2486.679</td> <td>    8.961</td> <td> 0.000</td> <td> 1.74e+04</td> <td> 2.72e+04</td>\n",
       "</tr>\n",
       "<tr>\n",
       "  <th>grade</th>               <td>   1.2e+05</td> <td> 2252.431</td> <td>   53.295</td> <td> 0.000</td> <td> 1.16e+05</td> <td> 1.24e+05</td>\n",
       "</tr>\n",
       "<tr>\n",
       "  <th>sqft_above</th>          <td>   48.1369</td> <td>   19.309</td> <td>    2.493</td> <td> 0.013</td> <td>   10.289</td> <td>   85.985</td>\n",
       "</tr>\n",
       "<tr>\n",
       "  <th>sqft_basement</th>       <td>   54.2527</td> <td>   19.164</td> <td>    2.831</td> <td> 0.005</td> <td>   16.689</td> <td>   91.816</td>\n",
       "</tr>\n",
       "<tr>\n",
       "  <th>yr_built</th>            <td>-3544.0732</td> <td>   68.901</td> <td>  -51.437</td> <td> 0.000</td> <td>-3679.124</td> <td>-3409.023</td>\n",
       "</tr>\n",
       "<tr>\n",
       "  <th>sqft_living15</th>       <td>   25.1960</td> <td>    3.594</td> <td>    7.011</td> <td> 0.000</td> <td>   18.152</td> <td>   32.240</td>\n",
       "</tr>\n",
       "<tr>\n",
       "  <th>sqft_lot15</th>          <td>   -0.5627</td> <td>    0.078</td> <td>   -7.197</td> <td> 0.000</td> <td>   -0.716</td> <td>   -0.409</td>\n",
       "</tr>\n",
       "<tr>\n",
       "  <th>renovated_2011_2015</th> <td>  2.83e+04</td> <td> 1.88e+04</td> <td>    1.503</td> <td> 0.133</td> <td>-8594.329</td> <td> 6.52e+04</td>\n",
       "</tr>\n",
       "<tr>\n",
       "  <th>renovated_2006_2010</th> <td> 1.377e+05</td> <td> 2.17e+04</td> <td>    6.359</td> <td> 0.000</td> <td> 9.53e+04</td> <td>  1.8e+05</td>\n",
       "</tr>\n",
       "<tr>\n",
       "  <th>renovated_2001_2005</th> <td> 1.184e+05</td> <td> 2.05e+04</td> <td>    5.784</td> <td> 0.000</td> <td> 7.83e+04</td> <td> 1.58e+05</td>\n",
       "</tr>\n",
       "<tr>\n",
       "  <th>renovated_1996_2000</th> <td> 1519.2894</td> <td> 2.39e+04</td> <td>    0.064</td> <td> 0.949</td> <td>-4.52e+04</td> <td> 4.83e+04</td>\n",
       "</tr>\n",
       "<tr>\n",
       "  <th>m_10</th>                <td> 3903.2827</td> <td> 8499.400</td> <td>    0.459</td> <td> 0.646</td> <td>-1.28e+04</td> <td> 2.06e+04</td>\n",
       "</tr>\n",
       "<tr>\n",
       "  <th>m_11</th>                <td>-1326.9099</td> <td> 8967.733</td> <td>   -0.148</td> <td> 0.882</td> <td>-1.89e+04</td> <td> 1.63e+04</td>\n",
       "</tr>\n",
       "<tr>\n",
       "  <th>m_12</th>                <td>-4826.0021</td> <td> 8891.352</td> <td>   -0.543</td> <td> 0.587</td> <td>-2.23e+04</td> <td> 1.26e+04</td>\n",
       "</tr>\n",
       "<tr>\n",
       "  <th>m_2</th>                 <td> 6540.0198</td> <td> 9204.076</td> <td>    0.711</td> <td> 0.477</td> <td>-1.15e+04</td> <td> 2.46e+04</td>\n",
       "</tr>\n",
       "<tr>\n",
       "  <th>m_3</th>                 <td> 3.421e+04</td> <td> 8497.888</td> <td>    4.026</td> <td> 0.000</td> <td> 1.76e+04</td> <td> 5.09e+04</td>\n",
       "</tr>\n",
       "<tr>\n",
       "  <th>m_4</th>                 <td> 3.815e+04</td> <td> 8264.684</td> <td>    4.616</td> <td> 0.000</td> <td>  2.2e+04</td> <td> 5.44e+04</td>\n",
       "</tr>\n",
       "<tr>\n",
       "  <th>m_5</th>                 <td> 1.358e+04</td> <td> 8169.952</td> <td>    1.663</td> <td> 0.096</td> <td>-2429.235</td> <td> 2.96e+04</td>\n",
       "</tr>\n",
       "<tr>\n",
       "  <th>m_6</th>                 <td> 3241.3079</td> <td> 8300.665</td> <td>    0.390</td> <td> 0.696</td> <td> -1.3e+04</td> <td> 1.95e+04</td>\n",
       "</tr>\n",
       "<tr>\n",
       "  <th>m_7</th>                 <td> -569.9191</td> <td> 8280.394</td> <td>   -0.069</td> <td> 0.945</td> <td>-1.68e+04</td> <td> 1.57e+04</td>\n",
       "</tr>\n",
       "<tr>\n",
       "  <th>m_8</th>                 <td> 4506.5786</td> <td> 8454.497</td> <td>    0.533</td> <td> 0.594</td> <td>-1.21e+04</td> <td> 2.11e+04</td>\n",
       "</tr>\n",
       "<tr>\n",
       "  <th>m_9</th>                 <td>-4239.7854</td> <td> 8584.416</td> <td>   -0.494</td> <td> 0.621</td> <td>-2.11e+04</td> <td> 1.26e+04</td>\n",
       "</tr>\n",
       "</table>\n",
       "<table class=\"simpletable\">\n",
       "<tr>\n",
       "  <th>Omnibus:</th>       <td>16319.932</td> <th>  Durbin-Watson:     </th>  <td>   1.980</td>  \n",
       "</tr>\n",
       "<tr>\n",
       "  <th>Prob(Omnibus):</th>  <td> 0.000</td>   <th>  Jarque-Bera (JB):  </th> <td>1191140.334</td>\n",
       "</tr>\n",
       "<tr>\n",
       "  <th>Skew:</th>           <td> 3.031</td>   <th>  Prob(JB):          </th>  <td>    0.00</td>  \n",
       "</tr>\n",
       "<tr>\n",
       "  <th>Kurtosis:</th>       <td>38.874</td>   <th>  Cond. No.          </th>  <td>4.61e+06</td>  \n",
       "</tr>\n",
       "</table><br/><br/>Notes:<br/>[1] Standard Errors assume that the covariance matrix of the errors is correctly specified.<br/>[2] The condition number is large, 4.61e+06. This might indicate that there are<br/>strong multicollinearity or other numerical problems."
      ],
      "text/plain": [
       "<class 'statsmodels.iolib.summary.Summary'>\n",
       "\"\"\"\n",
       "                            OLS Regression Results                            \n",
       "==============================================================================\n",
       "Dep. Variable:                  price   R-squared:                       0.657\n",
       "Model:                            OLS   Adj. R-squared:                  0.656\n",
       "Method:                 Least Squares   F-statistic:                     1423.\n",
       "Date:                Fri, 29 Apr 2022   Prob (F-statistic):               0.00\n",
       "Time:                        20:03:08   Log-Likelihood:            -2.9584e+05\n",
       "No. Observations:               21597   AIC:                         5.917e+05\n",
       "Df Residuals:                   21567   BIC:                         5.920e+05\n",
       "Df Model:                          29                                         \n",
       "Covariance Type:            nonrobust                                         \n",
       "=======================================================================================\n",
       "                          coef    std err          t      P>|t|      [0.025      0.975]\n",
       "---------------------------------------------------------------------------------------\n",
       "Intercept            6.146e+06   1.33e+05     46.067      0.000    5.88e+06    6.41e+06\n",
       "bedrooms            -3.967e+04   2029.083    -19.552      0.000   -4.37e+04   -3.57e+04\n",
       "bathrooms            4.524e+04   3489.188     12.965      0.000    3.84e+04    5.21e+04\n",
       "sqft_living           112.8364     19.338      5.835      0.000      74.933     150.740\n",
       "sqft_lot                0.0018      0.051      0.036      0.971      -0.098       0.102\n",
       "floors               2.735e+04   3776.553      7.243      0.000       2e+04    3.48e+04\n",
       "waterfront           6.145e+05   1.94e+04     31.687      0.000    5.76e+05    6.52e+05\n",
       "view                  4.38e+04   2245.927     19.502      0.000    3.94e+04    4.82e+04\n",
       "condition            2.228e+04   2486.679      8.961      0.000    1.74e+04    2.72e+04\n",
       "grade                  1.2e+05   2252.431     53.295      0.000    1.16e+05    1.24e+05\n",
       "sqft_above             48.1369     19.309      2.493      0.013      10.289      85.985\n",
       "sqft_basement          54.2527     19.164      2.831      0.005      16.689      91.816\n",
       "yr_built            -3544.0732     68.901    -51.437      0.000   -3679.124   -3409.023\n",
       "sqft_living15          25.1960      3.594      7.011      0.000      18.152      32.240\n",
       "sqft_lot15             -0.5627      0.078     -7.197      0.000      -0.716      -0.409\n",
       "renovated_2011_2015   2.83e+04   1.88e+04      1.503      0.133   -8594.329    6.52e+04\n",
       "renovated_2006_2010  1.377e+05   2.17e+04      6.359      0.000    9.53e+04     1.8e+05\n",
       "renovated_2001_2005  1.184e+05   2.05e+04      5.784      0.000    7.83e+04    1.58e+05\n",
       "renovated_1996_2000  1519.2894   2.39e+04      0.064      0.949   -4.52e+04    4.83e+04\n",
       "m_10                 3903.2827   8499.400      0.459      0.646   -1.28e+04    2.06e+04\n",
       "m_11                -1326.9099   8967.733     -0.148      0.882   -1.89e+04    1.63e+04\n",
       "m_12                -4826.0021   8891.352     -0.543      0.587   -2.23e+04    1.26e+04\n",
       "m_2                  6540.0198   9204.076      0.711      0.477   -1.15e+04    2.46e+04\n",
       "m_3                  3.421e+04   8497.888      4.026      0.000    1.76e+04    5.09e+04\n",
       "m_4                  3.815e+04   8264.684      4.616      0.000     2.2e+04    5.44e+04\n",
       "m_5                  1.358e+04   8169.952      1.663      0.096   -2429.235    2.96e+04\n",
       "m_6                  3241.3079   8300.665      0.390      0.696    -1.3e+04    1.95e+04\n",
       "m_7                  -569.9191   8280.394     -0.069      0.945   -1.68e+04    1.57e+04\n",
       "m_8                  4506.5786   8454.497      0.533      0.594   -1.21e+04    2.11e+04\n",
       "m_9                 -4239.7854   8584.416     -0.494      0.621   -2.11e+04    1.26e+04\n",
       "==============================================================================\n",
       "Omnibus:                    16319.932   Durbin-Watson:                   1.980\n",
       "Prob(Omnibus):                  0.000   Jarque-Bera (JB):          1191140.334\n",
       "Skew:                           3.031   Prob(JB):                         0.00\n",
       "Kurtosis:                      38.874   Cond. No.                     4.61e+06\n",
       "==============================================================================\n",
       "\n",
       "Notes:\n",
       "[1] Standard Errors assume that the covariance matrix of the errors is correctly specified.\n",
       "[2] The condition number is large, 4.61e+06. This might indicate that there are\n",
       "strong multicollinearity or other numerical problems.\n",
       "\"\"\""
      ]
     },
     "execution_count": 26,
     "metadata": {},
     "output_type": "execute_result"
    }
   ],
   "source": [
    "from statsmodels.formula.api import ols\n",
    "X = df.drop('price', axis=1)\n",
    "outcome = 'price'\n",
    "x_cols = list(X.columns)\n",
    "predictors = '+'.join(x_cols)\n",
    "formula = outcome + '~' + predictors\n",
    "model = ols(formula=formula, data=df).fit()\n",
    "model.summary()"
   ]
  },
  {
   "cell_type": "markdown",
   "id": "31d40860",
   "metadata": {},
   "source": [
    "With an R-squared value of 0.657, this baseline model accounts for almost two-thirds of the variance of our data set. \n",
    "\n",
    "It also shows a statistically significant benefit coming from renovations done between 2001 and 2005, and between 2005 and 2010, with renovations during this period improving home values by an average of around 120,000, with a standard error of 20,000. \n",
    "\n",
    "However, we should also be concerned that the model shows no significant effect of renovations done between 2011 and 2015, with the 95% confidence interval including both positive and negative values.\n",
    "\n",
    "Similarly, only February and March show a significant difference in home prices from the baseline January coefficient of 0, with an average prediction of 36,000 above January prices with a standard error of around 8,300.\n",
    "\n",
    "Finally, we have a high level of skew and kurtosis in this model, which means that there are a number of outliers, mostly in cases where the model is underestimating the value of homes with higher prices. To improve this model, we'll apply the log function to our continuous variables."
   ]
  },
  {
   "cell_type": "markdown",
   "id": "85dd750a",
   "metadata": {},
   "source": [
    "## Converting Continuous Data to Log Values"
   ]
  },
  {
   "cell_type": "code",
   "execution_count": 27,
   "id": "7d830e3c",
   "metadata": {},
   "outputs": [],
   "source": [
    "variables_to_log = ['sqft_living','sqft_lot', 'sqft_above', 'sqft_living15', 'sqft_lot15', 'price']"
   ]
  },
  {
   "cell_type": "code",
   "execution_count": 28,
   "id": "bf1e5cfa",
   "metadata": {},
   "outputs": [],
   "source": [
    "log_df = pd.DataFrame()\n",
    "for v in variables_to_log:\n",
    "    column_name = f'log_{v}'\n",
    "    log_df[column_name] = df[v].apply(lambda x: 1 if x==0 else x).apply(np.log)"
   ]
  },
  {
   "cell_type": "code",
   "execution_count": 29,
   "id": "14bf0d09",
   "metadata": {
    "scrolled": true
   },
   "outputs": [
    {
     "data": {
      "text/plain": [
       "array([[<AxesSubplot:title={'center':'log_sqft_living'}>,\n",
       "        <AxesSubplot:title={'center':'log_sqft_lot'}>],\n",
       "       [<AxesSubplot:title={'center':'log_sqft_above'}>,\n",
       "        <AxesSubplot:title={'center':'log_sqft_living15'}>],\n",
       "       [<AxesSubplot:title={'center':'log_sqft_lot15'}>,\n",
       "        <AxesSubplot:title={'center':'log_price'}>]], dtype=object)"
      ]
     },
     "execution_count": 29,
     "metadata": {},
     "output_type": "execute_result"
    },
    {
     "data": {
      "image/png": "[encoded data removed]",
      "text/plain": [
       "<Figure size 720x360 with 6 Axes>"
      ]
     },
     "metadata": {
      "needs_background": "light"
     },
     "output_type": "display_data"
    }
   ],
   "source": [
    "log_df.hist(figsize=(10, 5))"
   ]
  },
  {
   "cell_type": "markdown",
   "id": "7fcd9abc",
   "metadata": {},
   "source": [
    "As we can see here, the distributions of the continuous variables are much more normally distributed now."
   ]
  },
  {
   "cell_type": "code",
   "execution_count": 30,
   "id": "98a1647e",
   "metadata": {
    "scrolled": true
   },
   "outputs": [],
   "source": [
    "#dropping the original variables and adding the logged variables to the dataframe\n",
    "df_with_logs = df.drop(variables_to_log, axis=1)\n",
    "df_with_logs = pd.concat([df_with_logs, log_df], axis=1)"
   ]
  },
  {
   "cell_type": "markdown",
   "id": "a39affe8",
   "metadata": {},
   "source": [
    "## Model #2: Continuous Variables as Logarithms"
   ]
  },
  {
   "cell_type": "code",
   "execution_count": 31,
   "id": "d4e08cf5",
   "metadata": {
    "scrolled": true
   },
   "outputs": [
    {
     "data": {
      "text/html": [
       "<table class=\"simpletable\">\n",
       "<caption>OLS Regression Results</caption>\n",
       "<tr>\n",
       "  <th>Dep. Variable:</th>        <td>log_price</td>    <th>  R-squared:         </th> <td>   0.665</td> \n",
       "</tr>\n",
       "<tr>\n",
       "  <th>Model:</th>                   <td>OLS</td>       <th>  Adj. R-squared:    </th> <td>   0.665</td> \n",
       "</tr>\n",
       "<tr>\n",
       "  <th>Method:</th>             <td>Least Squares</td>  <th>  F-statistic:       </th> <td>   1478.</td> \n",
       "</tr>\n",
       "<tr>\n",
       "  <th>Date:</th>             <td>Fri, 29 Apr 2022</td> <th>  Prob (F-statistic):</th>  <td>  0.00</td>  \n",
       "</tr>\n",
       "<tr>\n",
       "  <th>Time:</th>                 <td>20:03:08</td>     <th>  Log-Likelihood:    </th> <td> -4976.0</td> \n",
       "</tr>\n",
       "<tr>\n",
       "  <th>No. Observations:</th>      <td> 21597</td>      <th>  AIC:               </th> <td>1.001e+04</td>\n",
       "</tr>\n",
       "<tr>\n",
       "  <th>Df Residuals:</th>          <td> 21567</td>      <th>  BIC:               </th> <td>1.025e+04</td>\n",
       "</tr>\n",
       "<tr>\n",
       "  <th>Df Model:</th>              <td>    29</td>      <th>                     </th>     <td> </td>    \n",
       "</tr>\n",
       "<tr>\n",
       "  <th>Covariance Type:</th>      <td>nonrobust</td>    <th>                     </th>     <td> </td>    \n",
       "</tr>\n",
       "</table>\n",
       "<table class=\"simpletable\">\n",
       "<tr>\n",
       "           <td></td>              <th>coef</th>     <th>std err</th>      <th>t</th>      <th>P>|t|</th>  <th>[0.025</th>    <th>0.975]</th>  \n",
       "</tr>\n",
       "<tr>\n",
       "  <th>Intercept</th>           <td>   18.4557</td> <td>    0.200</td> <td>   92.267</td> <td> 0.000</td> <td>   18.064</td> <td>   18.848</td>\n",
       "</tr>\n",
       "<tr>\n",
       "  <th>bedrooms</th>            <td>   -0.0334</td> <td>    0.003</td> <td>  -11.216</td> <td> 0.000</td> <td>   -0.039</td> <td>   -0.028</td>\n",
       "</tr>\n",
       "<tr>\n",
       "  <th>bathrooms</th>           <td>    0.0696</td> <td>    0.005</td> <td>   14.170</td> <td> 0.000</td> <td>    0.060</td> <td>    0.079</td>\n",
       "</tr>\n",
       "<tr>\n",
       "  <th>floors</th>              <td>    0.0735</td> <td>    0.006</td> <td>   12.352</td> <td> 0.000</td> <td>    0.062</td> <td>    0.085</td>\n",
       "</tr>\n",
       "<tr>\n",
       "  <th>waterfront</th>          <td>    0.4019</td> <td>    0.027</td> <td>   14.624</td> <td> 0.000</td> <td>    0.348</td> <td>    0.456</td>\n",
       "</tr>\n",
       "<tr>\n",
       "  <th>view</th>                <td>    0.0445</td> <td>    0.003</td> <td>   13.989</td> <td> 0.000</td> <td>    0.038</td> <td>    0.051</td>\n",
       "</tr>\n",
       "<tr>\n",
       "  <th>condition</th>           <td>    0.0450</td> <td>    0.004</td> <td>   12.743</td> <td> 0.000</td> <td>    0.038</td> <td>    0.052</td>\n",
       "</tr>\n",
       "<tr>\n",
       "  <th>grade</th>               <td>    0.2103</td> <td>    0.003</td> <td>   68.163</td> <td> 0.000</td> <td>    0.204</td> <td>    0.216</td>\n",
       "</tr>\n",
       "<tr>\n",
       "  <th>sqft_basement</th>       <td> 6.322e-05</td> <td> 1.25e-05</td> <td>    5.071</td> <td> 0.000</td> <td> 3.88e-05</td> <td> 8.77e-05</td>\n",
       "</tr>\n",
       "<tr>\n",
       "  <th>yr_built</th>            <td>   -0.0056</td> <td> 9.72e-05</td> <td>  -57.387</td> <td> 0.000</td> <td>   -0.006</td> <td>   -0.005</td>\n",
       "</tr>\n",
       "<tr>\n",
       "  <th>renovated_2011_2015</th> <td>    0.0889</td> <td>    0.027</td> <td>    3.337</td> <td> 0.001</td> <td>    0.037</td> <td>    0.141</td>\n",
       "</tr>\n",
       "<tr>\n",
       "  <th>renovated_2006_2010</th> <td>    0.1336</td> <td>    0.031</td> <td>    4.356</td> <td> 0.000</td> <td>    0.073</td> <td>    0.194</td>\n",
       "</tr>\n",
       "<tr>\n",
       "  <th>renovated_2001_2005</th> <td>    0.0800</td> <td>    0.029</td> <td>    2.760</td> <td> 0.006</td> <td>    0.023</td> <td>    0.137</td>\n",
       "</tr>\n",
       "<tr>\n",
       "  <th>renovated_1996_2000</th> <td>    0.0464</td> <td>    0.034</td> <td>    1.374</td> <td> 0.170</td> <td>   -0.020</td> <td>    0.113</td>\n",
       "</tr>\n",
       "<tr>\n",
       "  <th>m_10</th>                <td>    0.0094</td> <td>    0.012</td> <td>    0.784</td> <td> 0.433</td> <td>   -0.014</td> <td>    0.033</td>\n",
       "</tr>\n",
       "<tr>\n",
       "  <th>m_11</th>                <td>    0.0037</td> <td>    0.013</td> <td>    0.288</td> <td> 0.773</td> <td>   -0.021</td> <td>    0.029</td>\n",
       "</tr>\n",
       "<tr>\n",
       "  <th>m_12</th>                <td>   -0.0029</td> <td>    0.013</td> <td>   -0.232</td> <td> 0.816</td> <td>   -0.028</td> <td>    0.022</td>\n",
       "</tr>\n",
       "<tr>\n",
       "  <th>m_2</th>                 <td>    0.0125</td> <td>    0.013</td> <td>    0.959</td> <td> 0.338</td> <td>   -0.013</td> <td>    0.038</td>\n",
       "</tr>\n",
       "<tr>\n",
       "  <th>m_3</th>                 <td>    0.0588</td> <td>    0.012</td> <td>    4.889</td> <td> 0.000</td> <td>    0.035</td> <td>    0.082</td>\n",
       "</tr>\n",
       "<tr>\n",
       "  <th>m_4</th>                 <td>    0.0816</td> <td>    0.012</td> <td>    6.971</td> <td> 0.000</td> <td>    0.059</td> <td>    0.104</td>\n",
       "</tr>\n",
       "<tr>\n",
       "  <th>m_5</th>                 <td>    0.0323</td> <td>    0.012</td> <td>    2.797</td> <td> 0.005</td> <td>    0.010</td> <td>    0.055</td>\n",
       "</tr>\n",
       "<tr>\n",
       "  <th>m_6</th>                 <td>    0.0179</td> <td>    0.012</td> <td>    1.522</td> <td> 0.128</td> <td>   -0.005</td> <td>    0.041</td>\n",
       "</tr>\n",
       "<tr>\n",
       "  <th>m_7</th>                 <td>    0.0118</td> <td>    0.012</td> <td>    1.011</td> <td> 0.312</td> <td>   -0.011</td> <td>    0.035</td>\n",
       "</tr>\n",
       "<tr>\n",
       "  <th>m_8</th>                 <td>    0.0163</td> <td>    0.012</td> <td>    1.365</td> <td> 0.172</td> <td>   -0.007</td> <td>    0.040</td>\n",
       "</tr>\n",
       "<tr>\n",
       "  <th>m_9</th>                 <td>    0.0068</td> <td>    0.012</td> <td>    0.563</td> <td> 0.574</td> <td>   -0.017</td> <td>    0.031</td>\n",
       "</tr>\n",
       "<tr>\n",
       "  <th>log_sqft_living</th>     <td>    0.2675</td> <td>    0.026</td> <td>   10.348</td> <td> 0.000</td> <td>    0.217</td> <td>    0.318</td>\n",
       "</tr>\n",
       "<tr>\n",
       "  <th>log_sqft_lot</th>        <td>   -0.0107</td> <td>    0.006</td> <td>   -1.781</td> <td> 0.075</td> <td>   -0.023</td> <td>    0.001</td>\n",
       "</tr>\n",
       "<tr>\n",
       "  <th>log_sqft_above</th>      <td>    0.0200</td> <td>    0.024</td> <td>    0.842</td> <td> 0.400</td> <td>   -0.027</td> <td>    0.067</td>\n",
       "</tr>\n",
       "<tr>\n",
       "  <th>log_sqft_living15</th>   <td>    0.2716</td> <td>    0.011</td> <td>   25.721</td> <td> 0.000</td> <td>    0.251</td> <td>    0.292</td>\n",
       "</tr>\n",
       "<tr>\n",
       "  <th>log_sqft_lot15</th>      <td>   -0.0501</td> <td>    0.007</td> <td>   -7.613</td> <td> 0.000</td> <td>   -0.063</td> <td>   -0.037</td>\n",
       "</tr>\n",
       "</table>\n",
       "<table class=\"simpletable\">\n",
       "<tr>\n",
       "  <th>Omnibus:</th>       <td>66.178</td> <th>  Durbin-Watson:     </th> <td>   1.967</td>\n",
       "</tr>\n",
       "<tr>\n",
       "  <th>Prob(Omnibus):</th> <td> 0.000</td> <th>  Jarque-Bera (JB):  </th> <td>  80.453</td>\n",
       "</tr>\n",
       "<tr>\n",
       "  <th>Skew:</th>          <td>-0.062</td> <th>  Prob(JB):          </th> <td>3.39e-18</td>\n",
       "</tr>\n",
       "<tr>\n",
       "  <th>Kurtosis:</th>      <td> 3.272</td> <th>  Cond. No.          </th> <td>1.92e+05</td>\n",
       "</tr>\n",
       "</table><br/><br/>Notes:<br/>[1] Standard Errors assume that the covariance matrix of the errors is correctly specified.<br/>[2] The condition number is large, 1.92e+05. This might indicate that there are<br/>strong multicollinearity or other numerical problems."
      ],
      "text/plain": [
       "<class 'statsmodels.iolib.summary.Summary'>\n",
       "\"\"\"\n",
       "                            OLS Regression Results                            \n",
       "==============================================================================\n",
       "Dep. Variable:              log_price   R-squared:                       0.665\n",
       "Model:                            OLS   Adj. R-squared:                  0.665\n",
       "Method:                 Least Squares   F-statistic:                     1478.\n",
       "Date:                Fri, 29 Apr 2022   Prob (F-statistic):               0.00\n",
       "Time:                        20:03:08   Log-Likelihood:                -4976.0\n",
       "No. Observations:               21597   AIC:                         1.001e+04\n",
       "Df Residuals:                   21567   BIC:                         1.025e+04\n",
       "Df Model:                          29                                         \n",
       "Covariance Type:            nonrobust                                         \n",
       "=======================================================================================\n",
       "                          coef    std err          t      P>|t|      [0.025      0.975]\n",
       "---------------------------------------------------------------------------------------\n",
       "Intercept              18.4557      0.200     92.267      0.000      18.064      18.848\n",
       "bedrooms               -0.0334      0.003    -11.216      0.000      -0.039      -0.028\n",
       "bathrooms               0.0696      0.005     14.170      0.000       0.060       0.079\n",
       "floors                  0.0735      0.006     12.352      0.000       0.062       0.085\n",
       "waterfront              0.4019      0.027     14.624      0.000       0.348       0.456\n",
       "view                    0.0445      0.003     13.989      0.000       0.038       0.051\n",
       "condition               0.0450      0.004     12.743      0.000       0.038       0.052\n",
       "grade                   0.2103      0.003     68.163      0.000       0.204       0.216\n",
       "sqft_basement        6.322e-05   1.25e-05      5.071      0.000    3.88e-05    8.77e-05\n",
       "yr_built               -0.0056   9.72e-05    -57.387      0.000      -0.006      -0.005\n",
       "renovated_2011_2015     0.0889      0.027      3.337      0.001       0.037       0.141\n",
       "renovated_2006_2010     0.1336      0.031      4.356      0.000       0.073       0.194\n",
       "renovated_2001_2005     0.0800      0.029      2.760      0.006       0.023       0.137\n",
       "renovated_1996_2000     0.0464      0.034      1.374      0.170      -0.020       0.113\n",
       "m_10                    0.0094      0.012      0.784      0.433      -0.014       0.033\n",
       "m_11                    0.0037      0.013      0.288      0.773      -0.021       0.029\n",
       "m_12                   -0.0029      0.013     -0.232      0.816      -0.028       0.022\n",
       "m_2                     0.0125      0.013      0.959      0.338      -0.013       0.038\n",
       "m_3                     0.0588      0.012      4.889      0.000       0.035       0.082\n",
       "m_4                     0.0816      0.012      6.971      0.000       0.059       0.104\n",
       "m_5                     0.0323      0.012      2.797      0.005       0.010       0.055\n",
       "m_6                     0.0179      0.012      1.522      0.128      -0.005       0.041\n",
       "m_7                     0.0118      0.012      1.011      0.312      -0.011       0.035\n",
       "m_8                     0.0163      0.012      1.365      0.172      -0.007       0.040\n",
       "m_9                     0.0068      0.012      0.563      0.574      -0.017       0.031\n",
       "log_sqft_living         0.2675      0.026     10.348      0.000       0.217       0.318\n",
       "log_sqft_lot           -0.0107      0.006     -1.781      0.075      -0.023       0.001\n",
       "log_sqft_above          0.0200      0.024      0.842      0.400      -0.027       0.067\n",
       "log_sqft_living15       0.2716      0.011     25.721      0.000       0.251       0.292\n",
       "log_sqft_lot15         -0.0501      0.007     -7.613      0.000      -0.063      -0.037\n",
       "==============================================================================\n",
       "Omnibus:                       66.178   Durbin-Watson:                   1.967\n",
       "Prob(Omnibus):                  0.000   Jarque-Bera (JB):               80.453\n",
       "Skew:                          -0.062   Prob(JB):                     3.39e-18\n",
       "Kurtosis:                       3.272   Cond. No.                     1.92e+05\n",
       "==============================================================================\n",
       "\n",
       "Notes:\n",
       "[1] Standard Errors assume that the covariance matrix of the errors is correctly specified.\n",
       "[2] The condition number is large, 1.92e+05. This might indicate that there are\n",
       "strong multicollinearity or other numerical problems.\n",
       "\"\"\""
      ]
     },
     "execution_count": 31,
     "metadata": {},
     "output_type": "execute_result"
    }
   ],
   "source": [
    "#Testing the model\n",
    "\n",
    "X=df_with_logs.drop('log_price', axis=1)\n",
    "outcome = 'log_price'\n",
    "x_cols = list(X.columns)\n",
    "predictors = '+'.join(x_cols)\n",
    "formula = outcome + '~' + predictors\n",
    "model = ols(formula=formula, data=df_with_logs).fit()\n",
    "model.summary()"
   ]
  },
  {
   "cell_type": "code",
   "execution_count": 32,
   "id": "cf63b259",
   "metadata": {},
   "outputs": [
    {
     "name": "stdout",
     "output_type": "stream",
     "text": [
      "renovated_2011_2015 factor: 1.0929713537259187\n",
      "\n",
      "renovated_2006_2010 factor: 1.1429355539760195\n",
      "\n",
      "renovated_2001_2005 factor: 1.0832870676749586\n"
     ]
    }
   ],
   "source": [
    "print('renovated_2011_2015 factor:', np.e**0.0889)\n",
    "print('\\nrenovated_2006_2010 factor:', np.e**0.1336)\n",
    "print('\\nrenovated_2001_2005 factor:', np.e**0.0800)"
   ]
  },
  {
   "cell_type": "code",
   "execution_count": 33,
   "id": "aec0f70b",
   "metadata": {},
   "outputs": [
    {
     "name": "stdout",
     "output_type": "stream",
     "text": [
      "march factor:  1.0605631069061014\n",
      "\n",
      "april factor: 1.085021714330505\n",
      "\n",
      "may factor:  1.0328273070246443\n"
     ]
    }
   ],
   "source": [
    "print('march factor: ', np.e**0.0588)\n",
    "print('\\napril factor:', np.e**0.0816)\n",
    "print('\\nmay factor: ', np.e**0.0323)\n"
   ]
  },
  {
   "cell_type": "markdown",
   "id": "317649ef",
   "metadata": {},
   "source": [
    "This improved the model significantly, though it has to be interpreted slightly differently from the original model.\n",
    "\n",
    "Since we are predicting the natural log of price, rather than price, the coefficients represent a multiplication of the baseline price by e^(beta*x). \n",
    "\n",
    "Here, we see significant improvements in property value for renovation done in all periods since 2001. Interestingly, renovations done between 2006 and 2010 are predicted to have a greater effect on the value of a home than renovations done between 2011 and 2015.\n",
    "\n",
    "April sales are predicted to be the most advantageous for sellers, with homes sold during that month predicted to go for 8.5% higher than the January baseline."
   ]
  },
  {
   "cell_type": "code",
   "execution_count": 34,
   "id": "44083e89",
   "metadata": {},
   "outputs": [],
   "source": [
    "df_with_zips = pd.concat([df_with_logs, zipcode_dummies], axis=1)"
   ]
  },
  {
   "cell_type": "code",
   "execution_count": 35,
   "id": "15337fb3",
   "metadata": {},
   "outputs": [
    {
     "data": {
      "text/html": [
       "<table class=\"simpletable\">\n",
       "<caption>OLS Regression Results</caption>\n",
       "<tr>\n",
       "  <th>Dep. Variable:</th>        <td>log_price</td>    <th>  R-squared:         </th>  <td>   0.886</td> \n",
       "</tr>\n",
       "<tr>\n",
       "  <th>Model:</th>                   <td>OLS</td>       <th>  Adj. R-squared:    </th>  <td>   0.885</td> \n",
       "</tr>\n",
       "<tr>\n",
       "  <th>Method:</th>             <td>Least Squares</td>  <th>  F-statistic:       </th>  <td>   1702.</td> \n",
       "</tr>\n",
       "<tr>\n",
       "  <th>Date:</th>             <td>Fri, 29 Apr 2022</td> <th>  Prob (F-statistic):</th>   <td>  0.00</td>  \n",
       "</tr>\n",
       "<tr>\n",
       "  <th>Time:</th>                 <td>20:03:08</td>     <th>  Log-Likelihood:    </th>  <td>  6642.0</td> \n",
       "</tr>\n",
       "<tr>\n",
       "  <th>No. Observations:</th>      <td> 21597</td>      <th>  AIC:               </th> <td>-1.309e+04</td>\n",
       "</tr>\n",
       "<tr>\n",
       "  <th>Df Residuals:</th>          <td> 21498</td>      <th>  BIC:               </th> <td>-1.230e+04</td>\n",
       "</tr>\n",
       "<tr>\n",
       "  <th>Df Model:</th>              <td>    98</td>      <th>                     </th>      <td> </td>    \n",
       "</tr>\n",
       "<tr>\n",
       "  <th>Covariance Type:</th>      <td>nonrobust</td>    <th>                     </th>      <td> </td>    \n",
       "</tr>\n",
       "</table>\n",
       "<table class=\"simpletable\">\n",
       "<tr>\n",
       "           <td></td>              <th>coef</th>     <th>std err</th>      <th>t</th>      <th>P>|t|</th>  <th>[0.025</th>    <th>0.975]</th>  \n",
       "</tr>\n",
       "<tr>\n",
       "  <th>Intercept</th>           <td>    7.7847</td> <td>    0.152</td> <td>   51.129</td> <td> 0.000</td> <td>    7.486</td> <td>    8.083</td>\n",
       "</tr>\n",
       "<tr>\n",
       "  <th>bedrooms</th>            <td>   -0.0151</td> <td>    0.002</td> <td>   -8.508</td> <td> 0.000</td> <td>   -0.019</td> <td>   -0.012</td>\n",
       "</tr>\n",
       "<tr>\n",
       "  <th>bathrooms</th>           <td>    0.0410</td> <td>    0.003</td> <td>   14.160</td> <td> 0.000</td> <td>    0.035</td> <td>    0.047</td>\n",
       "</tr>\n",
       "<tr>\n",
       "  <th>floors</th>              <td>   -0.0201</td> <td>    0.004</td> <td>   -5.419</td> <td> 0.000</td> <td>   -0.027</td> <td>   -0.013</td>\n",
       "</tr>\n",
       "<tr>\n",
       "  <th>waterfront</th>          <td>    0.4854</td> <td>    0.016</td> <td>   29.782</td> <td> 0.000</td> <td>    0.453</td> <td>    0.517</td>\n",
       "</tr>\n",
       "<tr>\n",
       "  <th>view</th>                <td>    0.0617</td> <td>    0.002</td> <td>   31.920</td> <td> 0.000</td> <td>    0.058</td> <td>    0.066</td>\n",
       "</tr>\n",
       "<tr>\n",
       "  <th>condition</th>           <td>    0.0543</td> <td>    0.002</td> <td>   25.416</td> <td> 0.000</td> <td>    0.050</td> <td>    0.059</td>\n",
       "</tr>\n",
       "<tr>\n",
       "  <th>grade</th>               <td>    0.0940</td> <td>    0.002</td> <td>   47.813</td> <td> 0.000</td> <td>    0.090</td> <td>    0.098</td>\n",
       "</tr>\n",
       "<tr>\n",
       "  <th>sqft_basement</th>       <td> 8.018e-06</td> <td> 7.37e-06</td> <td>    1.088</td> <td> 0.277</td> <td>-6.43e-06</td> <td> 2.25e-05</td>\n",
       "</tr>\n",
       "<tr>\n",
       "  <th>yr_built</th>            <td>   -0.0003</td> <td> 7.14e-05</td> <td>   -4.200</td> <td> 0.000</td> <td>   -0.000</td> <td>   -0.000</td>\n",
       "</tr>\n",
       "<tr>\n",
       "  <th>renovated_2011_2015</th> <td>    0.1235</td> <td>    0.016</td> <td>    7.903</td> <td> 0.000</td> <td>    0.093</td> <td>    0.154</td>\n",
       "</tr>\n",
       "<tr>\n",
       "  <th>renovated_2006_2010</th> <td>    0.1455</td> <td>    0.018</td> <td>    8.088</td> <td> 0.000</td> <td>    0.110</td> <td>    0.181</td>\n",
       "</tr>\n",
       "<tr>\n",
       "  <th>renovated_2001_2005</th> <td>    0.1058</td> <td>    0.017</td> <td>    6.221</td> <td> 0.000</td> <td>    0.072</td> <td>    0.139</td>\n",
       "</tr>\n",
       "<tr>\n",
       "  <th>renovated_1996_2000</th> <td>    0.0399</td> <td>    0.020</td> <td>    2.012</td> <td> 0.044</td> <td>    0.001</td> <td>    0.079</td>\n",
       "</tr>\n",
       "<tr>\n",
       "  <th>m_10</th>                <td>   -0.0076</td> <td>    0.007</td> <td>   -1.084</td> <td> 0.278</td> <td>   -0.021</td> <td>    0.006</td>\n",
       "</tr>\n",
       "<tr>\n",
       "  <th>m_11</th>                <td>   -0.0070</td> <td>    0.007</td> <td>   -0.938</td> <td> 0.348</td> <td>   -0.022</td> <td>    0.008</td>\n",
       "</tr>\n",
       "<tr>\n",
       "  <th>m_12</th>                <td>    0.0001</td> <td>    0.007</td> <td>    0.017</td> <td> 0.986</td> <td>   -0.014</td> <td>    0.015</td>\n",
       "</tr>\n",
       "<tr>\n",
       "  <th>m_2</th>                 <td>    0.0240</td> <td>    0.008</td> <td>    3.142</td> <td> 0.002</td> <td>    0.009</td> <td>    0.039</td>\n",
       "</tr>\n",
       "<tr>\n",
       "  <th>m_3</th>                 <td>    0.0497</td> <td>    0.007</td> <td>    7.060</td> <td> 0.000</td> <td>    0.036</td> <td>    0.064</td>\n",
       "</tr>\n",
       "<tr>\n",
       "  <th>m_4</th>                 <td>    0.0707</td> <td>    0.007</td> <td>   10.308</td> <td> 0.000</td> <td>    0.057</td> <td>    0.084</td>\n",
       "</tr>\n",
       "<tr>\n",
       "  <th>m_5</th>                 <td>    0.0119</td> <td>    0.007</td> <td>    1.757</td> <td> 0.079</td> <td>   -0.001</td> <td>    0.025</td>\n",
       "</tr>\n",
       "<tr>\n",
       "  <th>m_6</th>                 <td>    0.0036</td> <td>    0.007</td> <td>    0.528</td> <td> 0.598</td> <td>   -0.010</td> <td>    0.017</td>\n",
       "</tr>\n",
       "<tr>\n",
       "  <th>m_7</th>                 <td>   -0.0036</td> <td>    0.007</td> <td>   -0.528</td> <td> 0.597</td> <td>   -0.017</td> <td>    0.010</td>\n",
       "</tr>\n",
       "<tr>\n",
       "  <th>m_8</th>                 <td>   -0.0029</td> <td>    0.007</td> <td>   -0.413</td> <td> 0.679</td> <td>   -0.017</td> <td>    0.011</td>\n",
       "</tr>\n",
       "<tr>\n",
       "  <th>m_9</th>                 <td>   -0.0082</td> <td>    0.007</td> <td>   -1.147</td> <td> 0.251</td> <td>   -0.022</td> <td>    0.006</td>\n",
       "</tr>\n",
       "<tr>\n",
       "  <th>log_sqft_living</th>     <td>    0.2598</td> <td>    0.015</td> <td>   16.969</td> <td> 0.000</td> <td>    0.230</td> <td>    0.290</td>\n",
       "</tr>\n",
       "<tr>\n",
       "  <th>log_sqft_lot</th>        <td>    0.0716</td> <td>    0.004</td> <td>   19.929</td> <td> 0.000</td> <td>    0.065</td> <td>    0.079</td>\n",
       "</tr>\n",
       "<tr>\n",
       "  <th>log_sqft_above</th>      <td>    0.1695</td> <td>    0.014</td> <td>   11.968</td> <td> 0.000</td> <td>    0.142</td> <td>    0.197</td>\n",
       "</tr>\n",
       "<tr>\n",
       "  <th>log_sqft_living15</th>   <td>    0.1557</td> <td>    0.007</td> <td>   23.628</td> <td> 0.000</td> <td>    0.143</td> <td>    0.169</td>\n",
       "</tr>\n",
       "<tr>\n",
       "  <th>log_sqft_lot15</th>      <td>   -0.0204</td> <td>    0.004</td> <td>   -5.160</td> <td> 0.000</td> <td>   -0.028</td> <td>   -0.013</td>\n",
       "</tr>\n",
       "<tr>\n",
       "  <th>zip_98001</th>           <td>   -0.3753</td> <td>    0.010</td> <td>  -37.769</td> <td> 0.000</td> <td>   -0.395</td> <td>   -0.356</td>\n",
       "</tr>\n",
       "<tr>\n",
       "  <th>zip_98002</th>           <td>   -0.3741</td> <td>    0.013</td> <td>  -28.929</td> <td> 0.000</td> <td>   -0.399</td> <td>   -0.349</td>\n",
       "</tr>\n",
       "<tr>\n",
       "  <th>zip_98003</th>           <td>   -0.3604</td> <td>    0.011</td> <td>  -32.807</td> <td> 0.000</td> <td>   -0.382</td> <td>   -0.339</td>\n",
       "</tr>\n",
       "<tr>\n",
       "  <th>zip_98004</th>           <td>    0.7493</td> <td>    0.010</td> <td>   71.793</td> <td> 0.000</td> <td>    0.729</td> <td>    0.770</td>\n",
       "</tr>\n",
       "<tr>\n",
       "  <th>zip_98005</th>           <td>    0.3479</td> <td>    0.014</td> <td>   24.799</td> <td> 0.000</td> <td>    0.320</td> <td>    0.375</td>\n",
       "</tr>\n",
       "<tr>\n",
       "  <th>zip_98006</th>           <td>    0.2651</td> <td>    0.009</td> <td>   30.512</td> <td> 0.000</td> <td>    0.248</td> <td>    0.282</td>\n",
       "</tr>\n",
       "<tr>\n",
       "  <th>zip_98007</th>           <td>    0.2724</td> <td>    0.015</td> <td>   18.019</td> <td> 0.000</td> <td>    0.243</td> <td>    0.302</td>\n",
       "</tr>\n",
       "<tr>\n",
       "  <th>zip_98008</th>           <td>    0.2765</td> <td>    0.011</td> <td>   25.356</td> <td> 0.000</td> <td>    0.255</td> <td>    0.298</td>\n",
       "</tr>\n",
       "<tr>\n",
       "  <th>zip_98010</th>           <td>   -0.1333</td> <td>    0.018</td> <td>   -7.319</td> <td> 0.000</td> <td>   -0.169</td> <td>   -0.098</td>\n",
       "</tr>\n",
       "<tr>\n",
       "  <th>zip_98011</th>           <td>    0.0736</td> <td>    0.013</td> <td>    5.640</td> <td> 0.000</td> <td>    0.048</td> <td>    0.099</td>\n",
       "</tr>\n",
       "<tr>\n",
       "  <th>zip_98014</th>           <td>   -0.0690</td> <td>    0.017</td> <td>   -4.148</td> <td> 0.000</td> <td>   -0.102</td> <td>   -0.036</td>\n",
       "</tr>\n",
       "<tr>\n",
       "  <th>zip_98019</th>           <td>   -0.0575</td> <td>    0.013</td> <td>   -4.265</td> <td> 0.000</td> <td>   -0.084</td> <td>   -0.031</td>\n",
       "</tr>\n",
       "<tr>\n",
       "  <th>zip_98022</th>           <td>   -0.3317</td> <td>    0.012</td> <td>  -26.887</td> <td> 0.000</td> <td>   -0.356</td> <td>   -0.308</td>\n",
       "</tr>\n",
       "<tr>\n",
       "  <th>zip_98023</th>           <td>   -0.3987</td> <td>    0.009</td> <td>  -46.646</td> <td> 0.000</td> <td>   -0.415</td> <td>   -0.382</td>\n",
       "</tr>\n",
       "<tr>\n",
       "  <th>zip_98024</th>           <td>    0.0488</td> <td>    0.020</td> <td>    2.402</td> <td> 0.016</td> <td>    0.009</td> <td>    0.089</td>\n",
       "</tr>\n",
       "<tr>\n",
       "  <th>zip_98027</th>           <td>    0.1380</td> <td>    0.009</td> <td>   14.718</td> <td> 0.000</td> <td>    0.120</td> <td>    0.156</td>\n",
       "</tr>\n",
       "<tr>\n",
       "  <th>zip_98028</th>           <td>    0.0375</td> <td>    0.011</td> <td>    3.422</td> <td> 0.001</td> <td>    0.016</td> <td>    0.059</td>\n",
       "</tr>\n",
       "<tr>\n",
       "  <th>zip_98029</th>           <td>    0.2314</td> <td>    0.010</td> <td>   22.226</td> <td> 0.000</td> <td>    0.211</td> <td>    0.252</td>\n",
       "</tr>\n",
       "<tr>\n",
       "  <th>zip_98030</th>           <td>   -0.3283</td> <td>    0.012</td> <td>  -28.381</td> <td> 0.000</td> <td>   -0.351</td> <td>   -0.306</td>\n",
       "</tr>\n",
       "<tr>\n",
       "  <th>zip_98031</th>           <td>   -0.3044</td> <td>    0.011</td> <td>  -27.125</td> <td> 0.000</td> <td>   -0.326</td> <td>   -0.282</td>\n",
       "</tr>\n",
       "<tr>\n",
       "  <th>zip_98032</th>           <td>   -0.3870</td> <td>    0.016</td> <td>  -24.146</td> <td> 0.000</td> <td>   -0.418</td> <td>   -0.356</td>\n",
       "</tr>\n",
       "<tr>\n",
       "  <th>zip_98033</th>           <td>    0.4150</td> <td>    0.009</td> <td>   46.036</td> <td> 0.000</td> <td>    0.397</td> <td>    0.433</td>\n",
       "</tr>\n",
       "<tr>\n",
       "  <th>zip_98034</th>           <td>    0.1746</td> <td>    0.008</td> <td>   21.435</td> <td> 0.000</td> <td>    0.159</td> <td>    0.191</td>\n",
       "</tr>\n",
       "<tr>\n",
       "  <th>zip_98038</th>           <td>   -0.2068</td> <td>    0.008</td> <td>  -24.786</td> <td> 0.000</td> <td>   -0.223</td> <td>   -0.190</td>\n",
       "</tr>\n",
       "<tr>\n",
       "  <th>zip_98039</th>           <td>    0.9288</td> <td>    0.025</td> <td>   36.849</td> <td> 0.000</td> <td>    0.879</td> <td>    0.978</td>\n",
       "</tr>\n",
       "<tr>\n",
       "  <th>zip_98040</th>           <td>    0.4968</td> <td>    0.011</td> <td>   44.725</td> <td> 0.000</td> <td>    0.475</td> <td>    0.519</td>\n",
       "</tr>\n",
       "<tr>\n",
       "  <th>zip_98042</th>           <td>   -0.3151</td> <td>    0.008</td> <td>  -37.093</td> <td> 0.000</td> <td>   -0.332</td> <td>   -0.298</td>\n",
       "</tr>\n",
       "<tr>\n",
       "  <th>zip_98045</th>           <td>   -0.0522</td> <td>    0.013</td> <td>   -4.137</td> <td> 0.000</td> <td>   -0.077</td> <td>   -0.027</td>\n",
       "</tr>\n",
       "<tr>\n",
       "  <th>zip_98052</th>           <td>    0.2603</td> <td>    0.008</td> <td>   32.139</td> <td> 0.000</td> <td>    0.244</td> <td>    0.276</td>\n",
       "</tr>\n",
       "<tr>\n",
       "  <th>zip_98053</th>           <td>    0.2076</td> <td>    0.010</td> <td>   21.043</td> <td> 0.000</td> <td>    0.188</td> <td>    0.227</td>\n",
       "</tr>\n",
       "<tr>\n",
       "  <th>zip_98055</th>           <td>   -0.2223</td> <td>    0.011</td> <td>  -20.024</td> <td> 0.000</td> <td>   -0.244</td> <td>   -0.201</td>\n",
       "</tr>\n",
       "<tr>\n",
       "  <th>zip_98056</th>           <td>   -0.0462</td> <td>    0.009</td> <td>   -4.917</td> <td> 0.000</td> <td>   -0.065</td> <td>   -0.028</td>\n",
       "</tr>\n",
       "<tr>\n",
       "  <th>zip_98058</th>           <td>   -0.2149</td> <td>    0.009</td> <td>  -24.032</td> <td> 0.000</td> <td>   -0.232</td> <td>   -0.197</td>\n",
       "</tr>\n",
       "<tr>\n",
       "  <th>zip_98059</th>           <td>   -0.0347</td> <td>    0.009</td> <td>   -3.830</td> <td> 0.000</td> <td>   -0.052</td> <td>   -0.017</td>\n",
       "</tr>\n",
       "<tr>\n",
       "  <th>zip_98065</th>           <td>    0.0334</td> <td>    0.011</td> <td>    3.071</td> <td> 0.002</td> <td>    0.012</td> <td>    0.055</td>\n",
       "</tr>\n",
       "<tr>\n",
       "  <th>zip_98070</th>           <td>   -0.0708</td> <td>    0.017</td> <td>   -4.082</td> <td> 0.000</td> <td>   -0.105</td> <td>   -0.037</td>\n",
       "</tr>\n",
       "<tr>\n",
       "  <th>zip_98072</th>           <td>    0.0950</td> <td>    0.011</td> <td>    8.375</td> <td> 0.000</td> <td>    0.073</td> <td>    0.117</td>\n",
       "</tr>\n",
       "<tr>\n",
       "  <th>zip_98074</th>           <td>    0.1781</td> <td>    0.009</td> <td>   19.500</td> <td> 0.000</td> <td>    0.160</td> <td>    0.196</td>\n",
       "</tr>\n",
       "<tr>\n",
       "  <th>zip_98075</th>           <td>    0.1808</td> <td>    0.010</td> <td>   17.750</td> <td> 0.000</td> <td>    0.161</td> <td>    0.201</td>\n",
       "</tr>\n",
       "<tr>\n",
       "  <th>zip_98077</th>           <td>    0.0512</td> <td>    0.013</td> <td>    3.805</td> <td> 0.000</td> <td>    0.025</td> <td>    0.078</td>\n",
       "</tr>\n",
       "<tr>\n",
       "  <th>zip_98092</th>           <td>   -0.3629</td> <td>    0.010</td> <td>  -35.541</td> <td> 0.000</td> <td>   -0.383</td> <td>   -0.343</td>\n",
       "</tr>\n",
       "<tr>\n",
       "  <th>zip_98102</th>           <td>    0.6402</td> <td>    0.018</td> <td>   36.547</td> <td> 0.000</td> <td>    0.606</td> <td>    0.675</td>\n",
       "</tr>\n",
       "<tr>\n",
       "  <th>zip_98103</th>           <td>    0.4955</td> <td>    0.008</td> <td>   65.280</td> <td> 0.000</td> <td>    0.481</td> <td>    0.510</td>\n",
       "</tr>\n",
       "<tr>\n",
       "  <th>zip_98105</th>           <td>    0.6050</td> <td>    0.012</td> <td>   51.078</td> <td> 0.000</td> <td>    0.582</td> <td>    0.628</td>\n",
       "</tr>\n",
       "<tr>\n",
       "  <th>zip_98106</th>           <td>    0.0218</td> <td>    0.010</td> <td>    2.184</td> <td> 0.029</td> <td>    0.002</td> <td>    0.041</td>\n",
       "</tr>\n",
       "<tr>\n",
       "  <th>zip_98107</th>           <td>    0.5189</td> <td>    0.011</td> <td>   46.818</td> <td> 0.000</td> <td>    0.497</td> <td>    0.541</td>\n",
       "</tr>\n",
       "<tr>\n",
       "  <th>zip_98108</th>           <td>    0.0266</td> <td>    0.013</td> <td>    2.033</td> <td> 0.042</td> <td>    0.001</td> <td>    0.052</td>\n",
       "</tr>\n",
       "<tr>\n",
       "  <th>zip_98109</th>           <td>    0.6555</td> <td>    0.017</td> <td>   38.436</td> <td> 0.000</td> <td>    0.622</td> <td>    0.689</td>\n",
       "</tr>\n",
       "<tr>\n",
       "  <th>zip_98112</th>           <td>    0.7075</td> <td>    0.011</td> <td>   63.904</td> <td> 0.000</td> <td>    0.686</td> <td>    0.729</td>\n",
       "</tr>\n",
       "<tr>\n",
       "  <th>zip_98115</th>           <td>    0.4770</td> <td>    0.008</td> <td>   63.170</td> <td> 0.000</td> <td>    0.462</td> <td>    0.492</td>\n",
       "</tr>\n",
       "<tr>\n",
       "  <th>zip_98116</th>           <td>    0.4212</td> <td>    0.010</td> <td>   42.338</td> <td> 0.000</td> <td>    0.402</td> <td>    0.441</td>\n",
       "</tr>\n",
       "<tr>\n",
       "  <th>zip_98117</th>           <td>    0.4809</td> <td>    0.008</td> <td>   61.940</td> <td> 0.000</td> <td>    0.466</td> <td>    0.496</td>\n",
       "</tr>\n",
       "<tr>\n",
       "  <th>zip_98118</th>           <td>    0.1271</td> <td>    0.008</td> <td>   15.742</td> <td> 0.000</td> <td>    0.111</td> <td>    0.143</td>\n",
       "</tr>\n",
       "<tr>\n",
       "  <th>zip_98119</th>           <td>    0.6437</td> <td>    0.013</td> <td>   48.660</td> <td> 0.000</td> <td>    0.618</td> <td>    0.670</td>\n",
       "</tr>\n",
       "<tr>\n",
       "  <th>zip_98122</th>           <td>    0.4782</td> <td>    0.011</td> <td>   45.071</td> <td> 0.000</td> <td>    0.457</td> <td>    0.499</td>\n",
       "</tr>\n",
       "<tr>\n",
       "  <th>zip_98125</th>           <td>    0.2177</td> <td>    0.009</td> <td>   24.248</td> <td> 0.000</td> <td>    0.200</td> <td>    0.235</td>\n",
       "</tr>\n",
       "<tr>\n",
       "  <th>zip_98126</th>           <td>    0.2236</td> <td>    0.010</td> <td>   23.207</td> <td> 0.000</td> <td>    0.205</td> <td>    0.242</td>\n",
       "</tr>\n",
       "<tr>\n",
       "  <th>zip_98133</th>           <td>    0.1098</td> <td>    0.008</td> <td>   13.226</td> <td> 0.000</td> <td>    0.094</td> <td>    0.126</td>\n",
       "</tr>\n",
       "<tr>\n",
       "  <th>zip_98136</th>           <td>    0.3449</td> <td>    0.011</td> <td>   31.129</td> <td> 0.000</td> <td>    0.323</td> <td>    0.367</td>\n",
       "</tr>\n",
       "<tr>\n",
       "  <th>zip_98144</th>           <td>    0.3405</td> <td>    0.010</td> <td>   34.690</td> <td> 0.000</td> <td>    0.321</td> <td>    0.360</td>\n",
       "</tr>\n",
       "<tr>\n",
       "  <th>zip_98146</th>           <td>   -0.0685</td> <td>    0.011</td> <td>   -6.407</td> <td> 0.000</td> <td>   -0.089</td> <td>   -0.048</td>\n",
       "</tr>\n",
       "<tr>\n",
       "  <th>zip_98148</th>           <td>   -0.2084</td> <td>    0.023</td> <td>   -8.881</td> <td> 0.000</td> <td>   -0.254</td> <td>   -0.162</td>\n",
       "</tr>\n",
       "<tr>\n",
       "  <th>zip_98155</th>           <td>    0.0686</td> <td>    0.009</td> <td>    7.852</td> <td> 0.000</td> <td>    0.052</td> <td>    0.086</td>\n",
       "</tr>\n",
       "<tr>\n",
       "  <th>zip_98166</th>           <td>   -0.0609</td> <td>    0.011</td> <td>   -5.335</td> <td> 0.000</td> <td>   -0.083</td> <td>   -0.038</td>\n",
       "</tr>\n",
       "<tr>\n",
       "  <th>zip_98168</th>           <td>   -0.2724</td> <td>    0.011</td> <td>  -24.567</td> <td> 0.000</td> <td>   -0.294</td> <td>   -0.251</td>\n",
       "</tr>\n",
       "<tr>\n",
       "  <th>zip_98177</th>           <td>    0.2255</td> <td>    0.011</td> <td>   19.871</td> <td> 0.000</td> <td>    0.203</td> <td>    0.248</td>\n",
       "</tr>\n",
       "<tr>\n",
       "  <th>zip_98178</th>           <td>   -0.1982</td> <td>    0.011</td> <td>  -17.723</td> <td> 0.000</td> <td>   -0.220</td> <td>   -0.176</td>\n",
       "</tr>\n",
       "<tr>\n",
       "  <th>zip_98188</th>           <td>   -0.2656</td> <td>    0.015</td> <td>  -17.296</td> <td> 0.000</td> <td>   -0.296</td> <td>   -0.235</td>\n",
       "</tr>\n",
       "<tr>\n",
       "  <th>zip_98198</th>           <td>   -0.3007</td> <td>    0.011</td> <td>  -27.429</td> <td> 0.000</td> <td>   -0.322</td> <td>   -0.279</td>\n",
       "</tr>\n",
       "<tr>\n",
       "  <th>zip_98199</th>           <td>    0.5132</td> <td>    0.010</td> <td>   50.514</td> <td> 0.000</td> <td>    0.493</td> <td>    0.533</td>\n",
       "</tr>\n",
       "</table>\n",
       "<table class=\"simpletable\">\n",
       "<tr>\n",
       "  <th>Omnibus:</th>       <td>1631.282</td> <th>  Durbin-Watson:     </th> <td>   2.001</td>\n",
       "</tr>\n",
       "<tr>\n",
       "  <th>Prob(Omnibus):</th>  <td> 0.000</td>  <th>  Jarque-Bera (JB):  </th> <td>7583.906</td>\n",
       "</tr>\n",
       "<tr>\n",
       "  <th>Skew:</th>           <td>-0.220</td>  <th>  Prob(JB):          </th> <td>    0.00</td>\n",
       "</tr>\n",
       "<tr>\n",
       "  <th>Kurtosis:</th>       <td> 5.869</td>  <th>  Cond. No.          </th> <td>3.32e+19</td>\n",
       "</tr>\n",
       "</table><br/><br/>Notes:<br/>[1] Standard Errors assume that the covariance matrix of the errors is correctly specified.<br/>[2] The smallest eigenvalue is 7.79e-29. This might indicate that there are<br/>strong multicollinearity problems or that the design matrix is singular."
      ],
      "text/plain": [
       "<class 'statsmodels.iolib.summary.Summary'>\n",
       "\"\"\"\n",
       "                            OLS Regression Results                            \n",
       "==============================================================================\n",
       "Dep. Variable:              log_price   R-squared:                       0.886\n",
       "Model:                            OLS   Adj. R-squared:                  0.885\n",
       "Method:                 Least Squares   F-statistic:                     1702.\n",
       "Date:                Fri, 29 Apr 2022   Prob (F-statistic):               0.00\n",
       "Time:                        20:03:08   Log-Likelihood:                 6642.0\n",
       "No. Observations:               21597   AIC:                        -1.309e+04\n",
       "Df Residuals:                   21498   BIC:                        -1.230e+04\n",
       "Df Model:                          98                                         \n",
       "Covariance Type:            nonrobust                                         \n",
       "=======================================================================================\n",
       "                          coef    std err          t      P>|t|      [0.025      0.975]\n",
       "---------------------------------------------------------------------------------------\n",
       "Intercept               7.7847      0.152     51.129      0.000       7.486       8.083\n",
       "bedrooms               -0.0151      0.002     -8.508      0.000      -0.019      -0.012\n",
       "bathrooms               0.0410      0.003     14.160      0.000       0.035       0.047\n",
       "floors                 -0.0201      0.004     -5.419      0.000      -0.027      -0.013\n",
       "waterfront              0.4854      0.016     29.782      0.000       0.453       0.517\n",
       "view                    0.0617      0.002     31.920      0.000       0.058       0.066\n",
       "condition               0.0543      0.002     25.416      0.000       0.050       0.059\n",
       "grade                   0.0940      0.002     47.813      0.000       0.090       0.098\n",
       "sqft_basement        8.018e-06   7.37e-06      1.088      0.277   -6.43e-06    2.25e-05\n",
       "yr_built               -0.0003   7.14e-05     -4.200      0.000      -0.000      -0.000\n",
       "renovated_2011_2015     0.1235      0.016      7.903      0.000       0.093       0.154\n",
       "renovated_2006_2010     0.1455      0.018      8.088      0.000       0.110       0.181\n",
       "renovated_2001_2005     0.1058      0.017      6.221      0.000       0.072       0.139\n",
       "renovated_1996_2000     0.0399      0.020      2.012      0.044       0.001       0.079\n",
       "m_10                   -0.0076      0.007     -1.084      0.278      -0.021       0.006\n",
       "m_11                   -0.0070      0.007     -0.938      0.348      -0.022       0.008\n",
       "m_12                    0.0001      0.007      0.017      0.986      -0.014       0.015\n",
       "m_2                     0.0240      0.008      3.142      0.002       0.009       0.039\n",
       "m_3                     0.0497      0.007      7.060      0.000       0.036       0.064\n",
       "m_4                     0.0707      0.007     10.308      0.000       0.057       0.084\n",
       "m_5                     0.0119      0.007      1.757      0.079      -0.001       0.025\n",
       "m_6                     0.0036      0.007      0.528      0.598      -0.010       0.017\n",
       "m_7                    -0.0036      0.007     -0.528      0.597      -0.017       0.010\n",
       "m_8                    -0.0029      0.007     -0.413      0.679      -0.017       0.011\n",
       "m_9                    -0.0082      0.007     -1.147      0.251      -0.022       0.006\n",
       "log_sqft_living         0.2598      0.015     16.969      0.000       0.230       0.290\n",
       "log_sqft_lot            0.0716      0.004     19.929      0.000       0.065       0.079\n",
       "log_sqft_above          0.1695      0.014     11.968      0.000       0.142       0.197\n",
       "log_sqft_living15       0.1557      0.007     23.628      0.000       0.143       0.169\n",
       "log_sqft_lot15         -0.0204      0.004     -5.160      0.000      -0.028      -0.013\n",
       "zip_98001              -0.3753      0.010    -37.769      0.000      -0.395      -0.356\n",
       "zip_98002              -0.3741      0.013    -28.929      0.000      -0.399      -0.349\n",
       "zip_98003              -0.3604      0.011    -32.807      0.000      -0.382      -0.339\n",
       "zip_98004               0.7493      0.010     71.793      0.000       0.729       0.770\n",
       "zip_98005               0.3479      0.014     24.799      0.000       0.320       0.375\n",
       "zip_98006               0.2651      0.009     30.512      0.000       0.248       0.282\n",
       "zip_98007               0.2724      0.015     18.019      0.000       0.243       0.302\n",
       "zip_98008               0.2765      0.011     25.356      0.000       0.255       0.298\n",
       "zip_98010              -0.1333      0.018     -7.319      0.000      -0.169      -0.098\n",
       "zip_98011               0.0736      0.013      5.640      0.000       0.048       0.099\n",
       "zip_98014              -0.0690      0.017     -4.148      0.000      -0.102      -0.036\n",
       "zip_98019              -0.0575      0.013     -4.265      0.000      -0.084      -0.031\n",
       "zip_98022              -0.3317      0.012    -26.887      0.000      -0.356      -0.308\n",
       "zip_98023              -0.3987      0.009    -46.646      0.000      -0.415      -0.382\n",
       "zip_98024               0.0488      0.020      2.402      0.016       0.009       0.089\n",
       "zip_98027               0.1380      0.009     14.718      0.000       0.120       0.156\n",
       "zip_98028               0.0375      0.011      3.422      0.001       0.016       0.059\n",
       "zip_98029               0.2314      0.010     22.226      0.000       0.211       0.252\n",
       "zip_98030              -0.3283      0.012    -28.381      0.000      -0.351      -0.306\n",
       "zip_98031              -0.3044      0.011    -27.125      0.000      -0.326      -0.282\n",
       "zip_98032              -0.3870      0.016    -24.146      0.000      -0.418      -0.356\n",
       "zip_98033               0.4150      0.009     46.036      0.000       0.397       0.433\n",
       "zip_98034               0.1746      0.008     21.435      0.000       0.159       0.191\n",
       "zip_98038              -0.2068      0.008    -24.786      0.000      -0.223      -0.190\n",
       "zip_98039               0.9288      0.025     36.849      0.000       0.879       0.978\n",
       "zip_98040               0.4968      0.011     44.725      0.000       0.475       0.519\n",
       "zip_98042              -0.3151      0.008    -37.093      0.000      -0.332      -0.298\n",
       "zip_98045              -0.0522      0.013     -4.137      0.000      -0.077      -0.027\n",
       "zip_98052               0.2603      0.008     32.139      0.000       0.244       0.276\n",
       "zip_98053               0.2076      0.010     21.043      0.000       0.188       0.227\n",
       "zip_98055              -0.2223      0.011    -20.024      0.000      -0.244      -0.201\n",
       "zip_98056              -0.0462      0.009     -4.917      0.000      -0.065      -0.028\n",
       "zip_98058              -0.2149      0.009    -24.032      0.000      -0.232      -0.197\n",
       "zip_98059              -0.0347      0.009     -3.830      0.000      -0.052      -0.017\n",
       "zip_98065               0.0334      0.011      3.071      0.002       0.012       0.055\n",
       "zip_98070              -0.0708      0.017     -4.082      0.000      -0.105      -0.037\n",
       "zip_98072               0.0950      0.011      8.375      0.000       0.073       0.117\n",
       "zip_98074               0.1781      0.009     19.500      0.000       0.160       0.196\n",
       "zip_98075               0.1808      0.010     17.750      0.000       0.161       0.201\n",
       "zip_98077               0.0512      0.013      3.805      0.000       0.025       0.078\n",
       "zip_98092              -0.3629      0.010    -35.541      0.000      -0.383      -0.343\n",
       "zip_98102               0.6402      0.018     36.547      0.000       0.606       0.675\n",
       "zip_98103               0.4955      0.008     65.280      0.000       0.481       0.510\n",
       "zip_98105               0.6050      0.012     51.078      0.000       0.582       0.628\n",
       "zip_98106               0.0218      0.010      2.184      0.029       0.002       0.041\n",
       "zip_98107               0.5189      0.011     46.818      0.000       0.497       0.541\n",
       "zip_98108               0.0266      0.013      2.033      0.042       0.001       0.052\n",
       "zip_98109               0.6555      0.017     38.436      0.000       0.622       0.689\n",
       "zip_98112               0.7075      0.011     63.904      0.000       0.686       0.729\n",
       "zip_98115               0.4770      0.008     63.170      0.000       0.462       0.492\n",
       "zip_98116               0.4212      0.010     42.338      0.000       0.402       0.441\n",
       "zip_98117               0.4809      0.008     61.940      0.000       0.466       0.496\n",
       "zip_98118               0.1271      0.008     15.742      0.000       0.111       0.143\n",
       "zip_98119               0.6437      0.013     48.660      0.000       0.618       0.670\n",
       "zip_98122               0.4782      0.011     45.071      0.000       0.457       0.499\n",
       "zip_98125               0.2177      0.009     24.248      0.000       0.200       0.235\n",
       "zip_98126               0.2236      0.010     23.207      0.000       0.205       0.242\n",
       "zip_98133               0.1098      0.008     13.226      0.000       0.094       0.126\n",
       "zip_98136               0.3449      0.011     31.129      0.000       0.323       0.367\n",
       "zip_98144               0.3405      0.010     34.690      0.000       0.321       0.360\n",
       "zip_98146              -0.0685      0.011     -6.407      0.000      -0.089      -0.048\n",
       "zip_98148              -0.2084      0.023     -8.881      0.000      -0.254      -0.162\n",
       "zip_98155               0.0686      0.009      7.852      0.000       0.052       0.086\n",
       "zip_98166              -0.0609      0.011     -5.335      0.000      -0.083      -0.038\n",
       "zip_98168              -0.2724      0.011    -24.567      0.000      -0.294      -0.251\n",
       "zip_98177               0.2255      0.011     19.871      0.000       0.203       0.248\n",
       "zip_98178              -0.1982      0.011    -17.723      0.000      -0.220      -0.176\n",
       "zip_98188              -0.2656      0.015    -17.296      0.000      -0.296      -0.235\n",
       "zip_98198              -0.3007      0.011    -27.429      0.000      -0.322      -0.279\n",
       "zip_98199               0.5132      0.010     50.514      0.000       0.493       0.533\n",
       "==============================================================================\n",
       "Omnibus:                     1631.282   Durbin-Watson:                   2.001\n",
       "Prob(Omnibus):                  0.000   Jarque-Bera (JB):             7583.906\n",
       "Skew:                          -0.220   Prob(JB):                         0.00\n",
       "Kurtosis:                       5.869   Cond. No.                     3.32e+19\n",
       "==============================================================================\n",
       "\n",
       "Notes:\n",
       "[1] Standard Errors assume that the covariance matrix of the errors is correctly specified.\n",
       "[2] The smallest eigenvalue is 7.79e-29. This might indicate that there are\n",
       "strong multicollinearity problems or that the design matrix is singular.\n",
       "\"\"\""
      ]
     },
     "execution_count": 35,
     "metadata": {},
     "output_type": "execute_result"
    }
   ],
   "source": [
    "X=df_with_zips.drop('log_price', axis=1)\n",
    "outcome = 'log_price'\n",
    "x_cols = list(X.columns)\n",
    "predictors = '+'.join(x_cols)\n",
    "formula = outcome + '~' + predictors\n",
    "model = ols(formula=formula, data=df_with_zips).fit()\n",
    "model.summary()"
   ]
  },
  {
   "cell_type": "markdown",
   "id": "a847e5b2",
   "metadata": {},
   "source": [
    "### Model Residuals - Homoskedasticity\n",
    "\n",
    "Overall, the model's accuracy has improved significantly, accounting now for almost 90% of the variance in home prices. We can also see that the model is homoskedastic by looking at the plot of the residuals, which shows an only slight funnel shape."
   ]
  },
  {
   "cell_type": "code",
   "execution_count": 36,
   "id": "bf72e141",
   "metadata": {},
   "outputs": [
    {
     "data": {
      "text/plain": [
       "[<matplotlib.lines.Line2D at 0x7fc95944ec70>]"
      ]
     },
     "execution_count": 36,
     "metadata": {},
     "output_type": "execute_result"
    },
    {
     "data": {
      "image/png": "[encoded data removed]",
      "text/plain": [
       "<Figure size 432x288 with 1 Axes>"
      ]
     },
     "metadata": {
      "needs_background": "light"
     },
     "output_type": "display_data"
    }
   ],
   "source": [
    "plt.scatter(model.predict(df_with_zips[x_cols]), model.resid)\n",
    "plt.plot(model.predict(df_with_zips[x_cols]), [0 for i in range(len(df_with_zips))])"
   ]
  },
  {
   "cell_type": "markdown",
   "id": "2dcf15a7",
   "metadata": {},
   "source": [
    "### Model Residuals - Normality\n",
    "\n",
    "The model's residuals have a moderate level of kurtosis - 5.869 - as we can see from the following qqplot, which shows fat tails beyond two standard deviations from the mean."
   ]
  },
  {
   "cell_type": "code",
   "execution_count": 37,
   "id": "55f48642",
   "metadata": {},
   "outputs": [
    {
     "name": "stderr",
     "output_type": "stream",
     "text": [
      "/Users/davidrichter/opt/anaconda3/lib/python3.9/site-packages/statsmodels/graphics/gofplots.py:993: UserWarning: marker is redundantly defined by the 'marker' keyword argument and the fmt string \"bo\" (-> marker='o'). The keyword argument will take precedence.\n",
      "  ax.plot(x, y, fmt, **plot_style)\n"
     ]
    },
    {
     "data": {
      "image/png": "[encoded data removed]",
      "text/plain": [
       "<Figure size 432x288 with 1 Axes>"
      ]
     },
     "metadata": {
      "needs_background": "light"
     },
     "output_type": "display_data"
    }
   ],
   "source": [
    "import scipy.stats as stats\n",
    "import statsmodels.api as sm\n",
    "fig = sm.graphics.qqplot(model.resid, dist=stats.norm, line='s', fit=True)"
   ]
  },
  {
   "cell_type": "markdown",
   "id": "6cb999f5",
   "metadata": {},
   "source": [
    "## Renovation and Sale Month \n",
    "\n",
    "Here we can see the factors by which home levels are expected to increase above a baseline, given that they fall into a given category."
   ]
  },
  {
   "cell_type": "code",
   "execution_count": 38,
   "id": "d5ff0373",
   "metadata": {
    "scrolled": true
   },
   "outputs": [
    {
     "name": "stdout",
     "output_type": "stream",
     "text": [
      "renovated_2011_2015 factor: 1.1314500045420788\n",
      "\n",
      "renovated_2006_2010 factor: 1.156617734582189\n",
      "\n",
      "renovated_2001_2005 factor: 1.1115995343661846\n",
      "\n",
      "renovated_1996_2000 factor: 1.0407066983188493\n"
     ]
    }
   ],
   "source": [
    "print('renovated_2011_2015 factor:', np.e**0.1235)\n",
    "print('\\nrenovated_2006_2010 factor:', np.e**0.1455)\n",
    "print('\\nrenovated_2001_2005 factor:', np.e**0.1058)\n",
    "print('\\nrenovated_1996_2000 factor:', np.e**0.0399)"
   ]
  },
  {
   "cell_type": "code",
   "execution_count": 39,
   "id": "21d7ccb0",
   "metadata": {},
   "outputs": [
    {
     "name": "stdout",
     "output_type": "stream",
     "text": [
      "95% Confidence Interval for Home renovations between 2011 and 2015:\n",
      "Lower Bound:  1.097461735268082\n",
      "Upper Bound:  1.1664908867784394\n"
     ]
    }
   ],
   "source": [
    "print('95% Confidence Interval for Home renovations between 2011 and 2015:')\n",
    "print('Lower Bound: ', np.e**0.093)\n",
    "print('Upper Bound: ', np.e**0.154)"
   ]
  },
  {
   "cell_type": "markdown",
   "id": "fbcd2aa1",
   "metadata": {},
   "source": [
    "These figures indicate that we have 95% confidence that renovations done between 2011 and 2015 raised the value of homes between 9.7% and 16.6%."
   ]
  },
  {
   "cell_type": "code",
   "execution_count": 40,
   "id": "f228ee03",
   "metadata": {
    "scrolled": true
   },
   "outputs": [
    {
     "name": "stdout",
     "output_type": "stream",
     "text": [
      "february factor: 1.0242903178906215\n",
      "\n",
      "march factor: 1.0509557623495802\n",
      "\n",
      "april factor: 1.0732591998069212\n"
     ]
    }
   ],
   "source": [
    "print('february factor:', np.e**0.0240)\n",
    "print('\\nmarch factor:', np.e**0.0497)\n",
    "print('\\napril factor:', np.e**0.0707)"
   ]
  },
  {
   "cell_type": "markdown",
   "id": "44ebda68",
   "metadata": {},
   "source": [
    "Once we include zipcodes in our model, the standard error of the coefficients decreases significantly, though interestingly, the p value for May went up while the February p value went down. One reason for this is could be that there is some collinearity between May home sales and home sales within higher priced zipcodes. "
   ]
  },
  {
   "cell_type": "markdown",
   "id": "771aa62f",
   "metadata": {},
   "source": [
    "## Model Validation\n",
    "\n",
    "In validating this model, I'll first use a train test split to visualize how well the model predicts the test data after having been trained on a separate set of training data. Next I'll use kfolds cross-validation to run tests on multiple splits of training and testing data to make sure that the model is not overfitting on the training data."
   ]
  },
  {
   "cell_type": "code",
   "execution_count": 41,
   "id": "647321dd",
   "metadata": {},
   "outputs": [],
   "source": [
    "#Importing sklearn libraries to perform validation.\n",
    "\n",
    "from sklearn.metrics import mean_squared_error\n",
    "from sklearn.model_selection import cross_val_score\n",
    "from sklearn.model_selection import train_test_split\n",
    "from sklearn.linear_model import LinearRegression\n",
    "\n",
    "linreg=LinearRegression()\n",
    "\n",
    "X = df_with_zips.drop('log_price', axis=1)\n",
    "y=df_with_zips[['log_price']]\n"
   ]
  },
  {
   "cell_type": "code",
   "execution_count": 42,
   "id": "5cf375b3",
   "metadata": {},
   "outputs": [],
   "source": [
    "#splitting the data into training and testing sets and fitting the model to the testing set.\n",
    "X_train, X_test, y_train, y_test = train_test_split(X, y)\n",
    "\n",
    "linreg.fit(X, y)\n",
    "\n",
    "y_predict = linreg.predict(X_test)"
   ]
  },
  {
   "cell_type": "code",
   "execution_count": 43,
   "id": "de28e2db",
   "metadata": {
    "scrolled": true
   },
   "outputs": [
    {
     "data": {
      "text/plain": [
       "[<matplotlib.lines.Line2D at 0x7fc938d21040>]"
      ]
     },
     "execution_count": 43,
     "metadata": {},
     "output_type": "execute_result"
    },
    {
     "data": {
      "image/png": "[encoded data removed]",
      "text/plain": [
       "<Figure size 720x720 with 1 Axes>"
      ]
     },
     "metadata": {
      "needs_background": "light"
     },
     "output_type": "display_data"
    }
   ],
   "source": [
    "fig, ax = plt.subplots(figsize=(10, 10))\n",
    "ax.scatter(y_predict, y_test)\n",
    "ax.plot(y_predict, y_predict, color='red')"
   ]
  },
  {
   "cell_type": "markdown",
   "id": "07bd0472",
   "metadata": {},
   "source": [
    "Based on a single train-test-split, the model does not appear to be overfit, since the plot above shows a mostly tight distribution of actual prices around their predicted values."
   ]
  },
  {
   "cell_type": "code",
   "execution_count": 44,
   "id": "9d4ec3f5",
   "metadata": {},
   "outputs": [],
   "source": [
    "cv_5_results = np.mean(cross_val_score(linreg, X, y, cv=5, scoring='r2'))\n",
    "cv_10_results = np.mean(cross_val_score(linreg, X, y, cv=10, scoring='r2'))\n",
    "cv_20_results = np.mean(cross_val_score(linreg, X, y, cv=20, scoring='r2'))"
   ]
  },
  {
   "cell_type": "code",
   "execution_count": 45,
   "id": "b462492a",
   "metadata": {},
   "outputs": [
    {
     "name": "stdout",
     "output_type": "stream",
     "text": [
      "cross validation, 5 folds: 0.8832405941259506\n",
      "cross validation, 10 folds: 0.8829919229066112\n",
      "cross validation, 20 folds: 0.8834252798240293\n"
     ]
    }
   ],
   "source": [
    "print('cross validation, 5 folds:', cv_5_results)\n",
    "print('cross validation, 10 folds:', cv_10_results)\n",
    "print('cross validation, 20 folds:', cv_20_results)"
   ]
  },
  {
   "cell_type": "markdown",
   "id": "c4188b2d",
   "metadata": {},
   "source": [
    "The cross validation test shows that the R-squared of the test data is consistently only slightly lower than the R-squared of the training data, indicating that the model hasn't been overfit."
   ]
  },
  {
   "cell_type": "markdown",
   "id": "9f03c80c",
   "metadata": {},
   "source": [
    "## Recommendations"
   ]
  },
  {
   "cell_type": "markdown",
   "id": "c453c26c",
   "metadata": {},
   "source": [
    "Based on this analysis, we use can our model to make recommendations to our clients about the value of home renovations. Since we want don't want our clients to lose money on their investment, we recommend that they expect a 9.7% appreciation of their home value based on renovations, which is the lower bound of our 95% confidence interval. \n",
    "\n",
    "We multiply the value of the home by 9.7% to find the expected appreciation of their home.\n",
    "\n",
    "Then we divided this expected appreciation by (1-r), where r is the expected return on capital to calculate the maximum amount of money that they should spend renovating their home including implicit costs. \n",
    "\n",
    "For example, let's say our model predicts an unrenovated home value of 200,000 and the expected rate of return on capital is 5%."
   ]
  },
  {
   "cell_type": "code",
   "execution_count": 46,
   "id": "26e4f62c",
   "metadata": {},
   "outputs": [
    {
     "name": "stdout",
     "output_type": "stream",
     "text": [
      "minimum added value of renovations (97.5% confidence):  19400.0\n",
      "maximum amount to spend on renovations:  18430.0\n"
     ]
    }
   ],
   "source": [
    "print('minimum added value of renovations (97.5% confidence): ', 200000*0.097)\n",
    "print('maximum amount to spend on renovations: ', 200000*0.097*(1-0.05))"
   ]
  },
  {
   "cell_type": "markdown",
   "id": "badd7fe7",
   "metadata": {},
   "source": [
    "We further recommend that clients try to sell their home in March or April, when they're likely to get the highest prices."
   ]
  },
  {
   "cell_type": "code",
   "execution_count": null,
   "id": "6ed94670",
   "metadata": {},
   "outputs": [],
   "source": []
  }
 ],
 "metadata": {
  "kernelspec": {
   "display_name": "Python 3 (ipykernel)",
   "language": "python",
   "name": "python3"
  },
  "language_info": {
   "codemirror_mode": {
    "name": "ipython",
    "version": 3
   },
   "file_extension": ".py",
   "mimetype": "text/x-python",
   "name": "python",
   "nbconvert_exporter": "python",
   "pygments_lexer": "ipython3",
   "version": "3.9.7"
  }
 },
 "nbformat": 4,
 "nbformat_minor": 5
}
