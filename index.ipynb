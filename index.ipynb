{
 "cells": [
  {
   "cell_type": "markdown",
   "id": "db77dbf9",
   "metadata": {},
   "source": [
    "# King County Real Estate - Predicting Home Prices\n",
    "\n",
    "In this study, I'll be advising clients in King County, Washington who are interested in selling their homes. This study will answer two questions: \n",
    "\n",
    "- How much can improvements increase the value of a home?\n",
    "- When is the best month of year in which to sell a home?\n",
    "\n",
    "In order to determine the effect of improvements and month on home prices, I'm using home sale data to build a linear regression model that predicts the value of homes based on a range of variables. By including variables related to factors other than month and improvements in our model, we can determine with a higher degree of confidence how much these factors can raise home prices. \n",
    "\n",
    "The data set used for this model includes data on home sales in King County, Washington from May 2014 through May 2015."
   ]
  },
  {
   "cell_type": "code",
   "execution_count": 1,
   "id": "959a1ce2",
   "metadata": {},
   "outputs": [],
   "source": [
    "#Importing necessary libraries.\n",
    "\n",
    "import pandas as pd\n",
    "import numpy as np\n",
    "import matplotlib.pyplot as plt\n",
    "%matplotlib inline"
   ]
  },
  {
   "cell_type": "markdown",
   "id": "92c5ad01",
   "metadata": {},
   "source": [
    "## Inspecting and Cleaning Data"
   ]
  },
  {
   "cell_type": "code",
   "execution_count": 2,
   "id": "3690200f",
   "metadata": {},
   "outputs": [],
   "source": [
    "#importing data set on King County \n",
    "\n",
    "df = pd.read_csv('data/kc_house_data.csv')"
   ]
  },
  {
   "cell_type": "code",
   "execution_count": 3,
   "id": "6798c45e",
   "metadata": {},
   "outputs": [
    {
     "data": {
      "text/html": [
       "<div>\n",
       "<style scoped>\n",
       "    .dataframe tbody tr th:only-of-type {\n",
       "        vertical-align: middle;\n",
       "    }\n",
       "\n",
       "    .dataframe tbody tr th {\n",
       "        vertical-align: top;\n",
       "    }\n",
       "\n",
       "    .dataframe thead th {\n",
       "        text-align: right;\n",
       "    }\n",
       "</style>\n",
       "<table border=\"1\" class=\"dataframe\">\n",
       "  <thead>\n",
       "    <tr style=\"text-align: right;\">\n",
       "      <th></th>\n",
       "      <th>id</th>\n",
       "      <th>date</th>\n",
       "      <th>price</th>\n",
       "      <th>bedrooms</th>\n",
       "      <th>bathrooms</th>\n",
       "      <th>sqft_living</th>\n",
       "      <th>sqft_lot</th>\n",
       "      <th>floors</th>\n",
       "      <th>waterfront</th>\n",
       "      <th>view</th>\n",
       "      <th>...</th>\n",
       "      <th>grade</th>\n",
       "      <th>sqft_above</th>\n",
       "      <th>sqft_basement</th>\n",
       "      <th>yr_built</th>\n",
       "      <th>yr_renovated</th>\n",
       "      <th>zipcode</th>\n",
       "      <th>lat</th>\n",
       "      <th>long</th>\n",
       "      <th>sqft_living15</th>\n",
       "      <th>sqft_lot15</th>\n",
       "    </tr>\n",
       "  </thead>\n",
       "  <tbody>\n",
       "    <tr>\n",
       "      <th>0</th>\n",
       "      <td>7129300520</td>\n",
       "      <td>10/13/2014</td>\n",
       "      <td>221900.0</td>\n",
       "      <td>3</td>\n",
       "      <td>1.00</td>\n",
       "      <td>1180</td>\n",
       "      <td>5650</td>\n",
       "      <td>1.0</td>\n",
       "      <td>NaN</td>\n",
       "      <td>NONE</td>\n",
       "      <td>...</td>\n",
       "      <td>7 Average</td>\n",
       "      <td>1180</td>\n",
       "      <td>0.0</td>\n",
       "      <td>1955</td>\n",
       "      <td>0.0</td>\n",
       "      <td>98178</td>\n",
       "      <td>47.5112</td>\n",
       "      <td>-122.257</td>\n",
       "      <td>1340</td>\n",
       "      <td>5650</td>\n",
       "    </tr>\n",
       "    <tr>\n",
       "      <th>1</th>\n",
       "      <td>6414100192</td>\n",
       "      <td>12/9/2014</td>\n",
       "      <td>538000.0</td>\n",
       "      <td>3</td>\n",
       "      <td>2.25</td>\n",
       "      <td>2570</td>\n",
       "      <td>7242</td>\n",
       "      <td>2.0</td>\n",
       "      <td>NO</td>\n",
       "      <td>NONE</td>\n",
       "      <td>...</td>\n",
       "      <td>7 Average</td>\n",
       "      <td>2170</td>\n",
       "      <td>400.0</td>\n",
       "      <td>1951</td>\n",
       "      <td>1991.0</td>\n",
       "      <td>98125</td>\n",
       "      <td>47.7210</td>\n",
       "      <td>-122.319</td>\n",
       "      <td>1690</td>\n",
       "      <td>7639</td>\n",
       "    </tr>\n",
       "    <tr>\n",
       "      <th>2</th>\n",
       "      <td>5631500400</td>\n",
       "      <td>2/25/2015</td>\n",
       "      <td>180000.0</td>\n",
       "      <td>2</td>\n",
       "      <td>1.00</td>\n",
       "      <td>770</td>\n",
       "      <td>10000</td>\n",
       "      <td>1.0</td>\n",
       "      <td>NO</td>\n",
       "      <td>NONE</td>\n",
       "      <td>...</td>\n",
       "      <td>6 Low Average</td>\n",
       "      <td>770</td>\n",
       "      <td>0.0</td>\n",
       "      <td>1933</td>\n",
       "      <td>NaN</td>\n",
       "      <td>98028</td>\n",
       "      <td>47.7379</td>\n",
       "      <td>-122.233</td>\n",
       "      <td>2720</td>\n",
       "      <td>8062</td>\n",
       "    </tr>\n",
       "    <tr>\n",
       "      <th>3</th>\n",
       "      <td>2487200875</td>\n",
       "      <td>12/9/2014</td>\n",
       "      <td>604000.0</td>\n",
       "      <td>4</td>\n",
       "      <td>3.00</td>\n",
       "      <td>1960</td>\n",
       "      <td>5000</td>\n",
       "      <td>1.0</td>\n",
       "      <td>NO</td>\n",
       "      <td>NONE</td>\n",
       "      <td>...</td>\n",
       "      <td>7 Average</td>\n",
       "      <td>1050</td>\n",
       "      <td>910.0</td>\n",
       "      <td>1965</td>\n",
       "      <td>0.0</td>\n",
       "      <td>98136</td>\n",
       "      <td>47.5208</td>\n",
       "      <td>-122.393</td>\n",
       "      <td>1360</td>\n",
       "      <td>5000</td>\n",
       "    </tr>\n",
       "    <tr>\n",
       "      <th>4</th>\n",
       "      <td>1954400510</td>\n",
       "      <td>2/18/2015</td>\n",
       "      <td>510000.0</td>\n",
       "      <td>3</td>\n",
       "      <td>2.00</td>\n",
       "      <td>1680</td>\n",
       "      <td>8080</td>\n",
       "      <td>1.0</td>\n",
       "      <td>NO</td>\n",
       "      <td>NONE</td>\n",
       "      <td>...</td>\n",
       "      <td>8 Good</td>\n",
       "      <td>1680</td>\n",
       "      <td>0.0</td>\n",
       "      <td>1987</td>\n",
       "      <td>0.0</td>\n",
       "      <td>98074</td>\n",
       "      <td>47.6168</td>\n",
       "      <td>-122.045</td>\n",
       "      <td>1800</td>\n",
       "      <td>7503</td>\n",
       "    </tr>\n",
       "  </tbody>\n",
       "</table>\n",
       "<p>5 rows × 21 columns</p>\n",
       "</div>"
      ],
      "text/plain": [
       "           id        date     price  bedrooms  bathrooms  sqft_living  \\\n",
       "0  7129300520  10/13/2014  221900.0         3       1.00         1180   \n",
       "1  6414100192   12/9/2014  538000.0         3       2.25         2570   \n",
       "2  5631500400   2/25/2015  180000.0         2       1.00          770   \n",
       "3  2487200875   12/9/2014  604000.0         4       3.00         1960   \n",
       "4  1954400510   2/18/2015  510000.0         3       2.00         1680   \n",
       "\n",
       "   sqft_lot  floors waterfront  view  ...          grade sqft_above  \\\n",
       "0      5650     1.0        NaN  NONE  ...      7 Average       1180   \n",
       "1      7242     2.0         NO  NONE  ...      7 Average       2170   \n",
       "2     10000     1.0         NO  NONE  ...  6 Low Average        770   \n",
       "3      5000     1.0         NO  NONE  ...      7 Average       1050   \n",
       "4      8080     1.0         NO  NONE  ...         8 Good       1680   \n",
       "\n",
       "   sqft_basement yr_built  yr_renovated  zipcode      lat     long  \\\n",
       "0            0.0     1955           0.0    98178  47.5112 -122.257   \n",
       "1          400.0     1951        1991.0    98125  47.7210 -122.319   \n",
       "2            0.0     1933           NaN    98028  47.7379 -122.233   \n",
       "3          910.0     1965           0.0    98136  47.5208 -122.393   \n",
       "4            0.0     1987           0.0    98074  47.6168 -122.045   \n",
       "\n",
       "   sqft_living15  sqft_lot15  \n",
       "0           1340        5650  \n",
       "1           1690        7639  \n",
       "2           2720        8062  \n",
       "3           1360        5000  \n",
       "4           1800        7503  \n",
       "\n",
       "[5 rows x 21 columns]"
      ]
     },
     "execution_count": 3,
     "metadata": {},
     "output_type": "execute_result"
    }
   ],
   "source": [
    "df.head()"
   ]
  },
  {
   "cell_type": "code",
   "execution_count": 4,
   "id": "046458e4",
   "metadata": {},
   "outputs": [
    {
     "name": "stdout",
     "output_type": "stream",
     "text": [
      "<class 'pandas.core.frame.DataFrame'>\n",
      "RangeIndex: 21597 entries, 0 to 21596\n",
      "Data columns (total 21 columns):\n",
      " #   Column         Non-Null Count  Dtype  \n",
      "---  ------         --------------  -----  \n",
      " 0   id             21597 non-null  int64  \n",
      " 1   date           21597 non-null  object \n",
      " 2   price          21597 non-null  float64\n",
      " 3   bedrooms       21597 non-null  int64  \n",
      " 4   bathrooms      21597 non-null  float64\n",
      " 5   sqft_living    21597 non-null  int64  \n",
      " 6   sqft_lot       21597 non-null  int64  \n",
      " 7   floors         21597 non-null  float64\n",
      " 8   waterfront     19221 non-null  object \n",
      " 9   view           21534 non-null  object \n",
      " 10  condition      21597 non-null  object \n",
      " 11  grade          21597 non-null  object \n",
      " 12  sqft_above     21597 non-null  int64  \n",
      " 13  sqft_basement  21597 non-null  object \n",
      " 14  yr_built       21597 non-null  int64  \n",
      " 15  yr_renovated   17755 non-null  float64\n",
      " 16  zipcode        21597 non-null  int64  \n",
      " 17  lat            21597 non-null  float64\n",
      " 18  long           21597 non-null  float64\n",
      " 19  sqft_living15  21597 non-null  int64  \n",
      " 20  sqft_lot15     21597 non-null  int64  \n",
      "dtypes: float64(6), int64(9), object(6)\n",
      "memory usage: 3.5+ MB\n"
     ]
    }
   ],
   "source": [
    "#inspecting the columns for null values and type object.\n",
    "df.info()"
   ]
  },
  {
   "cell_type": "code",
   "execution_count": 5,
   "id": "d95a190c",
   "metadata": {},
   "outputs": [],
   "source": [
    "#dropping unnecessary columns\n",
    "df = df.drop(['id','lat', 'long'], axis=1)"
   ]
  },
  {
   "cell_type": "markdown",
   "id": "9fd384d4",
   "metadata": {},
   "source": [
    "### Engineering 'month' feature"
   ]
  },
  {
   "cell_type": "code",
   "execution_count": 6,
   "id": "fae98776",
   "metadata": {},
   "outputs": [],
   "source": [
    "#creating new column for 'month'.\n",
    "\n",
    "df['month'] = df['date'].apply(lambda x: int(x.split('/')[0])).apply(lambda x: str(x))\n",
    "df = df.drop('date', axis=1)"
   ]
  },
  {
   "cell_type": "markdown",
   "id": "3ea8fe01",
   "metadata": {},
   "source": [
    "### Converting 'waterfront', 'view', 'condition' and 'grade' to numerical values "
   ]
  },
  {
   "cell_type": "code",
   "execution_count": 7,
   "id": "f80ee00a",
   "metadata": {},
   "outputs": [
    {
     "data": {
      "text/plain": [
       "NO     19075\n",
       "YES      146\n",
       "Name: waterfront, dtype: int64"
      ]
     },
     "execution_count": 7,
     "metadata": {},
     "output_type": "execute_result"
    }
   ],
   "source": [
    "#inspecting waterfront column\n",
    "df['waterfront'].value_counts()"
   ]
  },
  {
   "cell_type": "code",
   "execution_count": 8,
   "id": "f6907df7",
   "metadata": {},
   "outputs": [],
   "source": [
    "#converting waterfront column to binary values\n",
    "\n",
    "df['waterfront'] = df['waterfront'].fillna('NO')\n",
    "waterfront_dictionary = {'NO':0, 'YES':1}\n",
    "df['waterfront'] = df['waterfront'].map(waterfront_dictionary)"
   ]
  },
  {
   "cell_type": "code",
   "execution_count": 9,
   "id": "dc4bd15b",
   "metadata": {},
   "outputs": [
    {
     "data": {
      "text/plain": [
       "NONE         19422\n",
       "AVERAGE        957\n",
       "GOOD           508\n",
       "FAIR           330\n",
       "EXCELLENT      317\n",
       "Name: view, dtype: int64"
      ]
     },
     "execution_count": 9,
     "metadata": {},
     "output_type": "execute_result"
    }
   ],
   "source": [
    "#inspecting view column\n",
    "df['view'].value_counts()"
   ]
  },
  {
   "cell_type": "code",
   "execution_count": 10,
   "id": "05773cdc",
   "metadata": {},
   "outputs": [],
   "source": [
    "#converting view column values to numerical \n",
    "\n",
    "df['view'] = df['view'].fillna('NONE')\n",
    "view_dictionary = {'NONE': 0, 'FAIR': 1, 'AVERAGE': 2, 'GOOD': 3, 'EXCELLENT': 4}\n",
    "df['view'] = df['view'].map(view_dictionary)"
   ]
  },
  {
   "cell_type": "code",
   "execution_count": 11,
   "id": "dbc4274d",
   "metadata": {},
   "outputs": [
    {
     "data": {
      "text/plain": [
       "Average      14020\n",
       "Good          5677\n",
       "Very Good     1701\n",
       "Fair           170\n",
       "Poor            29\n",
       "Name: condition, dtype: int64"
      ]
     },
     "execution_count": 11,
     "metadata": {},
     "output_type": "execute_result"
    }
   ],
   "source": [
    "#inspecting condition column\n",
    "df['condition'].value_counts()"
   ]
  },
  {
   "cell_type": "code",
   "execution_count": 12,
   "id": "2f02a146",
   "metadata": {},
   "outputs": [],
   "source": [
    "#converting condition column values to numerical \n",
    "condition_dictionary = {'Poor': 0, 'Fair': 1, 'Average': 2, 'Good': 3, 'Very Good': 4}\n",
    "df['condition'] = df['condition'].map(condition_dictionary)"
   ]
  },
  {
   "cell_type": "code",
   "execution_count": 13,
   "id": "17fe9555",
   "metadata": {},
   "outputs": [
    {
     "data": {
      "text/plain": [
       "7 Average        8974\n",
       "8 Good           6065\n",
       "9 Better         2615\n",
       "6 Low Average    2038\n",
       "10 Very Good     1134\n",
       "11 Excellent      399\n",
       "5 Fair            242\n",
       "12 Luxury          89\n",
       "4 Low              27\n",
       "13 Mansion         13\n",
       "3 Poor              1\n",
       "Name: grade, dtype: int64"
      ]
     },
     "execution_count": 13,
     "metadata": {},
     "output_type": "execute_result"
    }
   ],
   "source": [
    "#inspecting grade column\n",
    "\n",
    "df['grade'].value_counts()"
   ]
  },
  {
   "cell_type": "code",
   "execution_count": 14,
   "id": "aa329279",
   "metadata": {},
   "outputs": [],
   "source": [
    "#converting grade column values to numerical \n",
    "\n",
    "df['grade'] = df['grade'].apply(lambda x: x.split()[0]).astype(int)"
   ]
  },
  {
   "cell_type": "markdown",
   "id": "6f7421a2",
   "metadata": {},
   "source": [
    "### Cleaning 'sqft_basement' values and converting to binary\n",
    "\n",
    "Since we expect multicollinearity between the the sqft_living variable, the sqft_above variable, and the sqft_basement variable, I'm converting sqft_basement to a binary variable 'basement,' which identifies whether or not there is a basement."
   ]
  },
  {
   "cell_type": "code",
   "execution_count": 15,
   "id": "6d455cc5",
   "metadata": {},
   "outputs": [
    {
     "data": {
      "text/plain": [
       "0.0       12826\n",
       "?           454\n",
       "600.0       217\n",
       "500.0       209\n",
       "700.0       208\n",
       "          ...  \n",
       "1920.0        1\n",
       "3480.0        1\n",
       "2730.0        1\n",
       "2720.0        1\n",
       "248.0         1\n",
       "Name: sqft_basement, Length: 304, dtype: int64"
      ]
     },
     "execution_count": 15,
     "metadata": {},
     "output_type": "execute_result"
    }
   ],
   "source": [
    "#inspecting sqft_basement column\n",
    "\n",
    "df['sqft_basement'].value_counts()"
   ]
  },
  {
   "cell_type": "code",
   "execution_count": 16,
   "id": "76583545",
   "metadata": {},
   "outputs": [],
   "source": [
    "#converting sqft_basement values to numerical, labeling '?' values as zero \n",
    "\n",
    "df['sqft_basement'] = df['sqft_basement'].apply(lambda x: 0 if x=='?' else x)\n",
    "df['sqft_basement'] = df['sqft_basement'].astype(float)\n"
   ]
  },
  {
   "cell_type": "code",
   "execution_count": 17,
   "id": "36c10758",
   "metadata": {},
   "outputs": [],
   "source": [
    "df['basement'] = df['sqft_basement'].apply(lambda x: 0 if x==0 else 1)\n",
    "df = df.drop('sqft_basement', axis=1)"
   ]
  },
  {
   "cell_type": "code",
   "execution_count": 18,
   "id": "b0ef7028",
   "metadata": {},
   "outputs": [
    {
     "data": {
      "text/html": [
       "<div>\n",
       "<style scoped>\n",
       "    .dataframe tbody tr th:only-of-type {\n",
       "        vertical-align: middle;\n",
       "    }\n",
       "\n",
       "    .dataframe tbody tr th {\n",
       "        vertical-align: top;\n",
       "    }\n",
       "\n",
       "    .dataframe thead th {\n",
       "        text-align: right;\n",
       "    }\n",
       "</style>\n",
       "<table border=\"1\" class=\"dataframe\">\n",
       "  <thead>\n",
       "    <tr style=\"text-align: right;\">\n",
       "      <th></th>\n",
       "      <th>price</th>\n",
       "      <th>bedrooms</th>\n",
       "      <th>bathrooms</th>\n",
       "      <th>sqft_living</th>\n",
       "      <th>sqft_lot</th>\n",
       "      <th>floors</th>\n",
       "      <th>waterfront</th>\n",
       "      <th>view</th>\n",
       "      <th>condition</th>\n",
       "      <th>grade</th>\n",
       "      <th>sqft_above</th>\n",
       "      <th>yr_built</th>\n",
       "      <th>yr_renovated</th>\n",
       "      <th>zipcode</th>\n",
       "      <th>sqft_living15</th>\n",
       "      <th>sqft_lot15</th>\n",
       "      <th>basement</th>\n",
       "    </tr>\n",
       "  </thead>\n",
       "  <tbody>\n",
       "    <tr>\n",
       "      <th>count</th>\n",
       "      <td>2.159700e+04</td>\n",
       "      <td>21597.000000</td>\n",
       "      <td>21597.000000</td>\n",
       "      <td>21597.000000</td>\n",
       "      <td>2.159700e+04</td>\n",
       "      <td>21597.000000</td>\n",
       "      <td>21597.000000</td>\n",
       "      <td>21597.000000</td>\n",
       "      <td>21597.000000</td>\n",
       "      <td>21597.000000</td>\n",
       "      <td>21597.000000</td>\n",
       "      <td>21597.000000</td>\n",
       "      <td>17755.000000</td>\n",
       "      <td>21597.000000</td>\n",
       "      <td>21597.000000</td>\n",
       "      <td>21597.000000</td>\n",
       "      <td>21597.00000</td>\n",
       "    </tr>\n",
       "    <tr>\n",
       "      <th>mean</th>\n",
       "      <td>5.402966e+05</td>\n",
       "      <td>3.373200</td>\n",
       "      <td>2.115826</td>\n",
       "      <td>2080.321850</td>\n",
       "      <td>1.509941e+04</td>\n",
       "      <td>1.494096</td>\n",
       "      <td>0.006760</td>\n",
       "      <td>0.233181</td>\n",
       "      <td>2.409825</td>\n",
       "      <td>7.657915</td>\n",
       "      <td>1788.596842</td>\n",
       "      <td>1970.999676</td>\n",
       "      <td>83.636778</td>\n",
       "      <td>98077.951845</td>\n",
       "      <td>1986.620318</td>\n",
       "      <td>12758.283512</td>\n",
       "      <td>0.38510</td>\n",
       "    </tr>\n",
       "    <tr>\n",
       "      <th>std</th>\n",
       "      <td>3.673681e+05</td>\n",
       "      <td>0.926299</td>\n",
       "      <td>0.768984</td>\n",
       "      <td>918.106125</td>\n",
       "      <td>4.141264e+04</td>\n",
       "      <td>0.539683</td>\n",
       "      <td>0.081944</td>\n",
       "      <td>0.764673</td>\n",
       "      <td>0.650546</td>\n",
       "      <td>1.173200</td>\n",
       "      <td>827.759761</td>\n",
       "      <td>29.375234</td>\n",
       "      <td>399.946414</td>\n",
       "      <td>53.513072</td>\n",
       "      <td>685.230472</td>\n",
       "      <td>27274.441950</td>\n",
       "      <td>0.48663</td>\n",
       "    </tr>\n",
       "    <tr>\n",
       "      <th>min</th>\n",
       "      <td>7.800000e+04</td>\n",
       "      <td>1.000000</td>\n",
       "      <td>0.500000</td>\n",
       "      <td>370.000000</td>\n",
       "      <td>5.200000e+02</td>\n",
       "      <td>1.000000</td>\n",
       "      <td>0.000000</td>\n",
       "      <td>0.000000</td>\n",
       "      <td>0.000000</td>\n",
       "      <td>3.000000</td>\n",
       "      <td>370.000000</td>\n",
       "      <td>1900.000000</td>\n",
       "      <td>0.000000</td>\n",
       "      <td>98001.000000</td>\n",
       "      <td>399.000000</td>\n",
       "      <td>651.000000</td>\n",
       "      <td>0.00000</td>\n",
       "    </tr>\n",
       "    <tr>\n",
       "      <th>25%</th>\n",
       "      <td>3.220000e+05</td>\n",
       "      <td>3.000000</td>\n",
       "      <td>1.750000</td>\n",
       "      <td>1430.000000</td>\n",
       "      <td>5.040000e+03</td>\n",
       "      <td>1.000000</td>\n",
       "      <td>0.000000</td>\n",
       "      <td>0.000000</td>\n",
       "      <td>2.000000</td>\n",
       "      <td>7.000000</td>\n",
       "      <td>1190.000000</td>\n",
       "      <td>1951.000000</td>\n",
       "      <td>0.000000</td>\n",
       "      <td>98033.000000</td>\n",
       "      <td>1490.000000</td>\n",
       "      <td>5100.000000</td>\n",
       "      <td>0.00000</td>\n",
       "    </tr>\n",
       "    <tr>\n",
       "      <th>50%</th>\n",
       "      <td>4.500000e+05</td>\n",
       "      <td>3.000000</td>\n",
       "      <td>2.250000</td>\n",
       "      <td>1910.000000</td>\n",
       "      <td>7.618000e+03</td>\n",
       "      <td>1.500000</td>\n",
       "      <td>0.000000</td>\n",
       "      <td>0.000000</td>\n",
       "      <td>2.000000</td>\n",
       "      <td>7.000000</td>\n",
       "      <td>1560.000000</td>\n",
       "      <td>1975.000000</td>\n",
       "      <td>0.000000</td>\n",
       "      <td>98065.000000</td>\n",
       "      <td>1840.000000</td>\n",
       "      <td>7620.000000</td>\n",
       "      <td>0.00000</td>\n",
       "    </tr>\n",
       "    <tr>\n",
       "      <th>75%</th>\n",
       "      <td>6.450000e+05</td>\n",
       "      <td>4.000000</td>\n",
       "      <td>2.500000</td>\n",
       "      <td>2550.000000</td>\n",
       "      <td>1.068500e+04</td>\n",
       "      <td>2.000000</td>\n",
       "      <td>0.000000</td>\n",
       "      <td>0.000000</td>\n",
       "      <td>3.000000</td>\n",
       "      <td>8.000000</td>\n",
       "      <td>2210.000000</td>\n",
       "      <td>1997.000000</td>\n",
       "      <td>0.000000</td>\n",
       "      <td>98118.000000</td>\n",
       "      <td>2360.000000</td>\n",
       "      <td>10083.000000</td>\n",
       "      <td>1.00000</td>\n",
       "    </tr>\n",
       "    <tr>\n",
       "      <th>max</th>\n",
       "      <td>7.700000e+06</td>\n",
       "      <td>33.000000</td>\n",
       "      <td>8.000000</td>\n",
       "      <td>13540.000000</td>\n",
       "      <td>1.651359e+06</td>\n",
       "      <td>3.500000</td>\n",
       "      <td>1.000000</td>\n",
       "      <td>4.000000</td>\n",
       "      <td>4.000000</td>\n",
       "      <td>13.000000</td>\n",
       "      <td>9410.000000</td>\n",
       "      <td>2015.000000</td>\n",
       "      <td>2015.000000</td>\n",
       "      <td>98199.000000</td>\n",
       "      <td>6210.000000</td>\n",
       "      <td>871200.000000</td>\n",
       "      <td>1.00000</td>\n",
       "    </tr>\n",
       "  </tbody>\n",
       "</table>\n",
       "</div>"
      ],
      "text/plain": [
       "              price      bedrooms     bathrooms   sqft_living      sqft_lot  \\\n",
       "count  2.159700e+04  21597.000000  21597.000000  21597.000000  2.159700e+04   \n",
       "mean   5.402966e+05      3.373200      2.115826   2080.321850  1.509941e+04   \n",
       "std    3.673681e+05      0.926299      0.768984    918.106125  4.141264e+04   \n",
       "min    7.800000e+04      1.000000      0.500000    370.000000  5.200000e+02   \n",
       "25%    3.220000e+05      3.000000      1.750000   1430.000000  5.040000e+03   \n",
       "50%    4.500000e+05      3.000000      2.250000   1910.000000  7.618000e+03   \n",
       "75%    6.450000e+05      4.000000      2.500000   2550.000000  1.068500e+04   \n",
       "max    7.700000e+06     33.000000      8.000000  13540.000000  1.651359e+06   \n",
       "\n",
       "             floors    waterfront          view     condition         grade  \\\n",
       "count  21597.000000  21597.000000  21597.000000  21597.000000  21597.000000   \n",
       "mean       1.494096      0.006760      0.233181      2.409825      7.657915   \n",
       "std        0.539683      0.081944      0.764673      0.650546      1.173200   \n",
       "min        1.000000      0.000000      0.000000      0.000000      3.000000   \n",
       "25%        1.000000      0.000000      0.000000      2.000000      7.000000   \n",
       "50%        1.500000      0.000000      0.000000      2.000000      7.000000   \n",
       "75%        2.000000      0.000000      0.000000      3.000000      8.000000   \n",
       "max        3.500000      1.000000      4.000000      4.000000     13.000000   \n",
       "\n",
       "         sqft_above      yr_built  yr_renovated       zipcode  sqft_living15  \\\n",
       "count  21597.000000  21597.000000  17755.000000  21597.000000   21597.000000   \n",
       "mean    1788.596842   1970.999676     83.636778  98077.951845    1986.620318   \n",
       "std      827.759761     29.375234    399.946414     53.513072     685.230472   \n",
       "min      370.000000   1900.000000      0.000000  98001.000000     399.000000   \n",
       "25%     1190.000000   1951.000000      0.000000  98033.000000    1490.000000   \n",
       "50%     1560.000000   1975.000000      0.000000  98065.000000    1840.000000   \n",
       "75%     2210.000000   1997.000000      0.000000  98118.000000    2360.000000   \n",
       "max     9410.000000   2015.000000   2015.000000  98199.000000    6210.000000   \n",
       "\n",
       "          sqft_lot15     basement  \n",
       "count   21597.000000  21597.00000  \n",
       "mean    12758.283512      0.38510  \n",
       "std     27274.441950      0.48663  \n",
       "min       651.000000      0.00000  \n",
       "25%      5100.000000      0.00000  \n",
       "50%      7620.000000      0.00000  \n",
       "75%     10083.000000      1.00000  \n",
       "max    871200.000000      1.00000  "
      ]
     },
     "execution_count": 18,
     "metadata": {},
     "output_type": "execute_result"
    }
   ],
   "source": [
    "df.describe()"
   ]
  },
  {
   "cell_type": "markdown",
   "id": "0a0e2eae",
   "metadata": {},
   "source": [
    "### Engineering Renovation Features"
   ]
  },
  {
   "cell_type": "code",
   "execution_count": 19,
   "id": "0f4598c4",
   "metadata": {
    "scrolled": true
   },
   "outputs": [
    {
     "data": {
      "text/plain": [
       "0.0       17011\n",
       "2014.0       73\n",
       "2013.0       31\n",
       "2003.0       31\n",
       "2007.0       30\n",
       "          ...  \n",
       "1951.0        1\n",
       "1953.0        1\n",
       "1946.0        1\n",
       "1976.0        1\n",
       "1948.0        1\n",
       "Name: yr_renovated, Length: 70, dtype: int64"
      ]
     },
     "execution_count": 19,
     "metadata": {},
     "output_type": "execute_result"
    }
   ],
   "source": [
    "#inspecting renovation value counts\n",
    "df['yr_renovated'].value_counts()"
   ]
  },
  {
   "cell_type": "markdown",
   "id": "0bbe7bbe",
   "metadata": {},
   "source": [
    "Because there are so many houses that have not been renovated, many houses have a 'yr_renovated' value of zero. I'm therefore going to bin renovations by the five year period during which they took place, including only the eight five year periods from the past forty years, since dates before this are unlikely to affect the value of a home."
   ]
  },
  {
   "cell_type": "code",
   "execution_count": 20,
   "id": "3fa2468d",
   "metadata": {},
   "outputs": [
    {
     "data": {
      "text/plain": [
       "<AxesSubplot:>"
      ]
     },
     "execution_count": 20,
     "metadata": {},
     "output_type": "execute_result"
    },
    {
     "data": {
      "image/png": "[encoded data removed]",
      "text/plain": [
       "<Figure size 432x288 with 1 Axes>"
      ]
     },
     "metadata": {
      "needs_background": "light"
     },
     "output_type": "display_data"
    }
   ],
   "source": [
    "#inspecting renovation dates\n",
    "\n",
    "df['yr_renovated'].loc[df['yr_renovated']!=0].hist()"
   ]
  },
  {
   "cell_type": "code",
   "execution_count": 21,
   "id": "0a662d87",
   "metadata": {},
   "outputs": [],
   "source": [
    "#binning renovation dates from the past 40 years into eight five-year periods and encoding as binaries\n",
    "#df['renovated'] =df['yr_renovated'].apply(lambda x: 0 if x==0 else 1)\n",
    "df['renovated_2011_2015'] = df['yr_renovated'].apply(lambda x: 1 if x>=2011 else 0)\n",
    "df['renovated_2006_2010'] = df['yr_renovated'].apply(lambda x: 1 if (x>=2006) & (x<2011) else 0)\n",
    "df['renovated_2001_2005'] = df['yr_renovated'].apply(lambda x: 1 if (x>=2001) & (x<2006) else 0)\n",
    "df['renovated_1996_2000'] = df['yr_renovated'].apply(lambda x: 1 if (x>=1996) & (x<2001) else 0)\n",
    "df['renovated_1991_1995'] = df['yr_renovated'].apply(lambda x: 1 if (x>=1991) & (x<1996) else 0)\n",
    "df['renovated_1986_1990'] = df['yr_renovated'].apply(lambda x: 1 if (x>=1986) & (x<1991) else 0)\n",
    "df['renovated_1981_1985'] = df['yr_renovated'].apply(lambda x: 1 if (x>=1981) & (x<1986) else 0)\n",
    "df['renovated_1976_1980'] = df['yr_renovated'].apply(lambda x: 1 if (x>=1976) & (x<1980) else 0)\n",
    "df = df.drop('yr_renovated', axis=1)"
   ]
  },
  {
   "cell_type": "markdown",
   "id": "cffecd1f",
   "metadata": {},
   "source": [
    "### Converting zipcodes and months to dummy variables"
   ]
  },
  {
   "cell_type": "code",
   "execution_count": 22,
   "id": "1344d066",
   "metadata": {},
   "outputs": [],
   "source": [
    "#converting zipcodes to dummies.\n",
    "df['zipcode'] = df['zipcode'].astype(str)\n",
    "zipcode_dummies = pd.get_dummies(df['zipcode'], prefix='zip', drop_first=True)\n",
    "df = df.drop('zipcode', axis=1)"
   ]
  },
  {
   "cell_type": "code",
   "execution_count": 23,
   "id": "005bec60",
   "metadata": {},
   "outputs": [],
   "source": [
    "#converting months to dummies, removing the first month to avoid multicollinearity. \n",
    "\n",
    "month_dummies = pd.get_dummies(df['month'], prefix='m', drop_first=True)\n",
    "df = df.drop('month', axis=1)"
   ]
  },
  {
   "cell_type": "markdown",
   "id": "3c5fd590",
   "metadata": {},
   "source": [
    "### Adding month dummies to dataframe\n",
    "\n",
    "For my baseline model, I'm leaving out zipcode dummies but after testing my baseline model, I'll add them to see how this improves the model's performance."
   ]
  },
  {
   "cell_type": "code",
   "execution_count": 24,
   "id": "1b2f715f",
   "metadata": {},
   "outputs": [],
   "source": [
    "#data frame with dummies included\n",
    "\n",
    "df = pd.concat([df, month_dummies], axis=1)"
   ]
  },
  {
   "cell_type": "markdown",
   "id": "3a58ed6d",
   "metadata": {},
   "source": [
    "## Evaluating the baseline model\n",
    "\n",
    "All data from the original data set (other than latitude and longitude) has now been converted to numerical or binary values. \n",
    "We're temporarily leaving zipcodes out of the model.\n",
    "\n",
    "Before testing our baseline model, we'll look at:\n",
    "- The distribution of the variables\n",
    "- Correlation between variables\n",
    "\n",
    "If variables have non-normal distributions we can improve our model by applying the log function to the variables.\n",
    "\n",
    "If variables are highly correlated with each other, it means that we can't necessarily trust the coefficients associated with those variables since they may not be independent. However, the inclusion of collinear variables may still improve the performance of the model. "
   ]
  },
  {
   "cell_type": "markdown",
   "id": "8a78aeb4",
   "metadata": {},
   "source": [
    "### Distribution"
   ]
  },
  {
   "cell_type": "code",
   "execution_count": 25,
   "id": "e996b68c",
   "metadata": {
    "scrolled": true
   },
   "outputs": [
    {
     "data": {
      "text/plain": [
       "array([[<AxesSubplot:title={'center':'price'}>,\n",
       "        <AxesSubplot:title={'center':'bedrooms'}>,\n",
       "        <AxesSubplot:title={'center':'bathrooms'}>,\n",
       "        <AxesSubplot:title={'center':'sqft_living'}>,\n",
       "        <AxesSubplot:title={'center':'sqft_lot'}>,\n",
       "        <AxesSubplot:title={'center':'floors'}>],\n",
       "       [<AxesSubplot:title={'center':'waterfront'}>,\n",
       "        <AxesSubplot:title={'center':'view'}>,\n",
       "        <AxesSubplot:title={'center':'condition'}>,\n",
       "        <AxesSubplot:title={'center':'grade'}>,\n",
       "        <AxesSubplot:title={'center':'sqft_above'}>,\n",
       "        <AxesSubplot:title={'center':'yr_built'}>],\n",
       "       [<AxesSubplot:title={'center':'sqft_living15'}>,\n",
       "        <AxesSubplot:title={'center':'sqft_lot15'}>,\n",
       "        <AxesSubplot:title={'center':'basement'}>,\n",
       "        <AxesSubplot:title={'center':'renovated_2011_2015'}>,\n",
       "        <AxesSubplot:title={'center':'renovated_2006_2010'}>,\n",
       "        <AxesSubplot:title={'center':'renovated_2001_2005'}>],\n",
       "       [<AxesSubplot:title={'center':'renovated_1996_2000'}>,\n",
       "        <AxesSubplot:title={'center':'renovated_1991_1995'}>,\n",
       "        <AxesSubplot:title={'center':'renovated_1986_1990'}>,\n",
       "        <AxesSubplot:title={'center':'renovated_1981_1985'}>,\n",
       "        <AxesSubplot:title={'center':'renovated_1976_1980'}>,\n",
       "        <AxesSubplot:title={'center':'m_10'}>],\n",
       "       [<AxesSubplot:title={'center':'m_11'}>,\n",
       "        <AxesSubplot:title={'center':'m_12'}>,\n",
       "        <AxesSubplot:title={'center':'m_2'}>,\n",
       "        <AxesSubplot:title={'center':'m_3'}>,\n",
       "        <AxesSubplot:title={'center':'m_4'}>,\n",
       "        <AxesSubplot:title={'center':'m_5'}>],\n",
       "       [<AxesSubplot:title={'center':'m_6'}>,\n",
       "        <AxesSubplot:title={'center':'m_7'}>,\n",
       "        <AxesSubplot:title={'center':'m_8'}>,\n",
       "        <AxesSubplot:title={'center':'m_9'}>, <AxesSubplot:>,\n",
       "        <AxesSubplot:>]], dtype=object)"
      ]
     },
     "execution_count": 25,
     "metadata": {},
     "output_type": "execute_result"
    },
    {
     "data": {
      "image/png": "[encoded data removed]",
      "text/plain": [
       "<Figure size 1152x1152 with 36 Axes>"
      ]
     },
     "metadata": {
      "needs_background": "light"
     },
     "output_type": "display_data"
    }
   ],
   "source": [
    "#inspecting distribution of variables\n",
    "df.hist(figsize=(16,16))"
   ]
  },
  {
   "cell_type": "markdown",
   "id": "35210ec6",
   "metadata": {},
   "source": [
    "We can see here that the target variable ('price') as well as all of the continuous predictive variables have non-normal distributions."
   ]
  },
  {
   "cell_type": "markdown",
   "id": "cda8056f",
   "metadata": {},
   "source": [
    "### Collinearity"
   ]
  },
  {
   "cell_type": "code",
   "execution_count": 26,
   "id": "1944a3fd",
   "metadata": {
    "scrolled": true
   },
   "outputs": [
    {
     "data": {
      "text/html": [
       "<div>\n",
       "<style scoped>\n",
       "    .dataframe tbody tr th:only-of-type {\n",
       "        vertical-align: middle;\n",
       "    }\n",
       "\n",
       "    .dataframe tbody tr th {\n",
       "        vertical-align: top;\n",
       "    }\n",
       "\n",
       "    .dataframe thead th {\n",
       "        text-align: right;\n",
       "    }\n",
       "</style>\n",
       "<table border=\"1\" class=\"dataframe\">\n",
       "  <thead>\n",
       "    <tr style=\"text-align: right;\">\n",
       "      <th></th>\n",
       "      <th>correlations</th>\n",
       "    </tr>\n",
       "    <tr>\n",
       "      <th>pairs</th>\n",
       "      <th></th>\n",
       "    </tr>\n",
       "  </thead>\n",
       "  <tbody>\n",
       "    <tr>\n",
       "      <th>(sqft_living, sqft_above)</th>\n",
       "      <td>0.876448</td>\n",
       "    </tr>\n",
       "    <tr>\n",
       "      <th>(grade, sqft_living)</th>\n",
       "      <td>0.762779</td>\n",
       "    </tr>\n",
       "    <tr>\n",
       "      <th>(sqft_living, sqft_living15)</th>\n",
       "      <td>0.756402</td>\n",
       "    </tr>\n",
       "    <tr>\n",
       "      <th>(grade, sqft_above)</th>\n",
       "      <td>0.756073</td>\n",
       "    </tr>\n",
       "    <tr>\n",
       "      <th>(sqft_living, bathrooms)</th>\n",
       "      <td>0.755758</td>\n",
       "    </tr>\n",
       "    <tr>\n",
       "      <th>(sqft_living15, sqft_above)</th>\n",
       "      <td>0.731767</td>\n",
       "    </tr>\n",
       "    <tr>\n",
       "      <th>(sqft_lot, sqft_lot15)</th>\n",
       "      <td>0.718204</td>\n",
       "    </tr>\n",
       "    <tr>\n",
       "      <th>(sqft_living15, grade)</th>\n",
       "      <td>0.713867</td>\n",
       "    </tr>\n",
       "    <tr>\n",
       "      <th>(sqft_above, bathrooms)</th>\n",
       "      <td>0.686668</td>\n",
       "    </tr>\n",
       "    <tr>\n",
       "      <th>(grade, bathrooms)</th>\n",
       "      <td>0.665838</td>\n",
       "    </tr>\n",
       "  </tbody>\n",
       "</table>\n",
       "</div>"
      ],
      "text/plain": [
       "                              correlations\n",
       "pairs                                     \n",
       "(sqft_living, sqft_above)         0.876448\n",
       "(grade, sqft_living)              0.762779\n",
       "(sqft_living, sqft_living15)      0.756402\n",
       "(grade, sqft_above)               0.756073\n",
       "(sqft_living, bathrooms)          0.755758\n",
       "(sqft_living15, sqft_above)       0.731767\n",
       "(sqft_lot, sqft_lot15)            0.718204\n",
       "(sqft_living15, grade)            0.713867\n",
       "(sqft_above, bathrooms)           0.686668\n",
       "(grade, bathrooms)                0.665838"
      ]
     },
     "execution_count": 26,
     "metadata": {},
     "output_type": "execute_result"
    }
   ],
   "source": [
    "#looking for collinearity of predictive variables\n",
    "# code from https://github.com/learn-co-curriculum/dsc-multicollinearity-of-features\n",
    "predictors = df.drop('price', axis=1)\n",
    "\n",
    "predictor=predictors.corr().abs().stack().reset_index().sort_values(0, ascending=False)\n",
    "\n",
    "predictor['pairs'] = list(zip(predictor.level_0, predictor.level_1))\n",
    "predictor.set_index(['pairs'], inplace = True)\n",
    "predictor.drop(columns=['level_1', 'level_0'], inplace = True)\n",
    "predictor.columns = ['correlations']\n",
    "predictor.drop_duplicates(inplace=True)\n",
    "\n",
    "predictor[(predictor['correlations']<1)&(predictor['correlations']>=0.65)]"
   ]
  },
  {
   "cell_type": "code",
   "execution_count": 27,
   "id": "96867c64",
   "metadata": {},
   "outputs": [],
   "source": [
    "from statsmodels.stats.outliers_influence import variance_inflation_factor\n",
    "from statsmodels.tools.tools import add_constant\n",
    "def calc_vif(X):\n",
    "    \n",
    "    vif = pd.DataFrame()\n",
    "    vif[\"variables\"] = X.columns\n",
    "    vif[\"VIF\"] = [variance_inflation_factor(X.values, i) for i in range(X.shape[1])]\n",
    "\n",
    "    return(vif)"
   ]
  },
  {
   "cell_type": "code",
   "execution_count": 28,
   "id": "b85aba82",
   "metadata": {},
   "outputs": [
    {
     "name": "stderr",
     "output_type": "stream",
     "text": [
      "/Users/davidrichter/opt/anaconda3/lib/python3.9/site-packages/statsmodels/tsa/tsatools.py:142: FutureWarning: In a future version of pandas all arguments of concat except for the argument 'objs' will be keyword-only\n",
      "  x = pd.concat(x[::order], 1)\n"
     ]
    }
   ],
   "source": [
    "df_plus_const = add_constant(df)\n",
    "df_vif = calc_vif(df_plus_const)"
   ]
  },
  {
   "cell_type": "code",
   "execution_count": 29,
   "id": "206a1196",
   "metadata": {},
   "outputs": [
    {
     "data": {
      "text/html": [
       "<div>\n",
       "<style scoped>\n",
       "    .dataframe tbody tr th:only-of-type {\n",
       "        vertical-align: middle;\n",
       "    }\n",
       "\n",
       "    .dataframe tbody tr th {\n",
       "        vertical-align: top;\n",
       "    }\n",
       "\n",
       "    .dataframe thead th {\n",
       "        text-align: right;\n",
       "    }\n",
       "</style>\n",
       "<table border=\"1\" class=\"dataframe\">\n",
       "  <thead>\n",
       "    <tr style=\"text-align: right;\">\n",
       "      <th></th>\n",
       "      <th>variables</th>\n",
       "      <th>VIF</th>\n",
       "    </tr>\n",
       "  </thead>\n",
       "  <tbody>\n",
       "    <tr>\n",
       "      <th>0</th>\n",
       "      <td>const</td>\n",
       "      <td>9383.879547</td>\n",
       "    </tr>\n",
       "    <tr>\n",
       "      <th>4</th>\n",
       "      <td>sqft_living</td>\n",
       "      <td>16.678695</td>\n",
       "    </tr>\n",
       "    <tr>\n",
       "      <th>11</th>\n",
       "      <td>sqft_above</td>\n",
       "      <td>15.755680</td>\n",
       "    </tr>\n",
       "    <tr>\n",
       "      <th>10</th>\n",
       "      <td>grade</td>\n",
       "      <td>3.710350</td>\n",
       "    </tr>\n",
       "    <tr>\n",
       "      <th>3</th>\n",
       "      <td>bathrooms</td>\n",
       "      <td>3.435160</td>\n",
       "    </tr>\n",
       "  </tbody>\n",
       "</table>\n",
       "</div>"
      ],
      "text/plain": [
       "      variables          VIF\n",
       "0         const  9383.879547\n",
       "4   sqft_living    16.678695\n",
       "11   sqft_above    15.755680\n",
       "10        grade     3.710350\n",
       "3     bathrooms     3.435160"
      ]
     },
     "execution_count": 29,
     "metadata": {},
     "output_type": "execute_result"
    }
   ],
   "source": [
    "df_vif.sort_values(\"VIF\", ascending=False).head()"
   ]
  },
  {
   "cell_type": "markdown",
   "id": "527d70c9",
   "metadata": {},
   "source": [
    "It's unsurprising that sqft_living and sqft_above have a VIF of over 10 because sqft_above is directly dependent on sqft_living, basement, and floors and, in the case of the houses without a basement, should be identical to sqft_living.\n",
    "\n",
    "Consequently, we'll leave sqft_above out of our model.\n",
    "\n",
    "Because the other correlated variables can all move independently of each other, we'll leave them in place for now, but will check VIFs after converting continuous variables to logs and adding zipcode variables."
   ]
  },
  {
   "cell_type": "code",
   "execution_count": 30,
   "id": "97c644cc",
   "metadata": {},
   "outputs": [],
   "source": [
    "df = df.drop('sqft_above', axis=1)"
   ]
  },
  {
   "cell_type": "markdown",
   "id": "d069e203",
   "metadata": {},
   "source": [
    "## Fitting and evaluating the baseline model"
   ]
  },
  {
   "cell_type": "code",
   "execution_count": 31,
   "id": "d8ac3388",
   "metadata": {
    "scrolled": true
   },
   "outputs": [
    {
     "data": {
      "text/html": [
       "<table class=\"simpletable\">\n",
       "<caption>OLS Regression Results</caption>\n",
       "<tr>\n",
       "  <th>Dep. Variable:</th>          <td>price</td>      <th>  R-squared:         </th>  <td>   0.657</td>  \n",
       "</tr>\n",
       "<tr>\n",
       "  <th>Model:</th>                   <td>OLS</td>       <th>  Adj. R-squared:    </th>  <td>   0.656</td>  \n",
       "</tr>\n",
       "<tr>\n",
       "  <th>Method:</th>             <td>Least Squares</td>  <th>  F-statistic:       </th>  <td>   1290.</td>  \n",
       "</tr>\n",
       "<tr>\n",
       "  <th>Date:</th>             <td>Thu, 05 May 2022</td> <th>  Prob (F-statistic):</th>   <td>  0.00</td>   \n",
       "</tr>\n",
       "<tr>\n",
       "  <th>Time:</th>                 <td>16:47:55</td>     <th>  Log-Likelihood:    </th> <td>-2.9584e+05</td>\n",
       "</tr>\n",
       "<tr>\n",
       "  <th>No. Observations:</th>      <td> 21597</td>      <th>  AIC:               </th>  <td>5.917e+05</td> \n",
       "</tr>\n",
       "<tr>\n",
       "  <th>Df Residuals:</th>          <td> 21564</td>      <th>  BIC:               </th>  <td>5.920e+05</td> \n",
       "</tr>\n",
       "<tr>\n",
       "  <th>Df Model:</th>              <td>    32</td>      <th>                     </th>      <td> </td>     \n",
       "</tr>\n",
       "<tr>\n",
       "  <th>Covariance Type:</th>      <td>nonrobust</td>    <th>                     </th>      <td> </td>     \n",
       "</tr>\n",
       "</table>\n",
       "<table class=\"simpletable\">\n",
       "<tr>\n",
       "           <td></td>              <th>coef</th>     <th>std err</th>      <th>t</th>      <th>P>|t|</th>  <th>[0.025</th>    <th>0.975]</th>  \n",
       "</tr>\n",
       "<tr>\n",
       "  <th>Intercept</th>           <td> 6.132e+06</td> <td> 1.36e+05</td> <td>   45.202</td> <td> 0.000</td> <td> 5.87e+06</td> <td>  6.4e+06</td>\n",
       "</tr>\n",
       "<tr>\n",
       "  <th>bedrooms</th>            <td> -3.97e+04</td> <td> 2029.700</td> <td>  -19.557</td> <td> 0.000</td> <td>-4.37e+04</td> <td>-3.57e+04</td>\n",
       "</tr>\n",
       "<tr>\n",
       "  <th>bathrooms</th>           <td> 4.413e+04</td> <td> 3518.557</td> <td>   12.543</td> <td> 0.000</td> <td> 3.72e+04</td> <td>  5.1e+04</td>\n",
       "</tr>\n",
       "<tr>\n",
       "  <th>sqft_living</th>         <td>  161.1507</td> <td>    3.627</td> <td>   44.429</td> <td> 0.000</td> <td>  154.041</td> <td>  168.260</td>\n",
       "</tr>\n",
       "<tr>\n",
       "  <th>sqft_lot</th>            <td>    0.0055</td> <td>    0.051</td> <td>    0.107</td> <td> 0.915</td> <td>   -0.095</td> <td>    0.106</td>\n",
       "</tr>\n",
       "<tr>\n",
       "  <th>floors</th>              <td>  2.88e+04</td> <td> 3636.748</td> <td>    7.919</td> <td> 0.000</td> <td> 2.17e+04</td> <td> 3.59e+04</td>\n",
       "</tr>\n",
       "<tr>\n",
       "  <th>waterfront</th>          <td> 6.168e+05</td> <td> 1.94e+04</td> <td>   31.747</td> <td> 0.000</td> <td> 5.79e+05</td> <td> 6.55e+05</td>\n",
       "</tr>\n",
       "<tr>\n",
       "  <th>view</th>                <td> 4.368e+04</td> <td> 2226.193</td> <td>   19.619</td> <td> 0.000</td> <td> 3.93e+04</td> <td>  4.8e+04</td>\n",
       "</tr>\n",
       "<tr>\n",
       "  <th>condition</th>           <td> 2.232e+04</td> <td> 2486.087</td> <td>    8.976</td> <td> 0.000</td> <td> 1.74e+04</td> <td> 2.72e+04</td>\n",
       "</tr>\n",
       "<tr>\n",
       "  <th>grade</th>               <td> 1.197e+05</td> <td> 2242.290</td> <td>   53.403</td> <td> 0.000</td> <td> 1.15e+05</td> <td> 1.24e+05</td>\n",
       "</tr>\n",
       "<tr>\n",
       "  <th>yr_built</th>            <td>-3537.6948</td> <td>   70.006</td> <td>  -50.534</td> <td> 0.000</td> <td>-3674.912</td> <td>-3400.478</td>\n",
       "</tr>\n",
       "<tr>\n",
       "  <th>sqft_living15</th>       <td>   26.1341</td> <td>    3.566</td> <td>    7.329</td> <td> 0.000</td> <td>   19.145</td> <td>   33.124</td>\n",
       "</tr>\n",
       "<tr>\n",
       "  <th>sqft_lot15</th>          <td>   -0.5601</td> <td>    0.078</td> <td>   -7.163</td> <td> 0.000</td> <td>   -0.713</td> <td>   -0.407</td>\n",
       "</tr>\n",
       "<tr>\n",
       "  <th>basement</th>            <td> 8429.7780</td> <td> 3472.025</td> <td>    2.428</td> <td> 0.015</td> <td> 1624.352</td> <td> 1.52e+04</td>\n",
       "</tr>\n",
       "<tr>\n",
       "  <th>renovated_2011_2015</th> <td> 2.856e+04</td> <td> 1.88e+04</td> <td>    1.517</td> <td> 0.129</td> <td>-8341.371</td> <td> 6.55e+04</td>\n",
       "</tr>\n",
       "<tr>\n",
       "  <th>renovated_2006_2010</th> <td> 1.382e+05</td> <td> 2.17e+04</td> <td>    6.378</td> <td> 0.000</td> <td> 9.57e+04</td> <td> 1.81e+05</td>\n",
       "</tr>\n",
       "<tr>\n",
       "  <th>renovated_2001_2005</th> <td> 1.185e+05</td> <td> 2.05e+04</td> <td>    5.787</td> <td> 0.000</td> <td> 7.84e+04</td> <td> 1.59e+05</td>\n",
       "</tr>\n",
       "<tr>\n",
       "  <th>renovated_1996_2000</th> <td> 1721.2984</td> <td> 2.39e+04</td> <td>    0.072</td> <td> 0.942</td> <td>-4.51e+04</td> <td> 4.85e+04</td>\n",
       "</tr>\n",
       "<tr>\n",
       "  <th>renovated_1991_1995</th> <td> 4.308e+04</td> <td> 2.65e+04</td> <td>    1.624</td> <td> 0.104</td> <td>-8924.277</td> <td> 9.51e+04</td>\n",
       "</tr>\n",
       "<tr>\n",
       "  <th>renovated_1986_1990</th> <td>-1.394e+04</td> <td> 2.42e+04</td> <td>   -0.576</td> <td> 0.565</td> <td>-6.13e+04</td> <td> 3.35e+04</td>\n",
       "</tr>\n",
       "<tr>\n",
       "  <th>renovated_1981_1985</th> <td>-5.751e+04</td> <td> 2.87e+04</td> <td>   -2.006</td> <td> 0.045</td> <td>-1.14e+05</td> <td>-1314.460</td>\n",
       "</tr>\n",
       "<tr>\n",
       "  <th>renovated_1976_1980</th> <td>-8.252e+04</td> <td> 5.09e+04</td> <td>   -1.621</td> <td> 0.105</td> <td>-1.82e+05</td> <td> 1.72e+04</td>\n",
       "</tr>\n",
       "<tr>\n",
       "  <th>m_10</th>                <td> 3885.8611</td> <td> 8499.307</td> <td>    0.457</td> <td> 0.648</td> <td>-1.28e+04</td> <td> 2.05e+04</td>\n",
       "</tr>\n",
       "<tr>\n",
       "  <th>m_11</th>                <td>-1587.9825</td> <td> 8968.532</td> <td>   -0.177</td> <td> 0.859</td> <td>-1.92e+04</td> <td>  1.6e+04</td>\n",
       "</tr>\n",
       "<tr>\n",
       "  <th>m_12</th>                <td>-5029.1666</td> <td> 8890.824</td> <td>   -0.566</td> <td> 0.572</td> <td>-2.25e+04</td> <td> 1.24e+04</td>\n",
       "</tr>\n",
       "<tr>\n",
       "  <th>m_2</th>                 <td> 6365.8459</td> <td> 9203.610</td> <td>    0.692</td> <td> 0.489</td> <td>-1.17e+04</td> <td> 2.44e+04</td>\n",
       "</tr>\n",
       "<tr>\n",
       "  <th>m_3</th>                 <td> 3.397e+04</td> <td> 8497.858</td> <td>    3.998</td> <td> 0.000</td> <td> 1.73e+04</td> <td> 5.06e+04</td>\n",
       "</tr>\n",
       "<tr>\n",
       "  <th>m_4</th>                 <td> 3.785e+04</td> <td> 8264.966</td> <td>    4.580</td> <td> 0.000</td> <td> 2.17e+04</td> <td> 5.41e+04</td>\n",
       "</tr>\n",
       "<tr>\n",
       "  <th>m_5</th>                 <td> 1.348e+04</td> <td> 8168.724</td> <td>    1.650</td> <td> 0.099</td> <td>-2535.207</td> <td> 2.95e+04</td>\n",
       "</tr>\n",
       "<tr>\n",
       "  <th>m_6</th>                 <td> 3109.4551</td> <td> 8300.037</td> <td>    0.375</td> <td> 0.708</td> <td>-1.32e+04</td> <td> 1.94e+04</td>\n",
       "</tr>\n",
       "<tr>\n",
       "  <th>m_7</th>                 <td> -919.0577</td> <td> 8280.159</td> <td>   -0.111</td> <td> 0.912</td> <td>-1.71e+04</td> <td> 1.53e+04</td>\n",
       "</tr>\n",
       "<tr>\n",
       "  <th>m_8</th>                 <td> 4155.8475</td> <td> 8454.223</td> <td>    0.492</td> <td> 0.623</td> <td>-1.24e+04</td> <td> 2.07e+04</td>\n",
       "</tr>\n",
       "<tr>\n",
       "  <th>m_9</th>                 <td>-4224.3247</td> <td> 8584.043</td> <td>   -0.492</td> <td> 0.623</td> <td> -2.1e+04</td> <td> 1.26e+04</td>\n",
       "</tr>\n",
       "</table>\n",
       "<table class=\"simpletable\">\n",
       "<tr>\n",
       "  <th>Omnibus:</th>       <td>16403.517</td> <th>  Durbin-Watson:     </th>  <td>   1.980</td>  \n",
       "</tr>\n",
       "<tr>\n",
       "  <th>Prob(Omnibus):</th>  <td> 0.000</td>   <th>  Jarque-Bera (JB):  </th> <td>1217462.897</td>\n",
       "</tr>\n",
       "<tr>\n",
       "  <th>Skew:</th>           <td> 3.051</td>   <th>  Prob(JB):          </th>  <td>    0.00</td>  \n",
       "</tr>\n",
       "<tr>\n",
       "  <th>Kurtosis:</th>       <td>39.273</td>   <th>  Cond. No.          </th>  <td>4.69e+06</td>  \n",
       "</tr>\n",
       "</table><br/><br/>Notes:<br/>[1] Standard Errors assume that the covariance matrix of the errors is correctly specified.<br/>[2] The condition number is large, 4.69e+06. This might indicate that there are<br/>strong multicollinearity or other numerical problems."
      ],
      "text/plain": [
       "<class 'statsmodels.iolib.summary.Summary'>\n",
       "\"\"\"\n",
       "                            OLS Regression Results                            \n",
       "==============================================================================\n",
       "Dep. Variable:                  price   R-squared:                       0.657\n",
       "Model:                            OLS   Adj. R-squared:                  0.656\n",
       "Method:                 Least Squares   F-statistic:                     1290.\n",
       "Date:                Thu, 05 May 2022   Prob (F-statistic):               0.00\n",
       "Time:                        16:47:55   Log-Likelihood:            -2.9584e+05\n",
       "No. Observations:               21597   AIC:                         5.917e+05\n",
       "Df Residuals:                   21564   BIC:                         5.920e+05\n",
       "Df Model:                          32                                         \n",
       "Covariance Type:            nonrobust                                         \n",
       "=======================================================================================\n",
       "                          coef    std err          t      P>|t|      [0.025      0.975]\n",
       "---------------------------------------------------------------------------------------\n",
       "Intercept            6.132e+06   1.36e+05     45.202      0.000    5.87e+06     6.4e+06\n",
       "bedrooms             -3.97e+04   2029.700    -19.557      0.000   -4.37e+04   -3.57e+04\n",
       "bathrooms            4.413e+04   3518.557     12.543      0.000    3.72e+04     5.1e+04\n",
       "sqft_living           161.1507      3.627     44.429      0.000     154.041     168.260\n",
       "sqft_lot                0.0055      0.051      0.107      0.915      -0.095       0.106\n",
       "floors                2.88e+04   3636.748      7.919      0.000    2.17e+04    3.59e+04\n",
       "waterfront           6.168e+05   1.94e+04     31.747      0.000    5.79e+05    6.55e+05\n",
       "view                 4.368e+04   2226.193     19.619      0.000    3.93e+04     4.8e+04\n",
       "condition            2.232e+04   2486.087      8.976      0.000    1.74e+04    2.72e+04\n",
       "grade                1.197e+05   2242.290     53.403      0.000    1.15e+05    1.24e+05\n",
       "yr_built            -3537.6948     70.006    -50.534      0.000   -3674.912   -3400.478\n",
       "sqft_living15          26.1341      3.566      7.329      0.000      19.145      33.124\n",
       "sqft_lot15             -0.5601      0.078     -7.163      0.000      -0.713      -0.407\n",
       "basement             8429.7780   3472.025      2.428      0.015    1624.352    1.52e+04\n",
       "renovated_2011_2015  2.856e+04   1.88e+04      1.517      0.129   -8341.371    6.55e+04\n",
       "renovated_2006_2010  1.382e+05   2.17e+04      6.378      0.000    9.57e+04    1.81e+05\n",
       "renovated_2001_2005  1.185e+05   2.05e+04      5.787      0.000    7.84e+04    1.59e+05\n",
       "renovated_1996_2000  1721.2984   2.39e+04      0.072      0.942   -4.51e+04    4.85e+04\n",
       "renovated_1991_1995  4.308e+04   2.65e+04      1.624      0.104   -8924.277    9.51e+04\n",
       "renovated_1986_1990 -1.394e+04   2.42e+04     -0.576      0.565   -6.13e+04    3.35e+04\n",
       "renovated_1981_1985 -5.751e+04   2.87e+04     -2.006      0.045   -1.14e+05   -1314.460\n",
       "renovated_1976_1980 -8.252e+04   5.09e+04     -1.621      0.105   -1.82e+05    1.72e+04\n",
       "m_10                 3885.8611   8499.307      0.457      0.648   -1.28e+04    2.05e+04\n",
       "m_11                -1587.9825   8968.532     -0.177      0.859   -1.92e+04     1.6e+04\n",
       "m_12                -5029.1666   8890.824     -0.566      0.572   -2.25e+04    1.24e+04\n",
       "m_2                  6365.8459   9203.610      0.692      0.489   -1.17e+04    2.44e+04\n",
       "m_3                  3.397e+04   8497.858      3.998      0.000    1.73e+04    5.06e+04\n",
       "m_4                  3.785e+04   8264.966      4.580      0.000    2.17e+04    5.41e+04\n",
       "m_5                  1.348e+04   8168.724      1.650      0.099   -2535.207    2.95e+04\n",
       "m_6                  3109.4551   8300.037      0.375      0.708   -1.32e+04    1.94e+04\n",
       "m_7                  -919.0577   8280.159     -0.111      0.912   -1.71e+04    1.53e+04\n",
       "m_8                  4155.8475   8454.223      0.492      0.623   -1.24e+04    2.07e+04\n",
       "m_9                 -4224.3247   8584.043     -0.492      0.623    -2.1e+04    1.26e+04\n",
       "==============================================================================\n",
       "Omnibus:                    16403.517   Durbin-Watson:                   1.980\n",
       "Prob(Omnibus):                  0.000   Jarque-Bera (JB):          1217462.897\n",
       "Skew:                           3.051   Prob(JB):                         0.00\n",
       "Kurtosis:                      39.273   Cond. No.                     4.69e+06\n",
       "==============================================================================\n",
       "\n",
       "Notes:\n",
       "[1] Standard Errors assume that the covariance matrix of the errors is correctly specified.\n",
       "[2] The condition number is large, 4.69e+06. This might indicate that there are\n",
       "strong multicollinearity or other numerical problems.\n",
       "\"\"\""
      ]
     },
     "execution_count": 31,
     "metadata": {},
     "output_type": "execute_result"
    }
   ],
   "source": [
    "from statsmodels.formula.api import ols\n",
    "X = df.drop('price', axis=1)\n",
    "outcome = 'price'\n",
    "x_cols = list(X.columns)\n",
    "predictors = '+'.join(x_cols)\n",
    "formula = outcome + '~' + predictors\n",
    "model = ols(formula=formula, data=df).fit()\n",
    "model.summary()"
   ]
  },
  {
   "cell_type": "markdown",
   "id": "31d40860",
   "metadata": {},
   "source": [
    "#### R-squared\n",
    "\n",
    "With an R-squared value of 0.657, this baseline model accounts for almost two-thirds of the variance of our data set. \n",
    "\n",
    "#### Effect of Improvements\n",
    "\n",
    "Significant positive effects are present for a number of variables associated with improvements:\n",
    "\n",
    "- bathrooms\n",
    "- sqft_living \n",
    "- condition\n",
    "- grade\n",
    "- renovated_2006_2010\n",
    "- renovated_2001_2005\n",
    "\n",
    "\n",
    "#### Effect of Sale Month\n",
    "\n",
    "Significant effects are also present for houses sold during two months:\n",
    "\n",
    "- march\n",
    "- april\n",
    "\n",
    "#### Skew and kurtosis\n",
    "\n",
    "We have a high level of skew and kurtosis in this model, which means that there are a number of outliers, mostly in cases where the model is failing to predict prices of more expensive homes. To improve this model, we'll apply the log function to our continuous variables."
   ]
  },
  {
   "cell_type": "markdown",
   "id": "85dd750a",
   "metadata": {},
   "source": [
    "## Converting Continuous Data to Log Values"
   ]
  },
  {
   "cell_type": "code",
   "execution_count": 32,
   "id": "7d830e3c",
   "metadata": {},
   "outputs": [],
   "source": [
    "variables_to_log = ['sqft_living','sqft_lot', 'sqft_living15', 'sqft_lot15', 'price']"
   ]
  },
  {
   "cell_type": "code",
   "execution_count": 33,
   "id": "bf1e5cfa",
   "metadata": {},
   "outputs": [],
   "source": [
    "log_df = pd.DataFrame()\n",
    "for v in variables_to_log:\n",
    "    column_name = f'log_{v}'\n",
    "    log_df[column_name] = df[v].apply(lambda x: 1 if x==0 else x).apply(np.log)"
   ]
  },
  {
   "cell_type": "code",
   "execution_count": 34,
   "id": "14bf0d09",
   "metadata": {
    "scrolled": true
   },
   "outputs": [
    {
     "data": {
      "text/plain": [
       "array([[<AxesSubplot:title={'center':'log_sqft_living'}>,\n",
       "        <AxesSubplot:title={'center':'log_sqft_lot'}>],\n",
       "       [<AxesSubplot:title={'center':'log_sqft_living15'}>,\n",
       "        <AxesSubplot:title={'center':'log_sqft_lot15'}>],\n",
       "       [<AxesSubplot:title={'center':'log_price'}>, <AxesSubplot:>]],\n",
       "      dtype=object)"
      ]
     },
     "execution_count": 34,
     "metadata": {},
     "output_type": "execute_result"
    },
    {
     "data": {
      "image/png": "[encoded data removed]",
      "text/plain": [
       "<Figure size 720x720 with 6 Axes>"
      ]
     },
     "metadata": {
      "needs_background": "light"
     },
     "output_type": "display_data"
    }
   ],
   "source": [
    "log_df.hist(figsize=(10, 10))"
   ]
  },
  {
   "cell_type": "markdown",
   "id": "7fcd9abc",
   "metadata": {},
   "source": [
    "As we can see here, the distributions of the continuous variables are much more normally distributed now."
   ]
  },
  {
   "cell_type": "code",
   "execution_count": 35,
   "id": "98a1647e",
   "metadata": {
    "scrolled": true
   },
   "outputs": [],
   "source": [
    "#dropping the original variables and adding the logged variables to the dataframe\n",
    "df_with_logs = df.drop(variables_to_log, axis=1)\n",
    "df_with_logs = pd.concat([df_with_logs, log_df], axis=1)"
   ]
  },
  {
   "cell_type": "markdown",
   "id": "a39affe8",
   "metadata": {},
   "source": [
    "## Model #2: Continuous Variables as Logarithms"
   ]
  },
  {
   "cell_type": "code",
   "execution_count": 36,
   "id": "d4e08cf5",
   "metadata": {
    "scrolled": true
   },
   "outputs": [
    {
     "data": {
      "text/html": [
       "<table class=\"simpletable\">\n",
       "<caption>OLS Regression Results</caption>\n",
       "<tr>\n",
       "  <th>Dep. Variable:</th>        <td>log_price</td>    <th>  R-squared:         </th> <td>   0.666</td> \n",
       "</tr>\n",
       "<tr>\n",
       "  <th>Model:</th>                   <td>OLS</td>       <th>  Adj. R-squared:    </th> <td>   0.666</td> \n",
       "</tr>\n",
       "<tr>\n",
       "  <th>Method:</th>             <td>Least Squares</td>  <th>  F-statistic:       </th> <td>   1345.</td> \n",
       "</tr>\n",
       "<tr>\n",
       "  <th>Date:</th>             <td>Thu, 05 May 2022</td> <th>  Prob (F-statistic):</th>  <td>  0.00</td>  \n",
       "</tr>\n",
       "<tr>\n",
       "  <th>Time:</th>                 <td>16:47:56</td>     <th>  Log-Likelihood:    </th> <td> -4941.2</td> \n",
       "</tr>\n",
       "<tr>\n",
       "  <th>No. Observations:</th>      <td> 21597</td>      <th>  AIC:               </th> <td>   9948.</td> \n",
       "</tr>\n",
       "<tr>\n",
       "  <th>Df Residuals:</th>          <td> 21564</td>      <th>  BIC:               </th> <td>1.021e+04</td>\n",
       "</tr>\n",
       "<tr>\n",
       "  <th>Df Model:</th>              <td>    32</td>      <th>                     </th>     <td> </td>    \n",
       "</tr>\n",
       "<tr>\n",
       "  <th>Covariance Type:</th>      <td>nonrobust</td>    <th>                     </th>     <td> </td>    \n",
       "</tr>\n",
       "</table>\n",
       "<table class=\"simpletable\">\n",
       "<tr>\n",
       "           <td></td>              <th>coef</th>     <th>std err</th>      <th>t</th>      <th>P>|t|</th>  <th>[0.025</th>    <th>0.975]</th>  \n",
       "</tr>\n",
       "<tr>\n",
       "  <th>Intercept</th>           <td>   18.3157</td> <td>    0.203</td> <td>   90.340</td> <td> 0.000</td> <td>   17.918</td> <td>   18.713</td>\n",
       "</tr>\n",
       "<tr>\n",
       "  <th>bedrooms</th>            <td>   -0.0319</td> <td>    0.003</td> <td>  -10.697</td> <td> 0.000</td> <td>   -0.038</td> <td>   -0.026</td>\n",
       "</tr>\n",
       "<tr>\n",
       "  <th>bathrooms</th>           <td>    0.0678</td> <td>    0.005</td> <td>   13.829</td> <td> 0.000</td> <td>    0.058</td> <td>    0.077</td>\n",
       "</tr>\n",
       "<tr>\n",
       "  <th>floors</th>              <td>    0.0791</td> <td>    0.006</td> <td>   13.974</td> <td> 0.000</td> <td>    0.068</td> <td>    0.090</td>\n",
       "</tr>\n",
       "<tr>\n",
       "  <th>waterfront</th>          <td>    0.4079</td> <td>    0.027</td> <td>   14.839</td> <td> 0.000</td> <td>    0.354</td> <td>    0.462</td>\n",
       "</tr>\n",
       "<tr>\n",
       "  <th>view</th>                <td>    0.0457</td> <td>    0.003</td> <td>   14.567</td> <td> 0.000</td> <td>    0.040</td> <td>    0.052</td>\n",
       "</tr>\n",
       "<tr>\n",
       "  <th>condition</th>           <td>    0.0461</td> <td>    0.004</td> <td>   13.078</td> <td> 0.000</td> <td>    0.039</td> <td>    0.053</td>\n",
       "</tr>\n",
       "<tr>\n",
       "  <th>grade</th>               <td>    0.2105</td> <td>    0.003</td> <td>   69.119</td> <td> 0.000</td> <td>    0.204</td> <td>    0.216</td>\n",
       "</tr>\n",
       "<tr>\n",
       "  <th>yr_built</th>            <td>   -0.0056</td> <td> 9.84e-05</td> <td>  -56.431</td> <td> 0.000</td> <td>   -0.006</td> <td>   -0.005</td>\n",
       "</tr>\n",
       "<tr>\n",
       "  <th>basement</th>            <td>    0.0598</td> <td>    0.005</td> <td>   11.479</td> <td> 0.000</td> <td>    0.050</td> <td>    0.070</td>\n",
       "</tr>\n",
       "<tr>\n",
       "  <th>renovated_2011_2015</th> <td>    0.0925</td> <td>    0.027</td> <td>    3.474</td> <td> 0.001</td> <td>    0.040</td> <td>    0.145</td>\n",
       "</tr>\n",
       "<tr>\n",
       "  <th>renovated_2006_2010</th> <td>    0.1390</td> <td>    0.031</td> <td>    4.537</td> <td> 0.000</td> <td>    0.079</td> <td>    0.199</td>\n",
       "</tr>\n",
       "<tr>\n",
       "  <th>renovated_2001_2005</th> <td>    0.0837</td> <td>    0.029</td> <td>    2.891</td> <td> 0.004</td> <td>    0.027</td> <td>    0.140</td>\n",
       "</tr>\n",
       "<tr>\n",
       "  <th>renovated_1996_2000</th> <td>    0.0451</td> <td>    0.034</td> <td>    1.336</td> <td> 0.182</td> <td>   -0.021</td> <td>    0.111</td>\n",
       "</tr>\n",
       "<tr>\n",
       "  <th>renovated_1991_1995</th> <td>    0.0626</td> <td>    0.038</td> <td>    1.668</td> <td> 0.095</td> <td>   -0.011</td> <td>    0.136</td>\n",
       "</tr>\n",
       "<tr>\n",
       "  <th>renovated_1986_1990</th> <td>   -0.0346</td> <td>    0.034</td> <td>   -1.012</td> <td> 0.311</td> <td>   -0.102</td> <td>    0.032</td>\n",
       "</tr>\n",
       "<tr>\n",
       "  <th>renovated_1981_1985</th> <td>   -0.0652</td> <td>    0.041</td> <td>   -1.607</td> <td> 0.108</td> <td>   -0.145</td> <td>    0.014</td>\n",
       "</tr>\n",
       "<tr>\n",
       "  <th>renovated_1976_1980</th> <td>   -0.0973</td> <td>    0.072</td> <td>   -1.352</td> <td> 0.176</td> <td>   -0.238</td> <td>    0.044</td>\n",
       "</tr>\n",
       "<tr>\n",
       "  <th>m_10</th>                <td>    0.0090</td> <td>    0.012</td> <td>    0.745</td> <td> 0.456</td> <td>   -0.015</td> <td>    0.033</td>\n",
       "</tr>\n",
       "<tr>\n",
       "  <th>m_11</th>                <td>    0.0028</td> <td>    0.013</td> <td>    0.225</td> <td> 0.822</td> <td>   -0.022</td> <td>    0.028</td>\n",
       "</tr>\n",
       "<tr>\n",
       "  <th>m_12</th>                <td>   -0.0038</td> <td>    0.013</td> <td>   -0.306</td> <td> 0.759</td> <td>   -0.028</td> <td>    0.021</td>\n",
       "</tr>\n",
       "<tr>\n",
       "  <th>m_2</th>                 <td>    0.0121</td> <td>    0.013</td> <td>    0.933</td> <td> 0.351</td> <td>   -0.013</td> <td>    0.038</td>\n",
       "</tr>\n",
       "<tr>\n",
       "  <th>m_3</th>                 <td>    0.0579</td> <td>    0.012</td> <td>    4.820</td> <td> 0.000</td> <td>    0.034</td> <td>    0.081</td>\n",
       "</tr>\n",
       "<tr>\n",
       "  <th>m_4</th>                 <td>    0.0804</td> <td>    0.012</td> <td>    6.881</td> <td> 0.000</td> <td>    0.057</td> <td>    0.103</td>\n",
       "</tr>\n",
       "<tr>\n",
       "  <th>m_5</th>                 <td>    0.0321</td> <td>    0.012</td> <td>    2.781</td> <td> 0.005</td> <td>    0.009</td> <td>    0.055</td>\n",
       "</tr>\n",
       "<tr>\n",
       "  <th>m_6</th>                 <td>    0.0171</td> <td>    0.012</td> <td>    1.460</td> <td> 0.144</td> <td>   -0.006</td> <td>    0.040</td>\n",
       "</tr>\n",
       "<tr>\n",
       "  <th>m_7</th>                 <td>    0.0115</td> <td>    0.012</td> <td>    0.982</td> <td> 0.326</td> <td>   -0.011</td> <td>    0.034</td>\n",
       "</tr>\n",
       "<tr>\n",
       "  <th>m_8</th>                 <td>    0.0151</td> <td>    0.012</td> <td>    1.261</td> <td> 0.207</td> <td>   -0.008</td> <td>    0.038</td>\n",
       "</tr>\n",
       "<tr>\n",
       "  <th>m_9</th>                 <td>    0.0068</td> <td>    0.012</td> <td>    0.559</td> <td> 0.576</td> <td>   -0.017</td> <td>    0.031</td>\n",
       "</tr>\n",
       "<tr>\n",
       "  <th>log_sqft_living</th>     <td>    0.2879</td> <td>    0.012</td> <td>   24.574</td> <td> 0.000</td> <td>    0.265</td> <td>    0.311</td>\n",
       "</tr>\n",
       "<tr>\n",
       "  <th>log_sqft_lot</th>        <td>   -0.0070</td> <td>    0.006</td> <td>   -1.158</td> <td> 0.247</td> <td>   -0.019</td> <td>    0.005</td>\n",
       "</tr>\n",
       "<tr>\n",
       "  <th>log_sqft_living15</th>   <td>    0.2739</td> <td>    0.011</td> <td>   26.044</td> <td> 0.000</td> <td>    0.253</td> <td>    0.295</td>\n",
       "</tr>\n",
       "<tr>\n",
       "  <th>log_sqft_lot15</th>      <td>   -0.0492</td> <td>    0.007</td> <td>   -7.481</td> <td> 0.000</td> <td>   -0.062</td> <td>   -0.036</td>\n",
       "</tr>\n",
       "</table>\n",
       "<table class=\"simpletable\">\n",
       "<tr>\n",
       "  <th>Omnibus:</th>       <td>67.572</td> <th>  Durbin-Watson:     </th> <td>   1.968</td>\n",
       "</tr>\n",
       "<tr>\n",
       "  <th>Prob(Omnibus):</th> <td> 0.000</td> <th>  Jarque-Bera (JB):  </th> <td>  84.246</td>\n",
       "</tr>\n",
       "<tr>\n",
       "  <th>Skew:</th>          <td>-0.053</td> <th>  Prob(JB):          </th> <td>5.08e-19</td>\n",
       "</tr>\n",
       "<tr>\n",
       "  <th>Kurtosis:</th>      <td> 3.287</td> <th>  Cond. No.          </th> <td>1.93e+05</td>\n",
       "</tr>\n",
       "</table><br/><br/>Notes:<br/>[1] Standard Errors assume that the covariance matrix of the errors is correctly specified.<br/>[2] The condition number is large, 1.93e+05. This might indicate that there are<br/>strong multicollinearity or other numerical problems."
      ],
      "text/plain": [
       "<class 'statsmodels.iolib.summary.Summary'>\n",
       "\"\"\"\n",
       "                            OLS Regression Results                            \n",
       "==============================================================================\n",
       "Dep. Variable:              log_price   R-squared:                       0.666\n",
       "Model:                            OLS   Adj. R-squared:                  0.666\n",
       "Method:                 Least Squares   F-statistic:                     1345.\n",
       "Date:                Thu, 05 May 2022   Prob (F-statistic):               0.00\n",
       "Time:                        16:47:56   Log-Likelihood:                -4941.2\n",
       "No. Observations:               21597   AIC:                             9948.\n",
       "Df Residuals:                   21564   BIC:                         1.021e+04\n",
       "Df Model:                          32                                         \n",
       "Covariance Type:            nonrobust                                         \n",
       "=======================================================================================\n",
       "                          coef    std err          t      P>|t|      [0.025      0.975]\n",
       "---------------------------------------------------------------------------------------\n",
       "Intercept              18.3157      0.203     90.340      0.000      17.918      18.713\n",
       "bedrooms               -0.0319      0.003    -10.697      0.000      -0.038      -0.026\n",
       "bathrooms               0.0678      0.005     13.829      0.000       0.058       0.077\n",
       "floors                  0.0791      0.006     13.974      0.000       0.068       0.090\n",
       "waterfront              0.4079      0.027     14.839      0.000       0.354       0.462\n",
       "view                    0.0457      0.003     14.567      0.000       0.040       0.052\n",
       "condition               0.0461      0.004     13.078      0.000       0.039       0.053\n",
       "grade                   0.2105      0.003     69.119      0.000       0.204       0.216\n",
       "yr_built               -0.0056   9.84e-05    -56.431      0.000      -0.006      -0.005\n",
       "basement                0.0598      0.005     11.479      0.000       0.050       0.070\n",
       "renovated_2011_2015     0.0925      0.027      3.474      0.001       0.040       0.145\n",
       "renovated_2006_2010     0.1390      0.031      4.537      0.000       0.079       0.199\n",
       "renovated_2001_2005     0.0837      0.029      2.891      0.004       0.027       0.140\n",
       "renovated_1996_2000     0.0451      0.034      1.336      0.182      -0.021       0.111\n",
       "renovated_1991_1995     0.0626      0.038      1.668      0.095      -0.011       0.136\n",
       "renovated_1986_1990    -0.0346      0.034     -1.012      0.311      -0.102       0.032\n",
       "renovated_1981_1985    -0.0652      0.041     -1.607      0.108      -0.145       0.014\n",
       "renovated_1976_1980    -0.0973      0.072     -1.352      0.176      -0.238       0.044\n",
       "m_10                    0.0090      0.012      0.745      0.456      -0.015       0.033\n",
       "m_11                    0.0028      0.013      0.225      0.822      -0.022       0.028\n",
       "m_12                   -0.0038      0.013     -0.306      0.759      -0.028       0.021\n",
       "m_2                     0.0121      0.013      0.933      0.351      -0.013       0.038\n",
       "m_3                     0.0579      0.012      4.820      0.000       0.034       0.081\n",
       "m_4                     0.0804      0.012      6.881      0.000       0.057       0.103\n",
       "m_5                     0.0321      0.012      2.781      0.005       0.009       0.055\n",
       "m_6                     0.0171      0.012      1.460      0.144      -0.006       0.040\n",
       "m_7                     0.0115      0.012      0.982      0.326      -0.011       0.034\n",
       "m_8                     0.0151      0.012      1.261      0.207      -0.008       0.038\n",
       "m_9                     0.0068      0.012      0.559      0.576      -0.017       0.031\n",
       "log_sqft_living         0.2879      0.012     24.574      0.000       0.265       0.311\n",
       "log_sqft_lot           -0.0070      0.006     -1.158      0.247      -0.019       0.005\n",
       "log_sqft_living15       0.2739      0.011     26.044      0.000       0.253       0.295\n",
       "log_sqft_lot15         -0.0492      0.007     -7.481      0.000      -0.062      -0.036\n",
       "==============================================================================\n",
       "Omnibus:                       67.572   Durbin-Watson:                   1.968\n",
       "Prob(Omnibus):                  0.000   Jarque-Bera (JB):               84.246\n",
       "Skew:                          -0.053   Prob(JB):                     5.08e-19\n",
       "Kurtosis:                       3.287   Cond. No.                     1.93e+05\n",
       "==============================================================================\n",
       "\n",
       "Notes:\n",
       "[1] Standard Errors assume that the covariance matrix of the errors is correctly specified.\n",
       "[2] The condition number is large, 1.93e+05. This might indicate that there are\n",
       "strong multicollinearity or other numerical problems.\n",
       "\"\"\""
      ]
     },
     "execution_count": 36,
     "metadata": {},
     "output_type": "execute_result"
    }
   ],
   "source": [
    "#Testing the model\n",
    "\n",
    "X=df_with_logs.drop('log_price', axis=1)\n",
    "outcome = 'log_price'\n",
    "x_cols = list(X.columns)\n",
    "predictors = '+'.join(x_cols)\n",
    "formula = outcome + '~' + predictors\n",
    "model = ols(formula=formula, data=df_with_logs).fit()\n",
    "model.summary()"
   ]
  },
  {
   "cell_type": "markdown",
   "id": "317649ef",
   "metadata": {},
   "source": [
    "This improved the model by 1% overall, and by converting continuous variables to logarithms, we significantly improved our model for renovation date and sale month variables. Currently, we have significant positive coefficients for the following variables associated with improvements:\n",
    "\n",
    "- bathrooms\n",
    "- floors\n",
    "- condition\n",
    "- grade\n",
    "- renovated_2011_2015\n",
    "- renovated_2006_2010\n",
    "- renovated_2001_2005\n",
    "\n",
    "Meanwhile we now have significant positive coefficients for homes sold during three months\n",
    "\n",
    "- march\n",
    "- april\n",
    "- may\n",
    "\n",
    "Since we are now predicting the natural log of price, rather than price, the coefficients represent a multiplication of the baseline price by e^(beta*x). "
   ]
  },
  {
   "cell_type": "markdown",
   "id": "c089ab8c",
   "metadata": {},
   "source": [
    "### Model Residuals - Homoskedasticity\n",
    "\n",
    "Below we can see a low level of heteroskedasticity in our model, meaning that errors don't increase or decrease dramatically as the predicted target variable increases."
   ]
  },
  {
   "cell_type": "code",
   "execution_count": 37,
   "id": "c24e5fdf",
   "metadata": {},
   "outputs": [
    {
     "data": {
      "text/plain": [
       "[<matplotlib.lines.Line2D at 0x7f7a61260fd0>]"
      ]
     },
     "execution_count": 37,
     "metadata": {},
     "output_type": "execute_result"
    },
    {
     "data": {
      "image/png": "[encoded data removed]",
      "text/plain": [
       "<Figure size 432x288 with 1 Axes>"
      ]
     },
     "metadata": {
      "needs_background": "light"
     },
     "output_type": "display_data"
    }
   ],
   "source": [
    "plt.scatter(model.predict(df_with_logs[x_cols]), model.resid)\n",
    "plt.plot(model.predict(df_with_logs[x_cols]), [0 for i in range(len(df_with_logs))])"
   ]
  },
  {
   "cell_type": "markdown",
   "id": "d08ec3a5",
   "metadata": {},
   "source": [
    "### Model Residuals - Normality"
   ]
  },
  {
   "cell_type": "code",
   "execution_count": 38,
   "id": "f8bad661",
   "metadata": {},
   "outputs": [
    {
     "name": "stderr",
     "output_type": "stream",
     "text": [
      "/Users/davidrichter/opt/anaconda3/lib/python3.9/site-packages/statsmodels/graphics/gofplots.py:993: UserWarning: marker is redundantly defined by the 'marker' keyword argument and the fmt string \"bo\" (-> marker='o'). The keyword argument will take precedence.\n",
      "  ax.plot(x, y, fmt, **plot_style)\n"
     ]
    },
    {
     "data": {
      "image/png": "[encoded data removed]",
      "text/plain": [
       "<Figure size 432x288 with 1 Axes>"
      ]
     },
     "metadata": {
      "needs_background": "light"
     },
     "output_type": "display_data"
    }
   ],
   "source": [
    "import scipy.stats as stats\n",
    "import statsmodels.api as sm\n",
    "fig = sm.graphics.qqplot(model.resid, dist=stats.norm, line='s', fit=True)"
   ]
  },
  {
   "cell_type": "markdown",
   "id": "7fe014f1",
   "metadata": {},
   "source": [
    "As we can see from the qqplot above, this model's residuals have a nearly normally distribution, which we could have predicted from the model's low skew and kurtosis numbers."
   ]
  },
  {
   "cell_type": "markdown",
   "id": "01249eb4",
   "metadata": {},
   "source": [
    "## Adding Zipcodes to the Model\n",
    "\n",
    "We'll next try to improve our model further by adding zipcode dummy variables."
   ]
  },
  {
   "cell_type": "code",
   "execution_count": 39,
   "id": "44083e89",
   "metadata": {},
   "outputs": [],
   "source": [
    "df_with_zips = pd.concat([df_with_logs, zipcode_dummies], axis=1)"
   ]
  },
  {
   "cell_type": "markdown",
   "id": "76a93675",
   "metadata": {},
   "source": [
    "## Model #3: includes logged continuous variables and zipcodes"
   ]
  },
  {
   "cell_type": "code",
   "execution_count": 40,
   "id": "15337fb3",
   "metadata": {},
   "outputs": [
    {
     "data": {
      "text/html": [
       "<table class=\"simpletable\">\n",
       "<caption>OLS Regression Results</caption>\n",
       "<tr>\n",
       "  <th>Dep. Variable:</th>        <td>log_price</td>    <th>  R-squared:         </th>  <td>   0.885</td> \n",
       "</tr>\n",
       "<tr>\n",
       "  <th>Model:</th>                   <td>OLS</td>       <th>  Adj. R-squared:    </th>  <td>   0.884</td> \n",
       "</tr>\n",
       "<tr>\n",
       "  <th>Method:</th>             <td>Least Squares</td>  <th>  F-statistic:       </th>  <td>   1631.</td> \n",
       "</tr>\n",
       "<tr>\n",
       "  <th>Date:</th>             <td>Thu, 05 May 2022</td> <th>  Prob (F-statistic):</th>   <td>  0.00</td>  \n",
       "</tr>\n",
       "<tr>\n",
       "  <th>Time:</th>                 <td>16:47:56</td>     <th>  Log-Likelihood:    </th>  <td>  6524.0</td> \n",
       "</tr>\n",
       "<tr>\n",
       "  <th>No. Observations:</th>      <td> 21597</td>      <th>  AIC:               </th> <td>-1.284e+04</td>\n",
       "</tr>\n",
       "<tr>\n",
       "  <th>Df Residuals:</th>          <td> 21495</td>      <th>  BIC:               </th> <td>-1.203e+04</td>\n",
       "</tr>\n",
       "<tr>\n",
       "  <th>Df Model:</th>              <td>   101</td>      <th>                     </th>      <td> </td>    \n",
       "</tr>\n",
       "<tr>\n",
       "  <th>Covariance Type:</th>      <td>nonrobust</td>    <th>                     </th>      <td> </td>    \n",
       "</tr>\n",
       "</table>\n",
       "<table class=\"simpletable\">\n",
       "<tr>\n",
       "           <td></td>              <th>coef</th>     <th>std err</th>      <th>t</th>      <th>P>|t|</th>  <th>[0.025</th>    <th>0.975]</th>  \n",
       "</tr>\n",
       "<tr>\n",
       "  <th>Intercept</th>           <td>    7.6132</td> <td>    0.157</td> <td>   48.368</td> <td> 0.000</td> <td>    7.305</td> <td>    7.922</td>\n",
       "</tr>\n",
       "<tr>\n",
       "  <th>bedrooms</th>            <td>   -0.0148</td> <td>    0.002</td> <td>   -8.333</td> <td> 0.000</td> <td>   -0.018</td> <td>   -0.011</td>\n",
       "</tr>\n",
       "<tr>\n",
       "  <th>bathrooms</th>           <td>    0.0405</td> <td>    0.003</td> <td>   13.947</td> <td> 0.000</td> <td>    0.035</td> <td>    0.046</td>\n",
       "</tr>\n",
       "<tr>\n",
       "  <th>floors</th>              <td>   -0.0012</td> <td>    0.004</td> <td>   -0.348</td> <td> 0.728</td> <td>   -0.008</td> <td>    0.006</td>\n",
       "</tr>\n",
       "<tr>\n",
       "  <th>waterfront</th>          <td>    0.4827</td> <td>    0.016</td> <td>   29.403</td> <td> 0.000</td> <td>    0.450</td> <td>    0.515</td>\n",
       "</tr>\n",
       "<tr>\n",
       "  <th>view</th>                <td>    0.0605</td> <td>    0.002</td> <td>   31.528</td> <td> 0.000</td> <td>    0.057</td> <td>    0.064</td>\n",
       "</tr>\n",
       "<tr>\n",
       "  <th>condition</th>           <td>    0.0520</td> <td>    0.002</td> <td>   24.233</td> <td> 0.000</td> <td>    0.048</td> <td>    0.056</td>\n",
       "</tr>\n",
       "<tr>\n",
       "  <th>grade</th>               <td>    0.0994</td> <td>    0.002</td> <td>   51.036</td> <td> 0.000</td> <td>    0.096</td> <td>    0.103</td>\n",
       "</tr>\n",
       "<tr>\n",
       "  <th>yr_built</th>            <td>   -0.0003</td> <td> 7.25e-05</td> <td>   -4.766</td> <td> 0.000</td> <td>   -0.000</td> <td>   -0.000</td>\n",
       "</tr>\n",
       "<tr>\n",
       "  <th>basement</th>            <td>   -0.0407</td> <td>    0.003</td> <td>  -12.535</td> <td> 0.000</td> <td>   -0.047</td> <td>   -0.034</td>\n",
       "</tr>\n",
       "<tr>\n",
       "  <th>renovated_2011_2015</th> <td>    0.1177</td> <td>    0.016</td> <td>    7.488</td> <td> 0.000</td> <td>    0.087</td> <td>    0.148</td>\n",
       "</tr>\n",
       "<tr>\n",
       "  <th>renovated_2006_2010</th> <td>    0.1455</td> <td>    0.018</td> <td>    8.045</td> <td> 0.000</td> <td>    0.110</td> <td>    0.181</td>\n",
       "</tr>\n",
       "<tr>\n",
       "  <th>renovated_2001_2005</th> <td>    0.1031</td> <td>    0.017</td> <td>    6.029</td> <td> 0.000</td> <td>    0.070</td> <td>    0.137</td>\n",
       "</tr>\n",
       "<tr>\n",
       "  <th>renovated_1996_2000</th> <td>    0.0429</td> <td>    0.020</td> <td>    2.151</td> <td> 0.031</td> <td>    0.004</td> <td>    0.082</td>\n",
       "</tr>\n",
       "<tr>\n",
       "  <th>renovated_1991_1995</th> <td>    0.1025</td> <td>    0.022</td> <td>    4.627</td> <td> 0.000</td> <td>    0.059</td> <td>    0.146</td>\n",
       "</tr>\n",
       "<tr>\n",
       "  <th>renovated_1986_1990</th> <td>    0.0231</td> <td>    0.020</td> <td>    1.143</td> <td> 0.253</td> <td>   -0.016</td> <td>    0.063</td>\n",
       "</tr>\n",
       "<tr>\n",
       "  <th>renovated_1981_1985</th> <td>    0.0008</td> <td>    0.024</td> <td>    0.034</td> <td> 0.973</td> <td>   -0.046</td> <td>    0.048</td>\n",
       "</tr>\n",
       "<tr>\n",
       "  <th>renovated_1976_1980</th> <td>    0.0167</td> <td>    0.043</td> <td>    0.393</td> <td> 0.694</td> <td>   -0.067</td> <td>    0.100</td>\n",
       "</tr>\n",
       "<tr>\n",
       "  <th>m_10</th>                <td>   -0.0080</td> <td>    0.007</td> <td>   -1.132</td> <td> 0.258</td> <td>   -0.022</td> <td>    0.006</td>\n",
       "</tr>\n",
       "<tr>\n",
       "  <th>m_11</th>                <td>   -0.0070</td> <td>    0.007</td> <td>   -0.931</td> <td> 0.352</td> <td>   -0.022</td> <td>    0.008</td>\n",
       "</tr>\n",
       "<tr>\n",
       "  <th>m_12</th>                <td>   -0.0005</td> <td>    0.007</td> <td>   -0.073</td> <td> 0.942</td> <td>   -0.015</td> <td>    0.014</td>\n",
       "</tr>\n",
       "<tr>\n",
       "  <th>m_2</th>                 <td>    0.0229</td> <td>    0.008</td> <td>    2.984</td> <td> 0.003</td> <td>    0.008</td> <td>    0.038</td>\n",
       "</tr>\n",
       "<tr>\n",
       "  <th>m_3</th>                 <td>    0.0497</td> <td>    0.007</td> <td>    7.016</td> <td> 0.000</td> <td>    0.036</td> <td>    0.064</td>\n",
       "</tr>\n",
       "<tr>\n",
       "  <th>m_4</th>                 <td>    0.0704</td> <td>    0.007</td> <td>   10.219</td> <td> 0.000</td> <td>    0.057</td> <td>    0.084</td>\n",
       "</tr>\n",
       "<tr>\n",
       "  <th>m_5</th>                 <td>    0.0110</td> <td>    0.007</td> <td>    1.615</td> <td> 0.106</td> <td>   -0.002</td> <td>    0.024</td>\n",
       "</tr>\n",
       "<tr>\n",
       "  <th>m_6</th>                 <td>    0.0030</td> <td>    0.007</td> <td>    0.435</td> <td> 0.664</td> <td>   -0.011</td> <td>    0.017</td>\n",
       "</tr>\n",
       "<tr>\n",
       "  <th>m_7</th>                 <td>   -0.0039</td> <td>    0.007</td> <td>   -0.562</td> <td> 0.574</td> <td>   -0.017</td> <td>    0.010</td>\n",
       "</tr>\n",
       "<tr>\n",
       "  <th>m_8</th>                 <td>   -0.0028</td> <td>    0.007</td> <td>   -0.396</td> <td> 0.692</td> <td>   -0.017</td> <td>    0.011</td>\n",
       "</tr>\n",
       "<tr>\n",
       "  <th>m_9</th>                 <td>   -0.0085</td> <td>    0.007</td> <td>   -1.186</td> <td> 0.236</td> <td>   -0.023</td> <td>    0.006</td>\n",
       "</tr>\n",
       "<tr>\n",
       "  <th>log_sqft_living</th>     <td>    0.3964</td> <td>    0.007</td> <td>   56.615</td> <td> 0.000</td> <td>    0.383</td> <td>    0.410</td>\n",
       "</tr>\n",
       "<tr>\n",
       "  <th>log_sqft_lot</th>        <td>    0.0753</td> <td>    0.004</td> <td>   20.882</td> <td> 0.000</td> <td>    0.068</td> <td>    0.082</td>\n",
       "</tr>\n",
       "<tr>\n",
       "  <th>log_sqft_living15</th>   <td>    0.1616</td> <td>    0.007</td> <td>   24.424</td> <td> 0.000</td> <td>    0.149</td> <td>    0.175</td>\n",
       "</tr>\n",
       "<tr>\n",
       "  <th>log_sqft_lot15</th>      <td>   -0.0217</td> <td>    0.004</td> <td>   -5.454</td> <td> 0.000</td> <td>   -0.029</td> <td>   -0.014</td>\n",
       "</tr>\n",
       "<tr>\n",
       "  <th>zip_98002</th>           <td>    0.0055</td> <td>    0.016</td> <td>    0.347</td> <td> 0.729</td> <td>   -0.026</td> <td>    0.037</td>\n",
       "</tr>\n",
       "<tr>\n",
       "  <th>zip_98003</th>           <td>    0.0148</td> <td>    0.014</td> <td>    1.038</td> <td> 0.299</td> <td>   -0.013</td> <td>    0.043</td>\n",
       "</tr>\n",
       "<tr>\n",
       "  <th>zip_98004</th>           <td>    1.1243</td> <td>    0.014</td> <td>   80.021</td> <td> 0.000</td> <td>    1.097</td> <td>    1.152</td>\n",
       "</tr>\n",
       "<tr>\n",
       "  <th>zip_98005</th>           <td>    0.7219</td> <td>    0.017</td> <td>   42.630</td> <td> 0.000</td> <td>    0.689</td> <td>    0.755</td>\n",
       "</tr>\n",
       "<tr>\n",
       "  <th>zip_98006</th>           <td>    0.6353</td> <td>    0.013</td> <td>   50.165</td> <td> 0.000</td> <td>    0.610</td> <td>    0.660</td>\n",
       "</tr>\n",
       "<tr>\n",
       "  <th>zip_98007</th>           <td>    0.6445</td> <td>    0.018</td> <td>   36.007</td> <td> 0.000</td> <td>    0.609</td> <td>    0.680</td>\n",
       "</tr>\n",
       "<tr>\n",
       "  <th>zip_98008</th>           <td>    0.6511</td> <td>    0.014</td> <td>   45.377</td> <td> 0.000</td> <td>    0.623</td> <td>    0.679</td>\n",
       "</tr>\n",
       "<tr>\n",
       "  <th>zip_98010</th>           <td>    0.2417</td> <td>    0.020</td> <td>   11.845</td> <td> 0.000</td> <td>    0.202</td> <td>    0.282</td>\n",
       "</tr>\n",
       "<tr>\n",
       "  <th>zip_98011</th>           <td>    0.4482</td> <td>    0.016</td> <td>   28.018</td> <td> 0.000</td> <td>    0.417</td> <td>    0.480</td>\n",
       "</tr>\n",
       "<tr>\n",
       "  <th>zip_98014</th>           <td>    0.3051</td> <td>    0.019</td> <td>   16.136</td> <td> 0.000</td> <td>    0.268</td> <td>    0.342</td>\n",
       "</tr>\n",
       "<tr>\n",
       "  <th>zip_98019</th>           <td>    0.3182</td> <td>    0.016</td> <td>   19.708</td> <td> 0.000</td> <td>    0.287</td> <td>    0.350</td>\n",
       "</tr>\n",
       "<tr>\n",
       "  <th>zip_98022</th>           <td>    0.0478</td> <td>    0.015</td> <td>    3.146</td> <td> 0.002</td> <td>    0.018</td> <td>    0.078</td>\n",
       "</tr>\n",
       "<tr>\n",
       "  <th>zip_98023</th>           <td>   -0.0244</td> <td>    0.012</td> <td>   -1.964</td> <td> 0.050</td> <td>   -0.049</td> <td>-4.89e-05</td>\n",
       "</tr>\n",
       "<tr>\n",
       "  <th>zip_98024</th>           <td>    0.4250</td> <td>    0.022</td> <td>   18.983</td> <td> 0.000</td> <td>    0.381</td> <td>    0.469</td>\n",
       "</tr>\n",
       "<tr>\n",
       "  <th>zip_98027</th>           <td>    0.5122</td> <td>    0.013</td> <td>   39.305</td> <td> 0.000</td> <td>    0.487</td> <td>    0.538</td>\n",
       "</tr>\n",
       "<tr>\n",
       "  <th>zip_98028</th>           <td>    0.4093</td> <td>    0.014</td> <td>   28.674</td> <td> 0.000</td> <td>    0.381</td> <td>    0.437</td>\n",
       "</tr>\n",
       "<tr>\n",
       "  <th>zip_98029</th>           <td>    0.6041</td> <td>    0.014</td> <td>   43.341</td> <td> 0.000</td> <td>    0.577</td> <td>    0.631</td>\n",
       "</tr>\n",
       "<tr>\n",
       "  <th>zip_98030</th>           <td>    0.0485</td> <td>    0.015</td> <td>    3.309</td> <td> 0.001</td> <td>    0.020</td> <td>    0.077</td>\n",
       "</tr>\n",
       "<tr>\n",
       "  <th>zip_98031</th>           <td>    0.0689</td> <td>    0.014</td> <td>    4.783</td> <td> 0.000</td> <td>    0.041</td> <td>    0.097</td>\n",
       "</tr>\n",
       "<tr>\n",
       "  <th>zip_98032</th>           <td>   -0.0137</td> <td>    0.019</td> <td>   -0.734</td> <td> 0.463</td> <td>   -0.050</td> <td>    0.023</td>\n",
       "</tr>\n",
       "<tr>\n",
       "  <th>zip_98033</th>           <td>    0.7893</td> <td>    0.013</td> <td>   61.304</td> <td> 0.000</td> <td>    0.764</td> <td>    0.815</td>\n",
       "</tr>\n",
       "<tr>\n",
       "  <th>zip_98034</th>           <td>    0.5494</td> <td>    0.012</td> <td>   44.966</td> <td> 0.000</td> <td>    0.525</td> <td>    0.573</td>\n",
       "</tr>\n",
       "<tr>\n",
       "  <th>zip_98038</th>           <td>    0.1686</td> <td>    0.012</td> <td>   13.993</td> <td> 0.000</td> <td>    0.145</td> <td>    0.192</td>\n",
       "</tr>\n",
       "<tr>\n",
       "  <th>zip_98039</th>           <td>    1.3075</td> <td>    0.027</td> <td>   47.794</td> <td> 0.000</td> <td>    1.254</td> <td>    1.361</td>\n",
       "</tr>\n",
       "<tr>\n",
       "  <th>zip_98040</th>           <td>    0.8687</td> <td>    0.015</td> <td>   59.552</td> <td> 0.000</td> <td>    0.840</td> <td>    0.897</td>\n",
       "</tr>\n",
       "<tr>\n",
       "  <th>zip_98042</th>           <td>    0.0625</td> <td>    0.012</td> <td>    5.128</td> <td> 0.000</td> <td>    0.039</td> <td>    0.086</td>\n",
       "</tr>\n",
       "<tr>\n",
       "  <th>zip_98045</th>           <td>    0.3230</td> <td>    0.015</td> <td>   20.936</td> <td> 0.000</td> <td>    0.293</td> <td>    0.353</td>\n",
       "</tr>\n",
       "<tr>\n",
       "  <th>zip_98052</th>           <td>    0.6341</td> <td>    0.012</td> <td>   52.185</td> <td> 0.000</td> <td>    0.610</td> <td>    0.658</td>\n",
       "</tr>\n",
       "<tr>\n",
       "  <th>zip_98053</th>           <td>    0.5866</td> <td>    0.013</td> <td>   44.654</td> <td> 0.000</td> <td>    0.561</td> <td>    0.612</td>\n",
       "</tr>\n",
       "<tr>\n",
       "  <th>zip_98055</th>           <td>    0.1523</td> <td>    0.015</td> <td>   10.491</td> <td> 0.000</td> <td>    0.124</td> <td>    0.181</td>\n",
       "</tr>\n",
       "<tr>\n",
       "  <th>zip_98056</th>           <td>    0.3301</td> <td>    0.013</td> <td>   25.351</td> <td> 0.000</td> <td>    0.305</td> <td>    0.356</td>\n",
       "</tr>\n",
       "<tr>\n",
       "  <th>zip_98058</th>           <td>    0.1597</td> <td>    0.013</td> <td>   12.612</td> <td> 0.000</td> <td>    0.135</td> <td>    0.184</td>\n",
       "</tr>\n",
       "<tr>\n",
       "  <th>zip_98059</th>           <td>    0.3431</td> <td>    0.013</td> <td>   27.165</td> <td> 0.000</td> <td>    0.318</td> <td>    0.368</td>\n",
       "</tr>\n",
       "<tr>\n",
       "  <th>zip_98065</th>           <td>    0.4132</td> <td>    0.014</td> <td>   29.401</td> <td> 0.000</td> <td>    0.386</td> <td>    0.441</td>\n",
       "</tr>\n",
       "<tr>\n",
       "  <th>zip_98070</th>           <td>    0.3027</td> <td>    0.020</td> <td>   15.449</td> <td> 0.000</td> <td>    0.264</td> <td>    0.341</td>\n",
       "</tr>\n",
       "<tr>\n",
       "  <th>zip_98072</th>           <td>    0.4686</td> <td>    0.014</td> <td>   32.367</td> <td> 0.000</td> <td>    0.440</td> <td>    0.497</td>\n",
       "</tr>\n",
       "<tr>\n",
       "  <th>zip_98074</th>           <td>    0.5513</td> <td>    0.013</td> <td>   42.758</td> <td> 0.000</td> <td>    0.526</td> <td>    0.577</td>\n",
       "</tr>\n",
       "<tr>\n",
       "  <th>zip_98075</th>           <td>    0.5547</td> <td>    0.014</td> <td>   40.749</td> <td> 0.000</td> <td>    0.528</td> <td>    0.581</td>\n",
       "</tr>\n",
       "<tr>\n",
       "  <th>zip_98077</th>           <td>    0.4256</td> <td>    0.016</td> <td>   26.321</td> <td> 0.000</td> <td>    0.394</td> <td>    0.457</td>\n",
       "</tr>\n",
       "<tr>\n",
       "  <th>zip_98092</th>           <td>    0.0136</td> <td>    0.013</td> <td>    1.006</td> <td> 0.314</td> <td>   -0.013</td> <td>    0.040</td>\n",
       "</tr>\n",
       "<tr>\n",
       "  <th>zip_98102</th>           <td>    1.0074</td> <td>    0.021</td> <td>   48.758</td> <td> 0.000</td> <td>    0.967</td> <td>    1.048</td>\n",
       "</tr>\n",
       "<tr>\n",
       "  <th>zip_98103</th>           <td>    0.8597</td> <td>    0.013</td> <td>   68.022</td> <td> 0.000</td> <td>    0.835</td> <td>    0.884</td>\n",
       "</tr>\n",
       "<tr>\n",
       "  <th>zip_98105</th>           <td>    0.9758</td> <td>    0.016</td> <td>   61.804</td> <td> 0.000</td> <td>    0.945</td> <td>    1.007</td>\n",
       "</tr>\n",
       "<tr>\n",
       "  <th>zip_98106</th>           <td>    0.3894</td> <td>    0.014</td> <td>   28.089</td> <td> 0.000</td> <td>    0.362</td> <td>    0.417</td>\n",
       "</tr>\n",
       "<tr>\n",
       "  <th>zip_98107</th>           <td>    0.8827</td> <td>    0.015</td> <td>   58.607</td> <td> 0.000</td> <td>    0.853</td> <td>    0.912</td>\n",
       "</tr>\n",
       "<tr>\n",
       "  <th>zip_98108</th>           <td>    0.3926</td> <td>    0.016</td> <td>   23.914</td> <td> 0.000</td> <td>    0.360</td> <td>    0.425</td>\n",
       "</tr>\n",
       "<tr>\n",
       "  <th>zip_98109</th>           <td>    1.0226</td> <td>    0.020</td> <td>   50.603</td> <td> 0.000</td> <td>    0.983</td> <td>    1.062</td>\n",
       "</tr>\n",
       "<tr>\n",
       "  <th>zip_98112</th>           <td>    1.0758</td> <td>    0.015</td> <td>   70.458</td> <td> 0.000</td> <td>    1.046</td> <td>    1.106</td>\n",
       "</tr>\n",
       "<tr>\n",
       "  <th>zip_98115</th>           <td>    0.8434</td> <td>    0.012</td> <td>   67.692</td> <td> 0.000</td> <td>    0.819</td> <td>    0.868</td>\n",
       "</tr>\n",
       "<tr>\n",
       "  <th>zip_98116</th>           <td>    0.7859</td> <td>    0.014</td> <td>   55.617</td> <td> 0.000</td> <td>    0.758</td> <td>    0.814</td>\n",
       "</tr>\n",
       "<tr>\n",
       "  <th>zip_98117</th>           <td>    0.8477</td> <td>    0.013</td> <td>   66.982</td> <td> 0.000</td> <td>    0.823</td> <td>    0.873</td>\n",
       "</tr>\n",
       "<tr>\n",
       "  <th>zip_98118</th>           <td>    0.4953</td> <td>    0.013</td> <td>   39.055</td> <td> 0.000</td> <td>    0.470</td> <td>    0.520</td>\n",
       "</tr>\n",
       "<tr>\n",
       "  <th>zip_98119</th>           <td>    1.0099</td> <td>    0.017</td> <td>   59.527</td> <td> 0.000</td> <td>    0.977</td> <td>    1.043</td>\n",
       "</tr>\n",
       "<tr>\n",
       "  <th>zip_98122</th>           <td>    0.8440</td> <td>    0.015</td> <td>   56.828</td> <td> 0.000</td> <td>    0.815</td> <td>    0.873</td>\n",
       "</tr>\n",
       "<tr>\n",
       "  <th>zip_98125</th>           <td>    0.5862</td> <td>    0.013</td> <td>   44.722</td> <td> 0.000</td> <td>    0.561</td> <td>    0.612</td>\n",
       "</tr>\n",
       "<tr>\n",
       "  <th>zip_98126</th>           <td>    0.5930</td> <td>    0.014</td> <td>   43.012</td> <td> 0.000</td> <td>    0.566</td> <td>    0.620</td>\n",
       "</tr>\n",
       "<tr>\n",
       "  <th>zip_98133</th>           <td>    0.4803</td> <td>    0.013</td> <td>   38.177</td> <td> 0.000</td> <td>    0.456</td> <td>    0.505</td>\n",
       "</tr>\n",
       "<tr>\n",
       "  <th>zip_98136</th>           <td>    0.7117</td> <td>    0.015</td> <td>   47.781</td> <td> 0.000</td> <td>    0.682</td> <td>    0.741</td>\n",
       "</tr>\n",
       "<tr>\n",
       "  <th>zip_98144</th>           <td>    0.7067</td> <td>    0.014</td> <td>   50.254</td> <td> 0.000</td> <td>    0.679</td> <td>    0.734</td>\n",
       "</tr>\n",
       "<tr>\n",
       "  <th>zip_98146</th>           <td>    0.3043</td> <td>    0.014</td> <td>   21.267</td> <td> 0.000</td> <td>    0.276</td> <td>    0.332</td>\n",
       "</tr>\n",
       "<tr>\n",
       "  <th>zip_98148</th>           <td>    0.1699</td> <td>    0.026</td> <td>    6.632</td> <td> 0.000</td> <td>    0.120</td> <td>    0.220</td>\n",
       "</tr>\n",
       "<tr>\n",
       "  <th>zip_98155</th>           <td>    0.4415</td> <td>    0.013</td> <td>   34.552</td> <td> 0.000</td> <td>    0.416</td> <td>    0.467</td>\n",
       "</tr>\n",
       "<tr>\n",
       "  <th>zip_98166</th>           <td>    0.3137</td> <td>    0.015</td> <td>   21.186</td> <td> 0.000</td> <td>    0.285</td> <td>    0.343</td>\n",
       "</tr>\n",
       "<tr>\n",
       "  <th>zip_98168</th>           <td>    0.0993</td> <td>    0.015</td> <td>    6.815</td> <td> 0.000</td> <td>    0.071</td> <td>    0.128</td>\n",
       "</tr>\n",
       "<tr>\n",
       "  <th>zip_98177</th>           <td>    0.5995</td> <td>    0.015</td> <td>   40.328</td> <td> 0.000</td> <td>    0.570</td> <td>    0.629</td>\n",
       "</tr>\n",
       "<tr>\n",
       "  <th>zip_98178</th>           <td>    0.1688</td> <td>    0.015</td> <td>   11.476</td> <td> 0.000</td> <td>    0.140</td> <td>    0.198</td>\n",
       "</tr>\n",
       "<tr>\n",
       "  <th>zip_98188</th>           <td>    0.1064</td> <td>    0.018</td> <td>    5.881</td> <td> 0.000</td> <td>    0.071</td> <td>    0.142</td>\n",
       "</tr>\n",
       "<tr>\n",
       "  <th>zip_98198</th>           <td>    0.0740</td> <td>    0.014</td> <td>    5.154</td> <td> 0.000</td> <td>    0.046</td> <td>    0.102</td>\n",
       "</tr>\n",
       "<tr>\n",
       "  <th>zip_98199</th>           <td>    0.8805</td> <td>    0.014</td> <td>   61.604</td> <td> 0.000</td> <td>    0.853</td> <td>    0.909</td>\n",
       "</tr>\n",
       "</table>\n",
       "<table class=\"simpletable\">\n",
       "<tr>\n",
       "  <th>Omnibus:</th>       <td>1568.824</td> <th>  Durbin-Watson:     </th> <td>   1.999</td>\n",
       "</tr>\n",
       "<tr>\n",
       "  <th>Prob(Omnibus):</th>  <td> 0.000</td>  <th>  Jarque-Bera (JB):  </th> <td>7151.691</td>\n",
       "</tr>\n",
       "<tr>\n",
       "  <th>Skew:</th>           <td>-0.205</td>  <th>  Prob(JB):          </th> <td>    0.00</td>\n",
       "</tr>\n",
       "<tr>\n",
       "  <th>Kurtosis:</th>       <td> 5.789</td>  <th>  Cond. No.          </th> <td>2.56e+05</td>\n",
       "</tr>\n",
       "</table><br/><br/>Notes:<br/>[1] Standard Errors assume that the covariance matrix of the errors is correctly specified.<br/>[2] The condition number is large, 2.56e+05. This might indicate that there are<br/>strong multicollinearity or other numerical problems."
      ],
      "text/plain": [
       "<class 'statsmodels.iolib.summary.Summary'>\n",
       "\"\"\"\n",
       "                            OLS Regression Results                            \n",
       "==============================================================================\n",
       "Dep. Variable:              log_price   R-squared:                       0.885\n",
       "Model:                            OLS   Adj. R-squared:                  0.884\n",
       "Method:                 Least Squares   F-statistic:                     1631.\n",
       "Date:                Thu, 05 May 2022   Prob (F-statistic):               0.00\n",
       "Time:                        16:47:56   Log-Likelihood:                 6524.0\n",
       "No. Observations:               21597   AIC:                        -1.284e+04\n",
       "Df Residuals:                   21495   BIC:                        -1.203e+04\n",
       "Df Model:                         101                                         \n",
       "Covariance Type:            nonrobust                                         \n",
       "=======================================================================================\n",
       "                          coef    std err          t      P>|t|      [0.025      0.975]\n",
       "---------------------------------------------------------------------------------------\n",
       "Intercept               7.6132      0.157     48.368      0.000       7.305       7.922\n",
       "bedrooms               -0.0148      0.002     -8.333      0.000      -0.018      -0.011\n",
       "bathrooms               0.0405      0.003     13.947      0.000       0.035       0.046\n",
       "floors                 -0.0012      0.004     -0.348      0.728      -0.008       0.006\n",
       "waterfront              0.4827      0.016     29.403      0.000       0.450       0.515\n",
       "view                    0.0605      0.002     31.528      0.000       0.057       0.064\n",
       "condition               0.0520      0.002     24.233      0.000       0.048       0.056\n",
       "grade                   0.0994      0.002     51.036      0.000       0.096       0.103\n",
       "yr_built               -0.0003   7.25e-05     -4.766      0.000      -0.000      -0.000\n",
       "basement               -0.0407      0.003    -12.535      0.000      -0.047      -0.034\n",
       "renovated_2011_2015     0.1177      0.016      7.488      0.000       0.087       0.148\n",
       "renovated_2006_2010     0.1455      0.018      8.045      0.000       0.110       0.181\n",
       "renovated_2001_2005     0.1031      0.017      6.029      0.000       0.070       0.137\n",
       "renovated_1996_2000     0.0429      0.020      2.151      0.031       0.004       0.082\n",
       "renovated_1991_1995     0.1025      0.022      4.627      0.000       0.059       0.146\n",
       "renovated_1986_1990     0.0231      0.020      1.143      0.253      -0.016       0.063\n",
       "renovated_1981_1985     0.0008      0.024      0.034      0.973      -0.046       0.048\n",
       "renovated_1976_1980     0.0167      0.043      0.393      0.694      -0.067       0.100\n",
       "m_10                   -0.0080      0.007     -1.132      0.258      -0.022       0.006\n",
       "m_11                   -0.0070      0.007     -0.931      0.352      -0.022       0.008\n",
       "m_12                   -0.0005      0.007     -0.073      0.942      -0.015       0.014\n",
       "m_2                     0.0229      0.008      2.984      0.003       0.008       0.038\n",
       "m_3                     0.0497      0.007      7.016      0.000       0.036       0.064\n",
       "m_4                     0.0704      0.007     10.219      0.000       0.057       0.084\n",
       "m_5                     0.0110      0.007      1.615      0.106      -0.002       0.024\n",
       "m_6                     0.0030      0.007      0.435      0.664      -0.011       0.017\n",
       "m_7                    -0.0039      0.007     -0.562      0.574      -0.017       0.010\n",
       "m_8                    -0.0028      0.007     -0.396      0.692      -0.017       0.011\n",
       "m_9                    -0.0085      0.007     -1.186      0.236      -0.023       0.006\n",
       "log_sqft_living         0.3964      0.007     56.615      0.000       0.383       0.410\n",
       "log_sqft_lot            0.0753      0.004     20.882      0.000       0.068       0.082\n",
       "log_sqft_living15       0.1616      0.007     24.424      0.000       0.149       0.175\n",
       "log_sqft_lot15         -0.0217      0.004     -5.454      0.000      -0.029      -0.014\n",
       "zip_98002               0.0055      0.016      0.347      0.729      -0.026       0.037\n",
       "zip_98003               0.0148      0.014      1.038      0.299      -0.013       0.043\n",
       "zip_98004               1.1243      0.014     80.021      0.000       1.097       1.152\n",
       "zip_98005               0.7219      0.017     42.630      0.000       0.689       0.755\n",
       "zip_98006               0.6353      0.013     50.165      0.000       0.610       0.660\n",
       "zip_98007               0.6445      0.018     36.007      0.000       0.609       0.680\n",
       "zip_98008               0.6511      0.014     45.377      0.000       0.623       0.679\n",
       "zip_98010               0.2417      0.020     11.845      0.000       0.202       0.282\n",
       "zip_98011               0.4482      0.016     28.018      0.000       0.417       0.480\n",
       "zip_98014               0.3051      0.019     16.136      0.000       0.268       0.342\n",
       "zip_98019               0.3182      0.016     19.708      0.000       0.287       0.350\n",
       "zip_98022               0.0478      0.015      3.146      0.002       0.018       0.078\n",
       "zip_98023              -0.0244      0.012     -1.964      0.050      -0.049   -4.89e-05\n",
       "zip_98024               0.4250      0.022     18.983      0.000       0.381       0.469\n",
       "zip_98027               0.5122      0.013     39.305      0.000       0.487       0.538\n",
       "zip_98028               0.4093      0.014     28.674      0.000       0.381       0.437\n",
       "zip_98029               0.6041      0.014     43.341      0.000       0.577       0.631\n",
       "zip_98030               0.0485      0.015      3.309      0.001       0.020       0.077\n",
       "zip_98031               0.0689      0.014      4.783      0.000       0.041       0.097\n",
       "zip_98032              -0.0137      0.019     -0.734      0.463      -0.050       0.023\n",
       "zip_98033               0.7893      0.013     61.304      0.000       0.764       0.815\n",
       "zip_98034               0.5494      0.012     44.966      0.000       0.525       0.573\n",
       "zip_98038               0.1686      0.012     13.993      0.000       0.145       0.192\n",
       "zip_98039               1.3075      0.027     47.794      0.000       1.254       1.361\n",
       "zip_98040               0.8687      0.015     59.552      0.000       0.840       0.897\n",
       "zip_98042               0.0625      0.012      5.128      0.000       0.039       0.086\n",
       "zip_98045               0.3230      0.015     20.936      0.000       0.293       0.353\n",
       "zip_98052               0.6341      0.012     52.185      0.000       0.610       0.658\n",
       "zip_98053               0.5866      0.013     44.654      0.000       0.561       0.612\n",
       "zip_98055               0.1523      0.015     10.491      0.000       0.124       0.181\n",
       "zip_98056               0.3301      0.013     25.351      0.000       0.305       0.356\n",
       "zip_98058               0.1597      0.013     12.612      0.000       0.135       0.184\n",
       "zip_98059               0.3431      0.013     27.165      0.000       0.318       0.368\n",
       "zip_98065               0.4132      0.014     29.401      0.000       0.386       0.441\n",
       "zip_98070               0.3027      0.020     15.449      0.000       0.264       0.341\n",
       "zip_98072               0.4686      0.014     32.367      0.000       0.440       0.497\n",
       "zip_98074               0.5513      0.013     42.758      0.000       0.526       0.577\n",
       "zip_98075               0.5547      0.014     40.749      0.000       0.528       0.581\n",
       "zip_98077               0.4256      0.016     26.321      0.000       0.394       0.457\n",
       "zip_98092               0.0136      0.013      1.006      0.314      -0.013       0.040\n",
       "zip_98102               1.0074      0.021     48.758      0.000       0.967       1.048\n",
       "zip_98103               0.8597      0.013     68.022      0.000       0.835       0.884\n",
       "zip_98105               0.9758      0.016     61.804      0.000       0.945       1.007\n",
       "zip_98106               0.3894      0.014     28.089      0.000       0.362       0.417\n",
       "zip_98107               0.8827      0.015     58.607      0.000       0.853       0.912\n",
       "zip_98108               0.3926      0.016     23.914      0.000       0.360       0.425\n",
       "zip_98109               1.0226      0.020     50.603      0.000       0.983       1.062\n",
       "zip_98112               1.0758      0.015     70.458      0.000       1.046       1.106\n",
       "zip_98115               0.8434      0.012     67.692      0.000       0.819       0.868\n",
       "zip_98116               0.7859      0.014     55.617      0.000       0.758       0.814\n",
       "zip_98117               0.8477      0.013     66.982      0.000       0.823       0.873\n",
       "zip_98118               0.4953      0.013     39.055      0.000       0.470       0.520\n",
       "zip_98119               1.0099      0.017     59.527      0.000       0.977       1.043\n",
       "zip_98122               0.8440      0.015     56.828      0.000       0.815       0.873\n",
       "zip_98125               0.5862      0.013     44.722      0.000       0.561       0.612\n",
       "zip_98126               0.5930      0.014     43.012      0.000       0.566       0.620\n",
       "zip_98133               0.4803      0.013     38.177      0.000       0.456       0.505\n",
       "zip_98136               0.7117      0.015     47.781      0.000       0.682       0.741\n",
       "zip_98144               0.7067      0.014     50.254      0.000       0.679       0.734\n",
       "zip_98146               0.3043      0.014     21.267      0.000       0.276       0.332\n",
       "zip_98148               0.1699      0.026      6.632      0.000       0.120       0.220\n",
       "zip_98155               0.4415      0.013     34.552      0.000       0.416       0.467\n",
       "zip_98166               0.3137      0.015     21.186      0.000       0.285       0.343\n",
       "zip_98168               0.0993      0.015      6.815      0.000       0.071       0.128\n",
       "zip_98177               0.5995      0.015     40.328      0.000       0.570       0.629\n",
       "zip_98178               0.1688      0.015     11.476      0.000       0.140       0.198\n",
       "zip_98188               0.1064      0.018      5.881      0.000       0.071       0.142\n",
       "zip_98198               0.0740      0.014      5.154      0.000       0.046       0.102\n",
       "zip_98199               0.8805      0.014     61.604      0.000       0.853       0.909\n",
       "==============================================================================\n",
       "Omnibus:                     1568.824   Durbin-Watson:                   1.999\n",
       "Prob(Omnibus):                  0.000   Jarque-Bera (JB):             7151.691\n",
       "Skew:                          -0.205   Prob(JB):                         0.00\n",
       "Kurtosis:                       5.789   Cond. No.                     2.56e+05\n",
       "==============================================================================\n",
       "\n",
       "Notes:\n",
       "[1] Standard Errors assume that the covariance matrix of the errors is correctly specified.\n",
       "[2] The condition number is large, 2.56e+05. This might indicate that there are\n",
       "strong multicollinearity or other numerical problems.\n",
       "\"\"\""
      ]
     },
     "execution_count": 40,
     "metadata": {},
     "output_type": "execute_result"
    }
   ],
   "source": [
    "X=df_with_zips.drop('log_price', axis=1)\n",
    "outcome = 'log_price'\n",
    "x_cols = list(X.columns)\n",
    "predictors = '+'.join(x_cols)\n",
    "formula = outcome + '~' + predictors\n",
    "model = ols(formula=formula, data=df_with_zips).fit()\n",
    "model.summary()"
   ]
  },
  {
   "cell_type": "markdown",
   "id": "a847e5b2",
   "metadata": {},
   "source": [
    "### Model Residuals - Homoskedasticity\n",
    "\n",
    "Overall, the model's accuracy has improved significantly, accounting now for almost 90% of the variance in home prices. As with the last model heteroskedasticity is relatively low. "
   ]
  },
  {
   "cell_type": "code",
   "execution_count": 41,
   "id": "bf72e141",
   "metadata": {},
   "outputs": [
    {
     "data": {
      "text/plain": [
       "[<matplotlib.lines.Line2D at 0x7f7a60a13700>]"
      ]
     },
     "execution_count": 41,
     "metadata": {},
     "output_type": "execute_result"
    },
    {
     "data": {
      "image/png": "[encoded data removed]",
      "text/plain": [
       "<Figure size 432x288 with 1 Axes>"
      ]
     },
     "metadata": {
      "needs_background": "light"
     },
     "output_type": "display_data"
    }
   ],
   "source": [
    "plt.scatter(model.predict(df_with_zips[x_cols]), model.resid)\n",
    "plt.plot(model.predict(df_with_zips[x_cols]), [0 for i in range(len(df_with_zips))])"
   ]
  },
  {
   "cell_type": "markdown",
   "id": "2dcf15a7",
   "metadata": {},
   "source": [
    "### Model Residuals - Normality\n",
    "\n",
    "The model's residuals have a moderate level of kurtosis - 5.789 - as we can see from the following qqplot, which shows fat tails beyond two standard deviations from the mean. We can also see the negative skew of the residuals from the fact that the left side of the plot deviates more sharply from normal than the right side. This indicates that the even though the model reduced overall error, there are still significant outliers that are unaccounted for."
   ]
  },
  {
   "cell_type": "code",
   "execution_count": 42,
   "id": "55f48642",
   "metadata": {},
   "outputs": [
    {
     "name": "stderr",
     "output_type": "stream",
     "text": [
      "/Users/davidrichter/opt/anaconda3/lib/python3.9/site-packages/statsmodels/graphics/gofplots.py:993: UserWarning: marker is redundantly defined by the 'marker' keyword argument and the fmt string \"bo\" (-> marker='o'). The keyword argument will take precedence.\n",
      "  ax.plot(x, y, fmt, **plot_style)\n"
     ]
    },
    {
     "data": {
      "image/png": "[encoded data removed]",
      "text/plain": [
       "<Figure size 432x288 with 1 Axes>"
      ]
     },
     "metadata": {
      "needs_background": "light"
     },
     "output_type": "display_data"
    }
   ],
   "source": [
    "fig = sm.graphics.qqplot(model.resid, dist=stats.norm, line='s', fit=True)"
   ]
  },
  {
   "cell_type": "markdown",
   "id": "771aa62f",
   "metadata": {},
   "source": [
    "## Model Validation\n",
    "\n",
    "In validating this model, I'll first use a single train test split to visualize how well the model predicts prices from a subset of test data after having been trained on a separate subset of training data. Next I'll use kfolds cross-validation to run tests on multiple splits of training and testing data to determine more definitively if the model overfits on training data."
   ]
  },
  {
   "cell_type": "markdown",
   "id": "72e65818",
   "metadata": {},
   "source": [
    "#### Train test split"
   ]
  },
  {
   "cell_type": "code",
   "execution_count": 43,
   "id": "647321dd",
   "metadata": {},
   "outputs": [],
   "source": [
    "#Importing sklearn libraries to perform validation.\n",
    "\n",
    "from sklearn.metrics import mean_squared_error\n",
    "from sklearn.model_selection import cross_val_score\n",
    "from sklearn.model_selection import train_test_split\n",
    "from sklearn.linear_model import LinearRegression\n",
    "\n",
    "linreg=LinearRegression()\n",
    "\n",
    "y=df_with_zips[['log_price']]\n"
   ]
  },
  {
   "cell_type": "code",
   "execution_count": 44,
   "id": "5cf375b3",
   "metadata": {},
   "outputs": [],
   "source": [
    "#splitting the data into training and testing sets and fitting the model to the testing set.\n",
    "X_train, X_test, y_train, y_test = train_test_split(X, y)\n",
    "\n",
    "linreg.fit(X, y)\n",
    "\n",
    "y_predict = linreg.predict(X_test)"
   ]
  },
  {
   "cell_type": "code",
   "execution_count": 45,
   "id": "de28e2db",
   "metadata": {
    "scrolled": true
   },
   "outputs": [
    {
     "data": {
      "text/plain": [
       "[<matplotlib.lines.Line2D at 0x7f7a752e1970>]"
      ]
     },
     "execution_count": 45,
     "metadata": {},
     "output_type": "execute_result"
    },
    {
     "data": {
      "image/png": "[encoded data removed]",
      "text/plain": [
       "<Figure size 720x720 with 1 Axes>"
      ]
     },
     "metadata": {
      "needs_background": "light"
     },
     "output_type": "display_data"
    }
   ],
   "source": [
    "fig, ax = plt.subplots(figsize=(10, 10))\n",
    "ax.scatter(y_predict, y_test)\n",
    "ax.plot(y_predict, y_predict, color='red')"
   ]
  },
  {
   "cell_type": "markdown",
   "id": "07bd0472",
   "metadata": {},
   "source": [
    "Based on a single train-test-split, the model does not appear to be overfit, since the plot above shows a mostly tight distribution of actual prices around their predicted values."
   ]
  },
  {
   "cell_type": "markdown",
   "id": "1dc0d7e6",
   "metadata": {},
   "source": [
    "#### Kfolds Cross Validation"
   ]
  },
  {
   "cell_type": "code",
   "execution_count": 46,
   "id": "9d4ec3f5",
   "metadata": {},
   "outputs": [],
   "source": [
    "cv_5_results = np.mean(cross_val_score(linreg, X, y, cv=5, scoring='r2'))\n",
    "cv_10_results = np.mean(cross_val_score(linreg, X, y, cv=10, scoring='r2'))\n",
    "cv_20_results = np.mean(cross_val_score(linreg, X, y, cv=20, scoring='r2'))"
   ]
  },
  {
   "cell_type": "code",
   "execution_count": 47,
   "id": "b462492a",
   "metadata": {},
   "outputs": [
    {
     "name": "stdout",
     "output_type": "stream",
     "text": [
      "cross validation, 5 folds: 0.881847479496735\n",
      "cross validation, 10 folds: 0.8815515174907598\n",
      "cross validation, 20 folds: 0.8820321275171311\n"
     ]
    }
   ],
   "source": [
    "print('cross validation, 5 folds:', cv_5_results)\n",
    "print('cross validation, 10 folds:', cv_10_results)\n",
    "print('cross validation, 20 folds:', cv_20_results)"
   ]
  },
  {
   "cell_type": "markdown",
   "id": "c4188b2d",
   "metadata": {},
   "source": [
    "The mean R-squared resulting from cross-validation is 0.3% lower than the R-squared of the model when it's fit on the data set as a whole, indicating that the model doesn't overfit on training data."
   ]
  },
  {
   "cell_type": "markdown",
   "id": "324edb83",
   "metadata": {},
   "source": [
    "## Using Our Model for Inference\n",
    "\n",
    "While this model shows low bias and variance, how useful is it for making the two types of inference that we're interested in?\n",
    "\n",
    "- Best time of year to sell\n",
    "- Effects of Improvements\n",
    "\n",
    "We know that month variables don't have a significant correlation with other variables.\n",
    "\n",
    "What about variables associated with improvement?"
   ]
  },
  {
   "cell_type": "markdown",
   "id": "21bc22c4",
   "metadata": {},
   "source": [
    "### Grade and Square Footage\n",
    "\n",
    "As we see below, grade and square footage variables are highly correlated so we need to decide whether any of these variables should be eliminated from our model. "
   ]
  },
  {
   "cell_type": "code",
   "execution_count": 48,
   "id": "bd45bfa7",
   "metadata": {},
   "outputs": [
    {
     "data": {
      "text/html": [
       "<div>\n",
       "<style scoped>\n",
       "    .dataframe tbody tr th:only-of-type {\n",
       "        vertical-align: middle;\n",
       "    }\n",
       "\n",
       "    .dataframe tbody tr th {\n",
       "        vertical-align: top;\n",
       "    }\n",
       "\n",
       "    .dataframe thead th {\n",
       "        text-align: right;\n",
       "    }\n",
       "</style>\n",
       "<table border=\"1\" class=\"dataframe\">\n",
       "  <thead>\n",
       "    <tr style=\"text-align: right;\">\n",
       "      <th></th>\n",
       "      <th>correlations</th>\n",
       "    </tr>\n",
       "    <tr>\n",
       "      <th>pairs</th>\n",
       "      <th></th>\n",
       "    </tr>\n",
       "  </thead>\n",
       "  <tbody>\n",
       "    <tr>\n",
       "      <th>(log_sqft_lot15, log_sqft_lot)</th>\n",
       "      <td>0.918665</td>\n",
       "    </tr>\n",
       "    <tr>\n",
       "      <th>(bathrooms, log_sqft_living)</th>\n",
       "      <td>0.762135</td>\n",
       "    </tr>\n",
       "    <tr>\n",
       "      <th>(log_sqft_living, log_sqft_living15)</th>\n",
       "      <td>0.746836</td>\n",
       "    </tr>\n",
       "    <tr>\n",
       "      <th>(log_sqft_living, grade)</th>\n",
       "      <td>0.743038</td>\n",
       "    </tr>\n",
       "    <tr>\n",
       "      <th>(grade, log_sqft_living15)</th>\n",
       "      <td>0.689054</td>\n",
       "    </tr>\n",
       "    <tr>\n",
       "      <th>(grade, bathrooms)</th>\n",
       "      <td>0.665838</td>\n",
       "    </tr>\n",
       "  </tbody>\n",
       "</table>\n",
       "</div>"
      ],
      "text/plain": [
       "                                      correlations\n",
       "pairs                                             \n",
       "(log_sqft_lot15, log_sqft_lot)            0.918665\n",
       "(bathrooms, log_sqft_living)              0.762135\n",
       "(log_sqft_living, log_sqft_living15)      0.746836\n",
       "(log_sqft_living, grade)                  0.743038\n",
       "(grade, log_sqft_living15)                0.689054\n",
       "(grade, bathrooms)                        0.665838"
      ]
     },
     "execution_count": 48,
     "metadata": {},
     "output_type": "execute_result"
    }
   ],
   "source": [
    "#code from https://github.com/learn-co-curriculum/dsc-multicollinearity-of-features\n",
    "\n",
    "predictors = df_with_zips.drop('log_price', axis=1)\n",
    "\n",
    "predictor=predictors.corr().abs().stack().reset_index().sort_values(0, ascending=False)\n",
    "\n",
    "predictor['pairs'] = list(zip(predictor.level_0, predictor.level_1))\n",
    "predictor.set_index(['pairs'], inplace = True)\n",
    "predictor.drop(columns=['level_1', 'level_0'], inplace = True)\n",
    "predictor.columns = ['correlations']\n",
    "predictor.drop_duplicates(inplace=True)\n",
    "\n",
    "predictor[(predictor['correlations']<1)&(predictor['correlations']>=0.65)]"
   ]
  },
  {
   "cell_type": "markdown",
   "id": "6d66be83",
   "metadata": {},
   "source": [
    "While log_sqft_lot15 and log_sqft_lot are highly correlated, we're not using these variables in recommendations to our clients so it doesn't matter if they're collinear as long as they are helping to improve the model.\n",
    "\n",
    "We would also like to keep log_sqft_living15, since eliminating this variable might artificially inflate the coefficient for log_sqft_living.\n",
    "\n",
    "We would also like to keep grade, bathrooms, and log_sqft_living variables - since these are important for inference. In order to determine how well we can trust the coefficients for these variables, we perform a VIF test on our data."
   ]
  },
  {
   "cell_type": "code",
   "execution_count": 49,
   "id": "0155dc85",
   "metadata": {},
   "outputs": [
    {
     "name": "stderr",
     "output_type": "stream",
     "text": [
      "/Users/davidrichter/opt/anaconda3/lib/python3.9/site-packages/statsmodels/tsa/tsatools.py:142: FutureWarning: In a future version of pandas all arguments of concat except for the argument 'objs' will be keyword-only\n",
      "  x = pd.concat(x[::order], 1)\n"
     ]
    }
   ],
   "source": [
    "X = df_with_zips.drop('log_price', axis=1)\n",
    "X_w_const = add_constant(X)\n",
    "vif_df = calc_vif(X_w_const)"
   ]
  },
  {
   "cell_type": "code",
   "execution_count": 50,
   "id": "c65b19a2",
   "metadata": {},
   "outputs": [
    {
     "data": {
      "text/html": [
       "<div>\n",
       "<style scoped>\n",
       "    .dataframe tbody tr th:only-of-type {\n",
       "        vertical-align: middle;\n",
       "    }\n",
       "\n",
       "    .dataframe tbody tr th {\n",
       "        vertical-align: top;\n",
       "    }\n",
       "\n",
       "    .dataframe thead th {\n",
       "        text-align: right;\n",
       "    }\n",
       "</style>\n",
       "<table border=\"1\" class=\"dataframe\">\n",
       "  <thead>\n",
       "    <tr style=\"text-align: right;\">\n",
       "      <th></th>\n",
       "      <th>variables</th>\n",
       "      <th>VIF</th>\n",
       "    </tr>\n",
       "  </thead>\n",
       "  <tbody>\n",
       "    <tr>\n",
       "      <th>0</th>\n",
       "      <td>const</td>\n",
       "      <td>16642.462370</td>\n",
       "    </tr>\n",
       "    <tr>\n",
       "      <th>30</th>\n",
       "      <td>log_sqft_lot</td>\n",
       "      <td>7.116730</td>\n",
       "    </tr>\n",
       "    <tr>\n",
       "      <th>32</th>\n",
       "      <td>log_sqft_lot15</td>\n",
       "      <td>7.010257</td>\n",
       "    </tr>\n",
       "    <tr>\n",
       "      <th>29</th>\n",
       "      <td>log_sqft_living</td>\n",
       "      <td>5.925898</td>\n",
       "    </tr>\n",
       "    <tr>\n",
       "      <th>7</th>\n",
       "      <td>grade</td>\n",
       "      <td>3.504237</td>\n",
       "    </tr>\n",
       "  </tbody>\n",
       "</table>\n",
       "</div>"
      ],
      "text/plain": [
       "          variables           VIF\n",
       "0             const  16642.462370\n",
       "30     log_sqft_lot      7.116730\n",
       "32   log_sqft_lot15      7.010257\n",
       "29  log_sqft_living      5.925898\n",
       "7             grade      3.504237"
      ]
     },
     "execution_count": 50,
     "metadata": {},
     "output_type": "execute_result"
    }
   ],
   "source": [
    "vif_df.sort_values('VIF', ascending=False).head()"
   ]
  },
  {
   "cell_type": "markdown",
   "id": "4d52b999",
   "metadata": {},
   "source": [
    "The only inferential variable with a VIF above 5 is log_sqft_living. This is highly correlated with bathrooms, log_sqft_living15 and grade. Since all of these variables are positively correlated with price in our model, it's possible that their presence is artificially bringing down the value of the log_sqft_living coefficient. However, this should not be a problem for us because we're interested in giving customers conservative estimates of coefficients. \n",
    "\n",
    "It's extremely likely that the size of neighboring homes, the presence of additional bathrooms, and grade are all improving the value of homes indpendently of their size, so we want to make sure that we're not giving undue influence to size just because it's correlated with these other variables."
   ]
  },
  {
   "cell_type": "markdown",
   "id": "2f9d99f6",
   "metadata": {},
   "source": [
    "## Effect of Improvements\n",
    "\n",
    "We can now use our model to calculate how a specific set of improvements are likely to impact a home's price based on the fitted model above. \n",
    "\n",
    "I include four types of improvements:\n",
    "\n",
    "- renovated_2011_2015 (I take the effect of recent renovations as the most accurate representation of the effect of future renovations)\n",
    "- grade\n",
    "- condition\n",
    "- bathroom\n",
    "- log_sqft_living\n",
    "\n",
    "The reason that I include these variables and not others is that they  all: \n",
    "\n",
    "1. Are within the owner's control\n",
    "\n",
    "2. Have significant positive coefficients\n",
    "\n",
    "Instead of including the model's coefficient in my calculations, I'm including the bottom of the 97.5 confidence interval, since it's important to give clients a conservative estimate of their potential returns."
   ]
  },
  {
   "cell_type": "code",
   "execution_count": 51,
   "id": "554144a6",
   "metadata": {},
   "outputs": [
    {
     "name": "stdout",
     "output_type": "stream",
     "text": [
      "minimum renovated_2011_2015 factor, 97.5% confidence:  1.0908966797182778\n",
      "minimum grade improvement factor, 97.5% confidence:  1.1007590639939788\n",
      "minimum condition improvement factor, 97.5% confidence:  1.0491706553244704\n",
      "minimum bathroom improvement factor, 97% confidence:  1.0356197087996233\n",
      "minimumum sqft_living improvement exponent, 97.5% confidence:  0.383\n"
     ]
    }
   ],
   "source": [
    "print('minimum renovated_2011_2015 factor, 97.5% confidence: ', np.e**0.087)\n",
    "print('minimum grade improvement factor, 97.5% confidence: ', np.e**0.096)\n",
    "print('minimum condition improvement factor, 97.5% confidence: ', np.e**0.048)\n",
    "print('minimum bathroom improvement factor, 97% confidence: ', np.e**0.035)\n",
    "print('minimumum sqft_living improvement exponent, 97.5% confidence: ', 0.383)"
   ]
  },
  {
   "cell_type": "markdown",
   "id": "23ae415d",
   "metadata": {},
   "source": [
    "If we include the above variables in our model, we can calculate the factor by which incremental improvements in grade, condition, and proportional increase in living area increase the predicted price of a home:\n",
    "\n",
    "price increase factor = f\n",
    "\n",
    "incremental grade increase = g\n",
    "\n",
    "incremental condition increase = c\n",
    "\n",
    "incremental bathroom increase = b\n",
    "\n",
    "proportional living area increase = l\n",
    "\n",
    "f = 1.09*(1.10^g)*(1.05^c)*(1.04^b)*(l^0.383)\n",
    "\n",
    "Let's say we have a home with current value cv = 200,000. We raise the grade of the home by 1 point, the condition by 1 point and the living space by 10%.\n",
    "\n",
    "Then we have:"
   ]
  },
  {
   "cell_type": "code",
   "execution_count": 52,
   "id": "5929a7b6",
   "metadata": {},
   "outputs": [
    {
     "name": "stdout",
     "output_type": "stream",
     "text": [
      "predicted appreciation factor : 1.3579857724397717\n",
      "new value of home : 271597.15448795434\n",
      "confidence : 0.8810956933593749\n"
     ]
    }
   ],
   "source": [
    "cv=200000\n",
    "\n",
    "g = 1      # 1 point increase in grade\n",
    "c = 1      # 1 point increase in condition\n",
    "b = 1      # 1 additional bathroom\n",
    "l = 1.1    # 10% increase in square footage\n",
    "\n",
    "f = 1.09*(1.10**g)*(1.05**c)*(1.04**b)*(l**0.383)\n",
    "\n",
    "print('predicted appreciation factor :', f)\n",
    "print('new value of home :', f*cv)\n",
    "print('confidence :', 0.975**5) #where 5 is the number of coefficients"
   ]
  },
  {
   "cell_type": "markdown",
   "id": "a0d55027",
   "metadata": {},
   "source": [
    "## Model #4 - Removing renovation bins\n",
    "\n",
    "Even though we have been including renovation bins in our model, renovation is significantly different from all of the other categories we're using for inference.\n",
    "\n",
    "Adding a bathroom, increasing the square footage of a home, and improving a home's condition and grade -- these all make a measurable difference in the quality of a home. The same is not true of renovation. Renovations do entail a tangible improvement in a home's condition and grade, but in this case, the condition and grade variables should be able to do all the work that the renovation variable is doing. There are three non-exclusive possibilities for what this variable is doing in our model:\n",
    "\n",
    "1. It could be doing work that could be done by condition and grade variables.\n",
    "2. The knowledge that a house has been renovated could increase its value to buyers independently of the quality of renovations.\n",
    "3. There could be a correlation between renovation and more expensive zipcodes that isn't showing up because zipcodes are each given their own variable.\n",
    "\n",
    "Because of this uncertainty we'll remove renovation bins from our model and see how it performs."
   ]
  },
  {
   "cell_type": "code",
   "execution_count": 53,
   "id": "75bd5c6d",
   "metadata": {},
   "outputs": [],
   "source": [
    "ren_bins = ['renovated_2011_2015', 'renovated_2006_2010',\\\n",
    "            'renovated_2001_2005', 'renovated_1996_2000',\\\n",
    "            'renovated_1991_1995', 'renovated_1986_1990',\\\n",
    "            'renovated_1981_1985', 'renovated_1976_1980']"
   ]
  },
  {
   "cell_type": "code",
   "execution_count": 54,
   "id": "76615544",
   "metadata": {},
   "outputs": [],
   "source": [
    "df_no_ren = df_with_zips.drop(ren_bins, axis=1)"
   ]
  },
  {
   "cell_type": "code",
   "execution_count": 55,
   "id": "a9004a61",
   "metadata": {},
   "outputs": [
    {
     "data": {
      "text/html": [
       "<table class=\"simpletable\">\n",
       "<caption>OLS Regression Results</caption>\n",
       "<tr>\n",
       "  <th>Dep. Variable:</th>        <td>log_price</td>    <th>  R-squared:         </th>  <td>   0.884</td> \n",
       "</tr>\n",
       "<tr>\n",
       "  <th>Model:</th>                   <td>OLS</td>       <th>  Adj. R-squared:    </th>  <td>   0.883</td> \n",
       "</tr>\n",
       "<tr>\n",
       "  <th>Method:</th>             <td>Least Squares</td>  <th>  F-statistic:       </th>  <td>   1756.</td> \n",
       "</tr>\n",
       "<tr>\n",
       "  <th>Date:</th>             <td>Thu, 05 May 2022</td> <th>  Prob (F-statistic):</th>   <td>  0.00</td>  \n",
       "</tr>\n",
       "<tr>\n",
       "  <th>Time:</th>                 <td>16:48:06</td>     <th>  Log-Likelihood:    </th>  <td>  6439.0</td> \n",
       "</tr>\n",
       "<tr>\n",
       "  <th>No. Observations:</th>      <td> 21597</td>      <th>  AIC:               </th> <td>-1.269e+04</td>\n",
       "</tr>\n",
       "<tr>\n",
       "  <th>Df Residuals:</th>          <td> 21503</td>      <th>  BIC:               </th> <td>-1.194e+04</td>\n",
       "</tr>\n",
       "<tr>\n",
       "  <th>Df Model:</th>              <td>    93</td>      <th>                     </th>      <td> </td>    \n",
       "</tr>\n",
       "<tr>\n",
       "  <th>Covariance Type:</th>      <td>nonrobust</td>    <th>                     </th>      <td> </td>    \n",
       "</tr>\n",
       "</table>\n",
       "<table class=\"simpletable\">\n",
       "<tr>\n",
       "          <td></td>             <th>coef</th>     <th>std err</th>      <th>t</th>      <th>P>|t|</th>  <th>[0.025</th>    <th>0.975]</th>  \n",
       "</tr>\n",
       "<tr>\n",
       "  <th>Intercept</th>         <td>    8.0572</td> <td>    0.153</td> <td>   52.676</td> <td> 0.000</td> <td>    7.757</td> <td>    8.357</td>\n",
       "</tr>\n",
       "<tr>\n",
       "  <th>bedrooms</th>          <td>   -0.0154</td> <td>    0.002</td> <td>   -8.628</td> <td> 0.000</td> <td>   -0.019</td> <td>   -0.012</td>\n",
       "</tr>\n",
       "<tr>\n",
       "  <th>bathrooms</th>         <td>    0.0448</td> <td>    0.003</td> <td>   15.476</td> <td> 0.000</td> <td>    0.039</td> <td>    0.050</td>\n",
       "</tr>\n",
       "<tr>\n",
       "  <th>floors</th>            <td>   -0.0005</td> <td>    0.004</td> <td>   -0.138</td> <td> 0.890</td> <td>   -0.007</td> <td>    0.006</td>\n",
       "</tr>\n",
       "<tr>\n",
       "  <th>waterfront</th>        <td>    0.4847</td> <td>    0.016</td> <td>   29.471</td> <td> 0.000</td> <td>    0.452</td> <td>    0.517</td>\n",
       "</tr>\n",
       "<tr>\n",
       "  <th>view</th>              <td>    0.0607</td> <td>    0.002</td> <td>   31.539</td> <td> 0.000</td> <td>    0.057</td> <td>    0.064</td>\n",
       "</tr>\n",
       "<tr>\n",
       "  <th>condition</th>         <td>    0.0475</td> <td>    0.002</td> <td>   22.389</td> <td> 0.000</td> <td>    0.043</td> <td>    0.052</td>\n",
       "</tr>\n",
       "<tr>\n",
       "  <th>grade</th>             <td>    0.1003</td> <td>    0.002</td> <td>   51.405</td> <td> 0.000</td> <td>    0.097</td> <td>    0.104</td>\n",
       "</tr>\n",
       "<tr>\n",
       "  <th>yr_built</th>          <td>   -0.0006</td> <td> 7.02e-05</td> <td>   -7.884</td> <td> 0.000</td> <td>   -0.001</td> <td>   -0.000</td>\n",
       "</tr>\n",
       "<tr>\n",
       "  <th>basement</th>          <td>   -0.0406</td> <td>    0.003</td> <td>  -12.471</td> <td> 0.000</td> <td>   -0.047</td> <td>   -0.034</td>\n",
       "</tr>\n",
       "<tr>\n",
       "  <th>m_10</th>              <td>   -0.0077</td> <td>    0.007</td> <td>   -1.079</td> <td> 0.281</td> <td>   -0.022</td> <td>    0.006</td>\n",
       "</tr>\n",
       "<tr>\n",
       "  <th>m_11</th>              <td>   -0.0068</td> <td>    0.008</td> <td>   -0.903</td> <td> 0.367</td> <td>   -0.021</td> <td>    0.008</td>\n",
       "</tr>\n",
       "<tr>\n",
       "  <th>m_12</th>              <td>-8.355e-05</td> <td>    0.007</td> <td>   -0.011</td> <td> 0.991</td> <td>   -0.015</td> <td>    0.015</td>\n",
       "</tr>\n",
       "<tr>\n",
       "  <th>m_2</th>               <td>    0.0226</td> <td>    0.008</td> <td>    2.935</td> <td> 0.003</td> <td>    0.008</td> <td>    0.038</td>\n",
       "</tr>\n",
       "<tr>\n",
       "  <th>m_3</th>               <td>    0.0501</td> <td>    0.007</td> <td>    7.045</td> <td> 0.000</td> <td>    0.036</td> <td>    0.064</td>\n",
       "</tr>\n",
       "<tr>\n",
       "  <th>m_4</th>               <td>    0.0705</td> <td>    0.007</td> <td>   10.193</td> <td> 0.000</td> <td>    0.057</td> <td>    0.084</td>\n",
       "</tr>\n",
       "<tr>\n",
       "  <th>m_5</th>               <td>    0.0122</td> <td>    0.007</td> <td>    1.785</td> <td> 0.074</td> <td>   -0.001</td> <td>    0.026</td>\n",
       "</tr>\n",
       "<tr>\n",
       "  <th>m_6</th>               <td>    0.0033</td> <td>    0.007</td> <td>    0.469</td> <td> 0.639</td> <td>   -0.010</td> <td>    0.017</td>\n",
       "</tr>\n",
       "<tr>\n",
       "  <th>m_7</th>               <td>   -0.0028</td> <td>    0.007</td> <td>   -0.402</td> <td> 0.687</td> <td>   -0.016</td> <td>    0.011</td>\n",
       "</tr>\n",
       "<tr>\n",
       "  <th>m_8</th>               <td>   -0.0020</td> <td>    0.007</td> <td>   -0.285</td> <td> 0.775</td> <td>   -0.016</td> <td>    0.012</td>\n",
       "</tr>\n",
       "<tr>\n",
       "  <th>m_9</th>               <td>   -0.0074</td> <td>    0.007</td> <td>   -1.035</td> <td> 0.301</td> <td>   -0.022</td> <td>    0.007</td>\n",
       "</tr>\n",
       "<tr>\n",
       "  <th>log_sqft_living</th>   <td>    0.3982</td> <td>    0.007</td> <td>   56.674</td> <td> 0.000</td> <td>    0.384</td> <td>    0.412</td>\n",
       "</tr>\n",
       "<tr>\n",
       "  <th>log_sqft_lot</th>      <td>    0.0736</td> <td>    0.004</td> <td>   20.332</td> <td> 0.000</td> <td>    0.066</td> <td>    0.081</td>\n",
       "</tr>\n",
       "<tr>\n",
       "  <th>log_sqft_living15</th> <td>    0.1557</td> <td>    0.007</td> <td>   23.498</td> <td> 0.000</td> <td>    0.143</td> <td>    0.169</td>\n",
       "</tr>\n",
       "<tr>\n",
       "  <th>log_sqft_lot15</th>    <td>   -0.0204</td> <td>    0.004</td> <td>   -5.108</td> <td> 0.000</td> <td>   -0.028</td> <td>   -0.013</td>\n",
       "</tr>\n",
       "<tr>\n",
       "  <th>zip_98002</th>         <td>    0.0054</td> <td>    0.016</td> <td>    0.340</td> <td> 0.734</td> <td>   -0.026</td> <td>    0.037</td>\n",
       "</tr>\n",
       "<tr>\n",
       "  <th>zip_98003</th>         <td>    0.0134</td> <td>    0.014</td> <td>    0.934</td> <td> 0.350</td> <td>   -0.015</td> <td>    0.042</td>\n",
       "</tr>\n",
       "<tr>\n",
       "  <th>zip_98004</th>         <td>    1.1284</td> <td>    0.014</td> <td>   80.061</td> <td> 0.000</td> <td>    1.101</td> <td>    1.156</td>\n",
       "</tr>\n",
       "<tr>\n",
       "  <th>zip_98005</th>         <td>    0.7216</td> <td>    0.017</td> <td>   42.458</td> <td> 0.000</td> <td>    0.688</td> <td>    0.755</td>\n",
       "</tr>\n",
       "<tr>\n",
       "  <th>zip_98006</th>         <td>    0.6366</td> <td>    0.013</td> <td>   50.082</td> <td> 0.000</td> <td>    0.612</td> <td>    0.661</td>\n",
       "</tr>\n",
       "<tr>\n",
       "  <th>zip_98007</th>         <td>    0.6437</td> <td>    0.018</td> <td>   35.830</td> <td> 0.000</td> <td>    0.608</td> <td>    0.679</td>\n",
       "</tr>\n",
       "<tr>\n",
       "  <th>zip_98008</th>         <td>    0.6509</td> <td>    0.014</td> <td>   45.189</td> <td> 0.000</td> <td>    0.623</td> <td>    0.679</td>\n",
       "</tr>\n",
       "<tr>\n",
       "  <th>zip_98010</th>         <td>    0.2437</td> <td>    0.020</td> <td>   11.913</td> <td> 0.000</td> <td>    0.204</td> <td>    0.284</td>\n",
       "</tr>\n",
       "<tr>\n",
       "  <th>zip_98011</th>         <td>    0.4469</td> <td>    0.016</td> <td>   27.835</td> <td> 0.000</td> <td>    0.415</td> <td>    0.478</td>\n",
       "</tr>\n",
       "<tr>\n",
       "  <th>zip_98014</th>         <td>    0.3045</td> <td>    0.019</td> <td>   16.047</td> <td> 0.000</td> <td>    0.267</td> <td>    0.342</td>\n",
       "</tr>\n",
       "<tr>\n",
       "  <th>zip_98019</th>         <td>    0.3189</td> <td>    0.016</td> <td>   19.683</td> <td> 0.000</td> <td>    0.287</td> <td>    0.351</td>\n",
       "</tr>\n",
       "<tr>\n",
       "  <th>zip_98022</th>         <td>    0.0502</td> <td>    0.015</td> <td>    3.293</td> <td> 0.001</td> <td>    0.020</td> <td>    0.080</td>\n",
       "</tr>\n",
       "<tr>\n",
       "  <th>zip_98023</th>         <td>   -0.0250</td> <td>    0.012</td> <td>   -2.002</td> <td> 0.045</td> <td>   -0.049</td> <td>   -0.001</td>\n",
       "</tr>\n",
       "<tr>\n",
       "  <th>zip_98024</th>         <td>    0.4256</td> <td>    0.022</td> <td>   18.944</td> <td> 0.000</td> <td>    0.382</td> <td>    0.470</td>\n",
       "</tr>\n",
       "<tr>\n",
       "  <th>zip_98027</th>         <td>    0.5113</td> <td>    0.013</td> <td>   39.093</td> <td> 0.000</td> <td>    0.486</td> <td>    0.537</td>\n",
       "</tr>\n",
       "<tr>\n",
       "  <th>zip_98028</th>         <td>    0.4082</td> <td>    0.014</td> <td>   28.489</td> <td> 0.000</td> <td>    0.380</td> <td>    0.436</td>\n",
       "</tr>\n",
       "<tr>\n",
       "  <th>zip_98029</th>         <td>    0.6023</td> <td>    0.014</td> <td>   43.059</td> <td> 0.000</td> <td>    0.575</td> <td>    0.630</td>\n",
       "</tr>\n",
       "<tr>\n",
       "  <th>zip_98030</th>         <td>    0.0478</td> <td>    0.015</td> <td>    3.248</td> <td> 0.001</td> <td>    0.019</td> <td>    0.077</td>\n",
       "</tr>\n",
       "<tr>\n",
       "  <th>zip_98031</th>         <td>    0.0691</td> <td>    0.014</td> <td>    4.781</td> <td> 0.000</td> <td>    0.041</td> <td>    0.097</td>\n",
       "</tr>\n",
       "<tr>\n",
       "  <th>zip_98032</th>         <td>   -0.0143</td> <td>    0.019</td> <td>   -0.765</td> <td> 0.444</td> <td>   -0.051</td> <td>    0.022</td>\n",
       "</tr>\n",
       "<tr>\n",
       "  <th>zip_98033</th>         <td>    0.7901</td> <td>    0.013</td> <td>   61.143</td> <td> 0.000</td> <td>    0.765</td> <td>    0.815</td>\n",
       "</tr>\n",
       "<tr>\n",
       "  <th>zip_98034</th>         <td>    0.5473</td> <td>    0.012</td> <td>   44.634</td> <td> 0.000</td> <td>    0.523</td> <td>    0.571</td>\n",
       "</tr>\n",
       "<tr>\n",
       "  <th>zip_98038</th>         <td>    0.1698</td> <td>    0.012</td> <td>   14.045</td> <td> 0.000</td> <td>    0.146</td> <td>    0.194</td>\n",
       "</tr>\n",
       "<tr>\n",
       "  <th>zip_98039</th>         <td>    1.3106</td> <td>    0.027</td> <td>   47.774</td> <td> 0.000</td> <td>    1.257</td> <td>    1.364</td>\n",
       "</tr>\n",
       "<tr>\n",
       "  <th>zip_98040</th>         <td>    0.8735</td> <td>    0.015</td> <td>   59.695</td> <td> 0.000</td> <td>    0.845</td> <td>    0.902</td>\n",
       "</tr>\n",
       "<tr>\n",
       "  <th>zip_98042</th>         <td>    0.0646</td> <td>    0.012</td> <td>    5.281</td> <td> 0.000</td> <td>    0.041</td> <td>    0.089</td>\n",
       "</tr>\n",
       "<tr>\n",
       "  <th>zip_98045</th>         <td>    0.3233</td> <td>    0.015</td> <td>   20.883</td> <td> 0.000</td> <td>    0.293</td> <td>    0.354</td>\n",
       "</tr>\n",
       "<tr>\n",
       "  <th>zip_98052</th>         <td>    0.6334</td> <td>    0.012</td> <td>   51.934</td> <td> 0.000</td> <td>    0.609</td> <td>    0.657</td>\n",
       "</tr>\n",
       "<tr>\n",
       "  <th>zip_98053</th>         <td>    0.5867</td> <td>    0.013</td> <td>   44.500</td> <td> 0.000</td> <td>    0.561</td> <td>    0.613</td>\n",
       "</tr>\n",
       "<tr>\n",
       "  <th>zip_98055</th>         <td>    0.1511</td> <td>    0.015</td> <td>   10.376</td> <td> 0.000</td> <td>    0.123</td> <td>    0.180</td>\n",
       "</tr>\n",
       "<tr>\n",
       "  <th>zip_98056</th>         <td>    0.3301</td> <td>    0.013</td> <td>   25.257</td> <td> 0.000</td> <td>    0.304</td> <td>    0.356</td>\n",
       "</tr>\n",
       "<tr>\n",
       "  <th>zip_98058</th>         <td>    0.1606</td> <td>    0.013</td> <td>   12.636</td> <td> 0.000</td> <td>    0.136</td> <td>    0.185</td>\n",
       "</tr>\n",
       "<tr>\n",
       "  <th>zip_98059</th>         <td>    0.3444</td> <td>    0.013</td> <td>   27.166</td> <td> 0.000</td> <td>    0.320</td> <td>    0.369</td>\n",
       "</tr>\n",
       "<tr>\n",
       "  <th>zip_98065</th>         <td>    0.4127</td> <td>    0.014</td> <td>   29.251</td> <td> 0.000</td> <td>    0.385</td> <td>    0.440</td>\n",
       "</tr>\n",
       "<tr>\n",
       "  <th>zip_98070</th>         <td>    0.3039</td> <td>    0.020</td> <td>   15.454</td> <td> 0.000</td> <td>    0.265</td> <td>    0.342</td>\n",
       "</tr>\n",
       "<tr>\n",
       "  <th>zip_98072</th>         <td>    0.4679</td> <td>    0.015</td> <td>   32.200</td> <td> 0.000</td> <td>    0.439</td> <td>    0.496</td>\n",
       "</tr>\n",
       "<tr>\n",
       "  <th>zip_98074</th>         <td>    0.5503</td> <td>    0.013</td> <td>   42.529</td> <td> 0.000</td> <td>    0.525</td> <td>    0.576</td>\n",
       "</tr>\n",
       "<tr>\n",
       "  <th>zip_98075</th>         <td>    0.5548</td> <td>    0.014</td> <td>   40.606</td> <td> 0.000</td> <td>    0.528</td> <td>    0.582</td>\n",
       "</tr>\n",
       "<tr>\n",
       "  <th>zip_98077</th>         <td>    0.4253</td> <td>    0.016</td> <td>   26.204</td> <td> 0.000</td> <td>    0.393</td> <td>    0.457</td>\n",
       "</tr>\n",
       "<tr>\n",
       "  <th>zip_98092</th>         <td>    0.0152</td> <td>    0.014</td> <td>    1.123</td> <td> 0.262</td> <td>   -0.011</td> <td>    0.042</td>\n",
       "</tr>\n",
       "<tr>\n",
       "  <th>zip_98102</th>         <td>    0.9990</td> <td>    0.021</td> <td>   48.201</td> <td> 0.000</td> <td>    0.958</td> <td>    1.040</td>\n",
       "</tr>\n",
       "<tr>\n",
       "  <th>zip_98103</th>         <td>    0.8551</td> <td>    0.013</td> <td>   67.448</td> <td> 0.000</td> <td>    0.830</td> <td>    0.880</td>\n",
       "</tr>\n",
       "<tr>\n",
       "  <th>zip_98105</th>         <td>    0.9712</td> <td>    0.016</td> <td>   61.328</td> <td> 0.000</td> <td>    0.940</td> <td>    1.002</td>\n",
       "</tr>\n",
       "<tr>\n",
       "  <th>zip_98106</th>         <td>    0.3867</td> <td>    0.014</td> <td>   27.793</td> <td> 0.000</td> <td>    0.359</td> <td>    0.414</td>\n",
       "</tr>\n",
       "<tr>\n",
       "  <th>zip_98107</th>         <td>    0.8797</td> <td>    0.015</td> <td>   58.213</td> <td> 0.000</td> <td>    0.850</td> <td>    0.909</td>\n",
       "</tr>\n",
       "<tr>\n",
       "  <th>zip_98108</th>         <td>    0.3878</td> <td>    0.016</td> <td>   23.542</td> <td> 0.000</td> <td>    0.355</td> <td>    0.420</td>\n",
       "</tr>\n",
       "<tr>\n",
       "  <th>zip_98109</th>         <td>    1.0185</td> <td>    0.020</td> <td>   50.238</td> <td> 0.000</td> <td>    0.979</td> <td>    1.058</td>\n",
       "</tr>\n",
       "<tr>\n",
       "  <th>zip_98112</th>         <td>    1.0723</td> <td>    0.015</td> <td>   70.009</td> <td> 0.000</td> <td>    1.042</td> <td>    1.102</td>\n",
       "</tr>\n",
       "<tr>\n",
       "  <th>zip_98115</th>         <td>    0.8401</td> <td>    0.013</td> <td>   67.205</td> <td> 0.000</td> <td>    0.816</td> <td>    0.865</td>\n",
       "</tr>\n",
       "<tr>\n",
       "  <th>zip_98116</th>         <td>    0.7853</td> <td>    0.014</td> <td>   55.378</td> <td> 0.000</td> <td>    0.758</td> <td>    0.813</td>\n",
       "</tr>\n",
       "<tr>\n",
       "  <th>zip_98117</th>         <td>    0.8435</td> <td>    0.013</td> <td>   66.441</td> <td> 0.000</td> <td>    0.819</td> <td>    0.868</td>\n",
       "</tr>\n",
       "<tr>\n",
       "  <th>zip_98118</th>         <td>    0.4919</td> <td>    0.013</td> <td>   38.657</td> <td> 0.000</td> <td>    0.467</td> <td>    0.517</td>\n",
       "</tr>\n",
       "<tr>\n",
       "  <th>zip_98119</th>         <td>    1.0058</td> <td>    0.017</td> <td>   59.082</td> <td> 0.000</td> <td>    0.972</td> <td>    1.039</td>\n",
       "</tr>\n",
       "<tr>\n",
       "  <th>zip_98122</th>         <td>    0.8433</td> <td>    0.015</td> <td>   56.600</td> <td> 0.000</td> <td>    0.814</td> <td>    0.873</td>\n",
       "</tr>\n",
       "<tr>\n",
       "  <th>zip_98125</th>         <td>    0.5839</td> <td>    0.013</td> <td>   44.388</td> <td> 0.000</td> <td>    0.558</td> <td>    0.610</td>\n",
       "</tr>\n",
       "<tr>\n",
       "  <th>zip_98126</th>         <td>    0.5908</td> <td>    0.014</td> <td>   42.705</td> <td> 0.000</td> <td>    0.564</td> <td>    0.618</td>\n",
       "</tr>\n",
       "<tr>\n",
       "  <th>zip_98133</th>         <td>    0.4786</td> <td>    0.013</td> <td>   37.912</td> <td> 0.000</td> <td>    0.454</td> <td>    0.503</td>\n",
       "</tr>\n",
       "<tr>\n",
       "  <th>zip_98136</th>         <td>    0.7092</td> <td>    0.015</td> <td>   47.448</td> <td> 0.000</td> <td>    0.680</td> <td>    0.739</td>\n",
       "</tr>\n",
       "<tr>\n",
       "  <th>zip_98144</th>         <td>    0.7060</td> <td>    0.014</td> <td>   50.051</td> <td> 0.000</td> <td>    0.678</td> <td>    0.734</td>\n",
       "</tr>\n",
       "<tr>\n",
       "  <th>zip_98146</th>         <td>    0.3026</td> <td>    0.014</td> <td>   21.076</td> <td> 0.000</td> <td>    0.274</td> <td>    0.331</td>\n",
       "</tr>\n",
       "<tr>\n",
       "  <th>zip_98148</th>         <td>    0.1649</td> <td>    0.026</td> <td>    6.413</td> <td> 0.000</td> <td>    0.114</td> <td>    0.215</td>\n",
       "</tr>\n",
       "<tr>\n",
       "  <th>zip_98155</th>         <td>    0.4405</td> <td>    0.013</td> <td>   34.341</td> <td> 0.000</td> <td>    0.415</td> <td>    0.466</td>\n",
       "</tr>\n",
       "<tr>\n",
       "  <th>zip_98166</th>         <td>    0.3159</td> <td>    0.015</td> <td>   21.260</td> <td> 0.000</td> <td>    0.287</td> <td>    0.345</td>\n",
       "</tr>\n",
       "<tr>\n",
       "  <th>zip_98168</th>         <td>    0.0952</td> <td>    0.015</td> <td>    6.511</td> <td> 0.000</td> <td>    0.067</td> <td>    0.124</td>\n",
       "</tr>\n",
       "<tr>\n",
       "  <th>zip_98177</th>         <td>    0.5992</td> <td>    0.015</td> <td>   40.156</td> <td> 0.000</td> <td>    0.570</td> <td>    0.628</td>\n",
       "</tr>\n",
       "<tr>\n",
       "  <th>zip_98178</th>         <td>    0.1667</td> <td>    0.015</td> <td>   11.296</td> <td> 0.000</td> <td>    0.138</td> <td>    0.196</td>\n",
       "</tr>\n",
       "<tr>\n",
       "  <th>zip_98188</th>         <td>    0.1037</td> <td>    0.018</td> <td>    5.716</td> <td> 0.000</td> <td>    0.068</td> <td>    0.139</td>\n",
       "</tr>\n",
       "<tr>\n",
       "  <th>zip_98198</th>         <td>    0.0729</td> <td>    0.014</td> <td>    5.064</td> <td> 0.000</td> <td>    0.045</td> <td>    0.101</td>\n",
       "</tr>\n",
       "<tr>\n",
       "  <th>zip_98199</th>         <td>    0.8803</td> <td>    0.014</td> <td>   61.370</td> <td> 0.000</td> <td>    0.852</td> <td>    0.908</td>\n",
       "</tr>\n",
       "</table>\n",
       "<table class=\"simpletable\">\n",
       "<tr>\n",
       "  <th>Omnibus:</th>       <td>1555.202</td> <th>  Durbin-Watson:     </th> <td>   1.997</td>\n",
       "</tr>\n",
       "<tr>\n",
       "  <th>Prob(Omnibus):</th>  <td> 0.000</td>  <th>  Jarque-Bera (JB):  </th> <td>6970.275</td>\n",
       "</tr>\n",
       "<tr>\n",
       "  <th>Skew:</th>           <td>-0.209</td>  <th>  Prob(JB):          </th> <td>    0.00</td>\n",
       "</tr>\n",
       "<tr>\n",
       "  <th>Kurtosis:</th>       <td> 5.752</td>  <th>  Cond. No.          </th> <td>2.48e+05</td>\n",
       "</tr>\n",
       "</table><br/><br/>Notes:<br/>[1] Standard Errors assume that the covariance matrix of the errors is correctly specified.<br/>[2] The condition number is large, 2.48e+05. This might indicate that there are<br/>strong multicollinearity or other numerical problems."
      ],
      "text/plain": [
       "<class 'statsmodels.iolib.summary.Summary'>\n",
       "\"\"\"\n",
       "                            OLS Regression Results                            \n",
       "==============================================================================\n",
       "Dep. Variable:              log_price   R-squared:                       0.884\n",
       "Model:                            OLS   Adj. R-squared:                  0.883\n",
       "Method:                 Least Squares   F-statistic:                     1756.\n",
       "Date:                Thu, 05 May 2022   Prob (F-statistic):               0.00\n",
       "Time:                        16:48:06   Log-Likelihood:                 6439.0\n",
       "No. Observations:               21597   AIC:                        -1.269e+04\n",
       "Df Residuals:                   21503   BIC:                        -1.194e+04\n",
       "Df Model:                          93                                         \n",
       "Covariance Type:            nonrobust                                         \n",
       "=====================================================================================\n",
       "                        coef    std err          t      P>|t|      [0.025      0.975]\n",
       "-------------------------------------------------------------------------------------\n",
       "Intercept             8.0572      0.153     52.676      0.000       7.757       8.357\n",
       "bedrooms             -0.0154      0.002     -8.628      0.000      -0.019      -0.012\n",
       "bathrooms             0.0448      0.003     15.476      0.000       0.039       0.050\n",
       "floors               -0.0005      0.004     -0.138      0.890      -0.007       0.006\n",
       "waterfront            0.4847      0.016     29.471      0.000       0.452       0.517\n",
       "view                  0.0607      0.002     31.539      0.000       0.057       0.064\n",
       "condition             0.0475      0.002     22.389      0.000       0.043       0.052\n",
       "grade                 0.1003      0.002     51.405      0.000       0.097       0.104\n",
       "yr_built             -0.0006   7.02e-05     -7.884      0.000      -0.001      -0.000\n",
       "basement             -0.0406      0.003    -12.471      0.000      -0.047      -0.034\n",
       "m_10                 -0.0077      0.007     -1.079      0.281      -0.022       0.006\n",
       "m_11                 -0.0068      0.008     -0.903      0.367      -0.021       0.008\n",
       "m_12              -8.355e-05      0.007     -0.011      0.991      -0.015       0.015\n",
       "m_2                   0.0226      0.008      2.935      0.003       0.008       0.038\n",
       "m_3                   0.0501      0.007      7.045      0.000       0.036       0.064\n",
       "m_4                   0.0705      0.007     10.193      0.000       0.057       0.084\n",
       "m_5                   0.0122      0.007      1.785      0.074      -0.001       0.026\n",
       "m_6                   0.0033      0.007      0.469      0.639      -0.010       0.017\n",
       "m_7                  -0.0028      0.007     -0.402      0.687      -0.016       0.011\n",
       "m_8                  -0.0020      0.007     -0.285      0.775      -0.016       0.012\n",
       "m_9                  -0.0074      0.007     -1.035      0.301      -0.022       0.007\n",
       "log_sqft_living       0.3982      0.007     56.674      0.000       0.384       0.412\n",
       "log_sqft_lot          0.0736      0.004     20.332      0.000       0.066       0.081\n",
       "log_sqft_living15     0.1557      0.007     23.498      0.000       0.143       0.169\n",
       "log_sqft_lot15       -0.0204      0.004     -5.108      0.000      -0.028      -0.013\n",
       "zip_98002             0.0054      0.016      0.340      0.734      -0.026       0.037\n",
       "zip_98003             0.0134      0.014      0.934      0.350      -0.015       0.042\n",
       "zip_98004             1.1284      0.014     80.061      0.000       1.101       1.156\n",
       "zip_98005             0.7216      0.017     42.458      0.000       0.688       0.755\n",
       "zip_98006             0.6366      0.013     50.082      0.000       0.612       0.661\n",
       "zip_98007             0.6437      0.018     35.830      0.000       0.608       0.679\n",
       "zip_98008             0.6509      0.014     45.189      0.000       0.623       0.679\n",
       "zip_98010             0.2437      0.020     11.913      0.000       0.204       0.284\n",
       "zip_98011             0.4469      0.016     27.835      0.000       0.415       0.478\n",
       "zip_98014             0.3045      0.019     16.047      0.000       0.267       0.342\n",
       "zip_98019             0.3189      0.016     19.683      0.000       0.287       0.351\n",
       "zip_98022             0.0502      0.015      3.293      0.001       0.020       0.080\n",
       "zip_98023            -0.0250      0.012     -2.002      0.045      -0.049      -0.001\n",
       "zip_98024             0.4256      0.022     18.944      0.000       0.382       0.470\n",
       "zip_98027             0.5113      0.013     39.093      0.000       0.486       0.537\n",
       "zip_98028             0.4082      0.014     28.489      0.000       0.380       0.436\n",
       "zip_98029             0.6023      0.014     43.059      0.000       0.575       0.630\n",
       "zip_98030             0.0478      0.015      3.248      0.001       0.019       0.077\n",
       "zip_98031             0.0691      0.014      4.781      0.000       0.041       0.097\n",
       "zip_98032            -0.0143      0.019     -0.765      0.444      -0.051       0.022\n",
       "zip_98033             0.7901      0.013     61.143      0.000       0.765       0.815\n",
       "zip_98034             0.5473      0.012     44.634      0.000       0.523       0.571\n",
       "zip_98038             0.1698      0.012     14.045      0.000       0.146       0.194\n",
       "zip_98039             1.3106      0.027     47.774      0.000       1.257       1.364\n",
       "zip_98040             0.8735      0.015     59.695      0.000       0.845       0.902\n",
       "zip_98042             0.0646      0.012      5.281      0.000       0.041       0.089\n",
       "zip_98045             0.3233      0.015     20.883      0.000       0.293       0.354\n",
       "zip_98052             0.6334      0.012     51.934      0.000       0.609       0.657\n",
       "zip_98053             0.5867      0.013     44.500      0.000       0.561       0.613\n",
       "zip_98055             0.1511      0.015     10.376      0.000       0.123       0.180\n",
       "zip_98056             0.3301      0.013     25.257      0.000       0.304       0.356\n",
       "zip_98058             0.1606      0.013     12.636      0.000       0.136       0.185\n",
       "zip_98059             0.3444      0.013     27.166      0.000       0.320       0.369\n",
       "zip_98065             0.4127      0.014     29.251      0.000       0.385       0.440\n",
       "zip_98070             0.3039      0.020     15.454      0.000       0.265       0.342\n",
       "zip_98072             0.4679      0.015     32.200      0.000       0.439       0.496\n",
       "zip_98074             0.5503      0.013     42.529      0.000       0.525       0.576\n",
       "zip_98075             0.5548      0.014     40.606      0.000       0.528       0.582\n",
       "zip_98077             0.4253      0.016     26.204      0.000       0.393       0.457\n",
       "zip_98092             0.0152      0.014      1.123      0.262      -0.011       0.042\n",
       "zip_98102             0.9990      0.021     48.201      0.000       0.958       1.040\n",
       "zip_98103             0.8551      0.013     67.448      0.000       0.830       0.880\n",
       "zip_98105             0.9712      0.016     61.328      0.000       0.940       1.002\n",
       "zip_98106             0.3867      0.014     27.793      0.000       0.359       0.414\n",
       "zip_98107             0.8797      0.015     58.213      0.000       0.850       0.909\n",
       "zip_98108             0.3878      0.016     23.542      0.000       0.355       0.420\n",
       "zip_98109             1.0185      0.020     50.238      0.000       0.979       1.058\n",
       "zip_98112             1.0723      0.015     70.009      0.000       1.042       1.102\n",
       "zip_98115             0.8401      0.013     67.205      0.000       0.816       0.865\n",
       "zip_98116             0.7853      0.014     55.378      0.000       0.758       0.813\n",
       "zip_98117             0.8435      0.013     66.441      0.000       0.819       0.868\n",
       "zip_98118             0.4919      0.013     38.657      0.000       0.467       0.517\n",
       "zip_98119             1.0058      0.017     59.082      0.000       0.972       1.039\n",
       "zip_98122             0.8433      0.015     56.600      0.000       0.814       0.873\n",
       "zip_98125             0.5839      0.013     44.388      0.000       0.558       0.610\n",
       "zip_98126             0.5908      0.014     42.705      0.000       0.564       0.618\n",
       "zip_98133             0.4786      0.013     37.912      0.000       0.454       0.503\n",
       "zip_98136             0.7092      0.015     47.448      0.000       0.680       0.739\n",
       "zip_98144             0.7060      0.014     50.051      0.000       0.678       0.734\n",
       "zip_98146             0.3026      0.014     21.076      0.000       0.274       0.331\n",
       "zip_98148             0.1649      0.026      6.413      0.000       0.114       0.215\n",
       "zip_98155             0.4405      0.013     34.341      0.000       0.415       0.466\n",
       "zip_98166             0.3159      0.015     21.260      0.000       0.287       0.345\n",
       "zip_98168             0.0952      0.015      6.511      0.000       0.067       0.124\n",
       "zip_98177             0.5992      0.015     40.156      0.000       0.570       0.628\n",
       "zip_98178             0.1667      0.015     11.296      0.000       0.138       0.196\n",
       "zip_98188             0.1037      0.018      5.716      0.000       0.068       0.139\n",
       "zip_98198             0.0729      0.014      5.064      0.000       0.045       0.101\n",
       "zip_98199             0.8803      0.014     61.370      0.000       0.852       0.908\n",
       "==============================================================================\n",
       "Omnibus:                     1555.202   Durbin-Watson:                   1.997\n",
       "Prob(Omnibus):                  0.000   Jarque-Bera (JB):             6970.275\n",
       "Skew:                          -0.209   Prob(JB):                         0.00\n",
       "Kurtosis:                       5.752   Cond. No.                     2.48e+05\n",
       "==============================================================================\n",
       "\n",
       "Notes:\n",
       "[1] Standard Errors assume that the covariance matrix of the errors is correctly specified.\n",
       "[2] The condition number is large, 2.48e+05. This might indicate that there are\n",
       "strong multicollinearity or other numerical problems.\n",
       "\"\"\""
      ]
     },
     "execution_count": 55,
     "metadata": {},
     "output_type": "execute_result"
    }
   ],
   "source": [
    "X=df_no_ren.drop('log_price', axis=1)\n",
    "outcome = 'log_price'\n",
    "x_cols = list(X.columns)\n",
    "predictors = '+'.join(x_cols)\n",
    "formula = outcome + '~' + predictors\n",
    "model = ols(formula=formula, data=df_no_ren).fit()\n",
    "model.summary()"
   ]
  },
  {
   "cell_type": "markdown",
   "id": "a1d43c9a",
   "metadata": {},
   "source": [
    "Overall, the R-squared of this model is only a 0.1% below that of the previous model, which suggests that including renovation dates didn't do much for the overall predictive capacity of our model. "
   ]
  },
  {
   "cell_type": "markdown",
   "id": "0bff90d6",
   "metadata": {},
   "source": [
    "### Model 4 Cross-validation"
   ]
  },
  {
   "cell_type": "code",
   "execution_count": 56,
   "id": "4b8c4d24",
   "metadata": {},
   "outputs": [],
   "source": [
    "X=df_no_ren.drop('log_price', axis=1)\n",
    "y=df_no_ren['log_price']\n",
    "\n",
    "linreg = LinearRegression()\n",
    "X_train, X_test, y_train, y_test = train_test_split(X, y)\n",
    "\n",
    "linreg.fit(X_train, y_train)\n",
    "y_predict = linreg.predict(X_test)"
   ]
  },
  {
   "cell_type": "code",
   "execution_count": 57,
   "id": "abfbc11a",
   "metadata": {},
   "outputs": [
    {
     "data": {
      "image/png": "[encoded data removed]",
      "text/plain": [
       "<Figure size 720x720 with 1 Axes>"
      ]
     },
     "metadata": {
      "needs_background": "light"
     },
     "output_type": "display_data"
    }
   ],
   "source": [
    "fig, ax = plt.subplots(figsize=(10,10))\n",
    "ax.scatter(y_predict, y_test)\n",
    "ax.plot(y_predict, y_predict, label='predicted prices=true prices', color='red')\n",
    "ax.set_xlabel('predicted prices (logs)')\n",
    "ax.set_ylabel('actual prices (logs)')\n",
    "plt.legend()\n",
    "plt.savefig('images/train_test_plot.png')\n",
    "plt.show()"
   ]
  },
  {
   "cell_type": "code",
   "execution_count": 58,
   "id": "14ba031c",
   "metadata": {},
   "outputs": [],
   "source": [
    "cv_5_results = np.mean(cross_val_score(linreg, X, y, cv=5, scoring='r2'))\n",
    "cv_10_results = np.mean(cross_val_score(linreg, X, y, cv=10, scoring='r2'))\n",
    "cv_20_results = np.mean(cross_val_score(linreg, X, y, cv=20, scoring='r2'))"
   ]
  },
  {
   "cell_type": "code",
   "execution_count": 59,
   "id": "c5e796c1",
   "metadata": {},
   "outputs": [
    {
     "name": "stdout",
     "output_type": "stream",
     "text": [
      "cross validation, 5 folds: 0.8810232549526844\n",
      "cross validation, 10 folds: 0.880760584842743\n",
      "cross validation, 20 folds: 0.8812268943823447\n"
     ]
    }
   ],
   "source": [
    "print('cross validation, 5 folds:', cv_5_results)\n",
    "print('cross validation, 10 folds:', cv_10_results)\n",
    "print('cross validation, 20 folds:', cv_20_results)"
   ]
  },
  {
   "cell_type": "markdown",
   "id": "5d2fe378",
   "metadata": {},
   "source": [
    "Just as with the previous model, mean cross validation R-squared scores are 0.3% below the scores we get from the data set as a whole."
   ]
  },
  {
   "cell_type": "markdown",
   "id": "fcd81b60",
   "metadata": {},
   "source": [
    "### Calculating improvement factors for new model"
   ]
  },
  {
   "cell_type": "code",
   "execution_count": 60,
   "id": "2acb4b09",
   "metadata": {},
   "outputs": [
    {
     "name": "stdout",
     "output_type": "stream",
     "text": [
      "minimum grade improvement factor, 97.5% confidence:  1.1018603736210106\n",
      "minimum condition improvement factor, 97.5% confidence:  1.0439378948506126\n",
      "minimum bathroom improvement factor, 97.5% confidence:  1.0397704836501578\n",
      "minimumum log_living_sqft improvement exponent, 97.5% confidence:  0.384\n"
     ]
    }
   ],
   "source": [
    "print('minimum grade improvement factor, 97.5% confidence: ', np.e**0.097)\n",
    "print('minimum condition improvement factor, 97.5% confidence: ', np.e**0.043)\n",
    "print('minimum bathroom improvement factor, 97.5% confidence: ', np.e**0.039)\n",
    "print('minimumum log_living_sqft improvement exponent, 97.5% confidence: ', 0.384)"
   ]
  },
  {
   "cell_type": "markdown",
   "id": "cd075cad",
   "metadata": {},
   "source": [
    "Using the same improvements as the last time to predict a house's price increase, we get:"
   ]
  },
  {
   "cell_type": "code",
   "execution_count": 61,
   "id": "9135d6d3",
   "metadata": {},
   "outputs": [
    {
     "name": "stdout",
     "output_type": "stream",
     "text": [
      "predicted appreciation factor : 1.2341108054304468\n",
      "new value of home : 246822.16108608936\n",
      "confidence : 0.9036878906249999\n"
     ]
    }
   ],
   "source": [
    "cv=200000\n",
    "\n",
    "g = 1       #1 point increase in grade\n",
    "c = 1       #1 point increase in condition\n",
    "l = 1.1     #10% increase in square footage\n",
    "b = 1       #1 additional bathroom\n",
    "\n",
    "f = (1.10**g)*(1.04**c)*(1.04**b)*(l**0.384)\n",
    "\n",
    "print('predicted appreciation factor :', f)\n",
    "print('new value of home :', f*cv)\n",
    "print('confidence :', 0.975**4) ## with only four variables we will have a higher degree of confidence"
   ]
  },
  {
   "cell_type": "markdown",
   "id": "f38dc8a9",
   "metadata": {},
   "source": [
    "The factor for condition went down from 1.05 to 1.04, while the factor for square footage went up from 0.383 to 0.384.\n",
    "\n",
    "The biggest change in this model is therefore the elimination of the renovation factor, which was raising the predicted price 9%.\n",
    "\n",
    "By getting rid of this variable our estimated increase has gone down, but our confidence has increased from 88.1% to 90.4%.\n",
    "\n",
    "#### What was the renovation variable doing?\n",
    "\n",
    "The renovation variable clearly wasn't dependent on grade or condition, because if it was, eliminating it would have increased these variable's coefficients significantly. \n",
    "\n",
    "It also seemed to have a small overall effect on the model, accounting for only 0.1% of the model's R_squared.\n",
    "\n",
    "This leaves the possibility there was a relationship between these renovation variables and zipcode variables, a hypothesis we can test by looking at the difference between zipcode coefficients in Models 4 and 5. If they increased significantly, this would indicate that renovations were more common in some neighborhoods than in others."
   ]
  },
  {
   "cell_type": "markdown",
   "id": "9f03c80c",
   "metadata": {},
   "source": [
    "## Recommendations"
   ]
  },
  {
   "cell_type": "markdown",
   "id": "c453c26c",
   "metadata": {},
   "source": [
    "### 1. Expected value of improvements.\n",
    "\n",
    "Based on this analysis, we can use our model to make recommendations to our clients about the predicted value of specific types of home improvements, where each price increase factor is given with 97.5% confidence:\n",
    "\n",
    "- 1 point grade increase: minimum 10% increase in price\n",
    "- 1 point condition increase: minimum 4% increase in price\n",
    "- 1 additional bathroom: minimum 4% increase in price\n",
    "- 1% increase in living area: minimum ~0.038% increase in price\n",
    " "
   ]
  },
  {
   "cell_type": "markdown",
   "id": "6bac1984",
   "metadata": {},
   "source": [
    "Below, we use the sample inputs from above to predict the appreciation of a 200,000 dollar house based on:\n",
    "\n",
    "- 1 point grade increase\n",
    "- 1 point condition increase\n",
    "- 1 added bathroom\n",
    "- 10% increase in living area\n",
    "\n",
    "We then multiply this number by the product of the confidence levels for all four variables to calculate a risk-corrected expected return."
   ]
  },
  {
   "cell_type": "code",
   "execution_count": 62,
   "id": "26e4f62c",
   "metadata": {},
   "outputs": [
    {
     "name": "stdout",
     "output_type": "stream",
     "text": [
      "original value:  200000\n",
      "minimum added value of improvements (90.4% confidence):  46822.161086089356\n",
      "risk-corrected expected return:  42327.23362182478\n"
     ]
    }
   ],
   "source": [
    "print('original value: ', 200000)\n",
    "added_value = 200000*(1.10**g)*(1.04**c)*(1.04**b)*(l**0.384) - 200000\n",
    "print('minimum added value of improvements (90.4% confidence): ', added_value)\n",
    "print('risk-corrected expected return: ', added_value*0.904)"
   ]
  },
  {
   "cell_type": "markdown",
   "id": "9caa48bb",
   "metadata": {},
   "source": [
    "Our clients should only do the proposed improvements if they can keep costs below the risk-corrected expected return of 42,327. \n",
    "\n",
    "If they want to add a bathroom without making any other changes, we get the following calculation:"
   ]
  },
  {
   "cell_type": "code",
   "execution_count": 63,
   "id": "34c2c214",
   "metadata": {},
   "outputs": [
    {
     "name": "stdout",
     "output_type": "stream",
     "text": [
      "original value:  200000\n",
      "minimum added value of improvements (97.5% confidence):  8000.0\n",
      "risk-corrected expected return:  7800.0\n"
     ]
    }
   ],
   "source": [
    "print('original value: ', 200000)\n",
    "added_value = 200000*(1.04) - 200000\n",
    "print('minimum added value of improvements (97.5% confidence): ', added_value)\n",
    "print('risk-corrected expected return: ', added_value*0.975)"
   ]
  },
  {
   "cell_type": "markdown",
   "id": "024dc06c",
   "metadata": {},
   "source": [
    "In this case the client should spend no more than 7,800 adding an additional bathroom."
   ]
  },
  {
   "cell_type": "markdown",
   "id": "badd7fe7",
   "metadata": {},
   "source": [
    "### 2. Ideal Time of Year to Sell.\n",
    "\n",
    "Houses sold in March go for an expected 5% above the January baseline, while houses sold in April go for an expected 7% above the January baseline. Consequently, clients are advised to try to sell their homes during these months."
   ]
  },
  {
   "cell_type": "markdown",
   "id": "e3888be7",
   "metadata": {},
   "source": [
    "## Further Questions\n",
    "\n",
    "Comparing models 4 and 5 more closely could help to explain where the coefficients associated with the renovation bins are coming from. This could be done by plotting zipcode coefficients against the renovation rate per zipcode and seeing if these variables are correlated. \n",
    "\n",
    "If it turns out that there is no relationship between zipcode prices and renovation rate then we would probably be justified in assuming that renovation itself, independent of the specific improvements that renovation entails, is a significant factor in the price of a home.\n"
   ]
  },
  {
   "cell_type": "code",
   "execution_count": null,
   "id": "548a2d63",
   "metadata": {},
   "outputs": [],
   "source": []
  }
 ],
 "metadata": {
  "kernelspec": {
   "display_name": "Python 3 (ipykernel)",
   "language": "python",
   "name": "python3"
  },
  "language_info": {
   "codemirror_mode": {
    "name": "ipython",
    "version": 3
   },
   "file_extension": ".py",
   "mimetype": "text/x-python",
   "name": "python",
   "nbconvert_exporter": "python",
   "pygments_lexer": "ipython3",
   "version": "3.9.7"
  }
 },
 "nbformat": 4,
 "nbformat_minor": 5
}
